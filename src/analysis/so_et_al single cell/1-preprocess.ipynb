{
 "cells": [
  {
   "cell_type": "markdown",
   "metadata": {},
   "source": [
    "# Import Library & Set Globals"
   ]
  },
  {
   "cell_type": "code",
   "execution_count": null,
   "metadata": {},
   "outputs": [
    {
     "name": "stderr",
     "output_type": "stream",
     "text": [
      "/mnt/DATA/home/ethung/snRNAseq_analysis/.venv/lib/python3.12/site-packages/scvi/__init__.py:31: DeprecationWarning: scvi is deprecated, please uninstall scvi via `pip uninstall scvi` and install the new scvi-tools package at github.com/YosefLab/scvi-tools\n",
      "/mnt/DATA/home/ethung/snRNAseq_analysis/.venv/lib/python3.12/site-packages/phenograph/cluster.py:13: DeprecationWarning: Please import `spmatrix` from the `scipy.sparse` namespace; the `scipy.sparse.base` namespace is deprecated and will be removed in SciPy 2.0.0.\n",
      "INFO:rpy2.situation:cffi mode is CFFI_MODE.ANY\n",
      "INFO:rpy2.situation:R home found: /opt/R/4.4.1/lib/R\n",
      "INFO:rpy2.situation:R library path: /opt/R/4.4.1/lib/R/lib:/usr/local/lib:/usr/lib/x86_64-linux-gnu:/usr/lib/jvm/java-11-openjdk-amd64/lib/server\n",
      "INFO:rpy2.situation:LD_LIBRARY_PATH: /opt/R/4.4.1/lib/R/lib:/usr/local/lib:/usr/lib/x86_64-linux-gnu:/usr/lib/jvm/java-11-openjdk-amd64/lib/server\n",
      "INFO:rpy2.rinterface_lib.embedded:Default options to initialize R: rpy2, --quiet, --no-save\n",
      "INFO:rpy2.rinterface_lib.embedded:R is already initialized. No need to initialize.\n"
     ]
    }
   ],
   "source": [
    "# base\n",
    "import os\n",
    "import sys\n",
    "import warnings\n",
    "import logging\n",
    "logging.basicConfig(level='INFO')\n",
    "warnings.simplefilter(\"ignore\", FutureWarning)\n",
    "warnings.simplefilter(\"ignore\", UserWarning)\n",
    "warnings.simplefilter(\"ignore\", RuntimeWarning)\n",
    "\n",
    "# data manipulation\n",
    "import pickle\n",
    "import pandas as pd\n",
    "import numpy as np\n",
    "import seaborn as sns\n",
    "import matplotlib.pyplot as plt\n",
    "warnings.simplefilter(\"ignore\", pd.errors.DtypeWarning)\n",
    "warnings.simplefilter(\"ignore\", pd.errors.PerformanceWarning)\n",
    "mlogger = logging.getLogger('matplotlib')\n",
    "mlogger.setLevel(logging.WARNING)\n",
    "\n",
    "# single cell\n",
    "import scanpy as sc\n",
    "import decoupler as dc\n",
    "from liana.method import cellphonedb\n",
    "\n",
    "# custom\n",
    "sys.path.append('../..')\n",
    "from py import *\n",
    "\n",
    "import rpy2.robjects as ro\n",
    "from rpy2.robjects.conversion import localconverter\n",
    "from py.R import get_converter,R_preload\n",
    "converter = get_converter()\n",
    "\n",
    "# R_preload()\n",
    "%load_ext rpy2.ipython"
   ]
  },
  {
   "cell_type": "code",
   "execution_count": 4,
   "metadata": {},
   "outputs": [],
   "source": [
    "%matplotlib inline\n",
    "study = \"paper_processed_FULL\"\n",
    "\n",
    "CORES = 10\n",
    "DATADIR = \"../../../data\"\n",
    "REFDIR = \"../../../references\"\n",
    "DOUBLETMETHODS = ['scDblFinder','DoubletFinder','doubletdetection','scrublet']"
   ]
  },
  {
   "cell_type": "markdown",
   "metadata": {},
   "source": [
    "# Access adata"
   ]
  },
  {
   "cell_type": "code",
   "execution_count": null,
   "metadata": {},
   "outputs": [],
   "source": [
    "study = \"paper_processed\"\n",
    "\n",
    "# experiment = os.path.join('cellbender',study)\n",
    "# filename = \"output_filtered\"\n",
    "# filetype = \".h5\"\n",
    "# data_dir = DATADIR\n",
    "\n",
    "experiment_dir = os.path.join('cellranger',study)\n",
    "filename = \"1/outs/raw_feature_bc_matrix\"\n",
    "filetype = \".mtx\"\n",
    "data_dir = DATADIR\n",
    "convertR = False\n",
    "\n",
    "adatas = get_data(data_dir,experiment_dir,filename,filetype, convertR)\n",
    "\n",
    "for d in adatas:\n",
    "    d.obs['Groups'] = d.obs['Identifier']\n",
    "    d.obs['Experiment'], d.obs['Condition'], d.obs['Sample Type'] = np.array(d.obs['Identifier'].str.split('-|_').to_list()).T"
   ]
  },
  {
   "cell_type": "markdown",
   "metadata": {},
   "source": [
    "## Data Structures"
   ]
  },
  {
   "cell_type": "markdown",
   "metadata": {},
   "source": [
    "#### SingleCellExperiment object (in R) is presented below\n",
    "![SingleCellExperiment Object (in R)](https://hbctraining.github.io/scRNA-seq/img/sce_description.png)\n",
    "\n",
    "#### AnnData object (in Python) is similar!\n",
    "* **Assay** data is stored in `adata.X`\n",
    "* **Feature Metadata** is stored in `adata.vars`\n",
    "* **Cell Metadata** is stored in `adata.obs`\n",
    "* **Dimensionality Reduction** (and other multicolumn data by cell) is stored in `adata.obsm`\n",
    "* additional layers are stored in `adata.layers` & `adata.raw`"
   ]
  },
  {
   "cell_type": "markdown",
   "metadata": {},
   "source": [
    "# Preprocessing"
   ]
  },
  {
   "cell_type": "markdown",
   "metadata": {},
   "source": [
    "### QC"
   ]
  },
  {
   "cell_type": "code",
   "execution_count": null,
   "metadata": {},
   "outputs": [],
   "source": [
    "adatas = [Filter_QC(dat, mt_perc=15, ribo_perc=15, verbose=True) for dat in adatas]\n",
    "PlotQC = True\n",
    "adatas"
   ]
  },
  {
   "cell_type": "markdown",
   "metadata": {},
   "source": [
    "#### QC Plots"
   ]
  },
  {
   "cell_type": "markdown",
   "metadata": {},
   "source": [
    "Plot QC Filters for 1 dataset"
   ]
  },
  {
   "cell_type": "code",
   "execution_count": null,
   "metadata": {},
   "outputs": [],
   "source": [
    "if PlotQC:\n",
    "    # sns.displot(adata[1].obs['total_counts'], bins=100, kde=False).figure\n",
    "    tmp = adatas[0]\n",
    "    sc.pl.violin(\n",
    "        tmp,\n",
    "        [\"n_genes_by_counts\", \"total_counts\", \"pct_counts_mt\"],\n",
    "        jitter=0.4,\n",
    "        multi_panel=True\n",
    "    )\n",
    "    sc.pl.scatter(tmp, \"total_counts\", \"n_genes_by_counts\", color=\"pct_counts_mt\")"
   ]
  },
  {
   "cell_type": "markdown",
   "metadata": {},
   "source": [
    "Plot QC Metrics for all datasets"
   ]
  },
  {
   "cell_type": "code",
   "execution_count": null,
   "metadata": {},
   "outputs": [],
   "source": [
    "def QC_Plot(df, value, groupby):\n",
    "    sns.set(style=\"white\", rc={\"axes.facecolor\": (0, 0, 0, 0)})\n",
    "\n",
    "    g = sns.FacetGrid(df, row=groupby, hue=groupby, aspect=15, height=0.5, palette=\"tab20\")\n",
    "\n",
    "    g.map(sns.kdeplot, value, clip_on=False, fill=True, alpha=1, linewidth=1.5)\n",
    "    g.map(sns.kdeplot, value, clip_on=False, color=\"w\", lw=2)\n",
    "\n",
    "    g.map(plt.axhline, y=0, lw=2, clip_on=False)\n",
    "\n",
    "    def label(x, color, label):\n",
    "        ax = plt.gca()\n",
    "        ax.text(0, .2, label, fontweight=\"bold\", color=color,\n",
    "                ha=\"left\", va=\"center\", transform=ax.transAxes)\n",
    "\n",
    "    g.map(label, value)\n",
    "\n",
    "    g.figure.subplots_adjust(hspace=-.6)\n",
    "\n",
    "    g.set_titles(\"\")\n",
    "    g.set(yticks=[], ylabel=\"\")\n",
    "    g.despine(bottom=True, left=True)\n",
    "\n",
    "    for ax in g.axes.flat:\n",
    "        ax.axvline(x=df[value].median(), color='r', linestyle='-')\n",
    "\n",
    "    return g.figure\n",
    "\n",
    "if PlotQC:\n",
    "    df = pd.concat([x.obs for x in adatas])\n",
    "    groupby = 'Groups'\n",
    "    df = df.sort_values(groupby)\n",
    "\n",
    "    QC_Plot(df,\"log1p_total_counts\",groupby)\n",
    "    QC_Plot(df,\"pct_counts_mt\",groupby)\n",
    "    QC_Plot(df,\"n_genes\",groupby)\n",
    "    QC_Plot(df,\"pct_counts_in_top_20_genes\",groupby)"
   ]
  },
  {
   "cell_type": "markdown",
   "metadata": {},
   "source": [
    "### Doublets"
   ]
  },
  {
   "cell_type": "code",
   "execution_count": null,
   "metadata": {},
   "outputs": [],
   "source": [
    "print(\"methods available:\", DOUBLETMETHODS)\n",
    "compare_doublets = True\n",
    "method = 'scDblFinder'\n",
    "method_short = 'scDF'\n",
    "\n",
    "if compare_doublets is True:\n",
    "    for method in DOUBLETMETHODS:\n",
    "        adatas = [Filter_Doublet(dat,method,remove=False) for dat in adatas]\n",
    "\n",
    "else:\n",
    "    print(f\"Doublet method selected: {method}\\n\")\n",
    "    adatas = [Filter_Doublet(dat,method,remove=True) for dat in adatas]\n",
    "    for dat in adatas:\n",
    "        print(len(dat), dat.uns['doublets_removed'])\n",
    "        \n",
    "adatas"
   ]
  },
  {
   "cell_type": "code",
   "execution_count": null,
   "metadata": {},
   "outputs": [],
   "source": [
    "# save\n",
    "annotation = method_short\n",
    "\n",
    "savedir = os.path.join(DATADIR,'processed', study, 'py', '1_preprocessed')\n",
    "os.makedirs(savedir, exist_ok=True)\n",
    "with open(os.path.join(savedir, f'{annotation}.pickle'), 'wb') as handle:\n",
    "    pickle.dump(adatas, handle)"
   ]
  },
  {
   "cell_type": "markdown",
   "metadata": {},
   "source": [
    "# Integration"
   ]
  },
  {
   "cell_type": "markdown",
   "metadata": {},
   "source": [
    "### Pre-Doublet Integration"
   ]
  },
  {
   "cell_type": "code",
   "execution_count": null,
   "metadata": {},
   "outputs": [],
   "source": [
    "# load adata\n",
    "annotation = \"hasDoublets\"\n",
    "with open(os.path.join(DATADIR,'processed',study,'py',\n",
    "                                  '1_preprocessed', f'{annotation}.pickle'),\n",
    "                                  'rb') as handle:\n",
    "    adatas = pickle.load(handle)"
   ]
  },
  {
   "cell_type": "code",
   "execution_count": null,
   "metadata": {},
   "outputs": [],
   "source": [
    "batch_column = 'Groups'\n",
    "hvg_kind = 'seurat_v3'\n",
    "int_kind = 'harmony'\n",
    "\n",
    "# merge\n",
    "adata = sc.concat(adatas, join='outer')\n",
    "adata.raw = adata.copy()\n",
    "\n",
    "# process & integrate\n",
    "adata = Normalize(adata, kind='log1p', batch_column=batch_column)\n",
    "adata = FindVariableGenes(adata, kind=hvg_kind, batch_column=batch_column)\n",
    "adata = Integrate(adata, kind = int_kind, batch_column=batch_column, use_var_genes=False)\n",
    "adata = Visualize(adata, key=\"_doublet\")"
   ]
  },
  {
   "cell_type": "code",
   "execution_count": null,
   "metadata": {},
   "outputs": [],
   "source": [
    "# save\n",
    "annotation = \"hasDoublets\"\n",
    "savedir = os.path.join(DATADIR,'processed',study,'py','2_integrated')\n",
    "os.makedirs(savedir, exist_ok=True)\n",
    "adata.write(os.path.join(savedir, f'{annotation}.h5ad'))"
   ]
  },
  {
   "cell_type": "markdown",
   "metadata": {},
   "source": [
    "### Post-Doublet Integration"
   ]
  },
  {
   "cell_type": "code",
   "execution_count": null,
   "metadata": {},
   "outputs": [],
   "source": [
    "# load data\n",
    "annotation = \"doublet_cleaned\"\n",
    "adata = sc.read_h5ad(os.path.join(DATADIR,'processed',study,'py',\n",
    "                                  '1_preprocessed', f'{annotation}.h5ad'))\n",
    "try:\n",
    "    del adata.uns, adata.var, adata.obsm, adata.varm, adata.obsp, adata.layers[\"normalized\"]\n",
    "except:\n",
    "    pass"
   ]
  },
  {
   "cell_type": "code",
   "execution_count": null,
   "metadata": {},
   "outputs": [],
   "source": [
    "print(f\"Doublets removed: {adata.obs[\"manual_doublet\"].sum()}\")\n",
    "adata = adata[~adata.obs[\"manual_doublet\"]]\n",
    "\n",
    "f,ax = plt.subplots(1,1,figsize=(6,8),layout=\"constrained\")\n",
    "doublet_df = pd.DataFrame([adata.obs.groupby('leiden_doublets')[f'predicted_doublet-{method}'].mean().sort_values() for method in DOUBLETMETHODS]).T\n",
    "doublet_df.columns = doublet_df.columns.str.replace('predicted_doublet-','', regex=True)\n",
    "sns.heatmap(doublet_df, ax=ax)\n",
    "ax.set_xticklabels(ax.get_xticklabels(), rotation=0)"
   ]
  },
  {
   "cell_type": "code",
   "execution_count": null,
   "metadata": {},
   "outputs": [],
   "source": [
    "batch_column = 'Groups'\n",
    "hvg_kind = 'seurat_v3'\n",
    "int_kind = 'harmony'\n",
    "\n",
    "# process & integrate\n",
    "adata = Normalize(adata, kind='log1p', batch_column=batch_column)\n",
    "adata = FindVariableGenes(adata, kind=hvg_kind, batch_column=batch_column)\n",
    "adata = Integrate(adata, kind = int_kind, batch_column=batch_column, use_var_genes=False)\n",
    "adata = Visualize(adata)"
   ]
  },
  {
   "cell_type": "code",
   "execution_count": null,
   "metadata": {},
   "outputs": [],
   "source": [
    "# save\n",
    "annotation = \"manDoublet-seuratV3-harmony\"\n",
    "savedir = os.path.join(DATADIR,'processed',study,'py','2_integrated')\n",
    "os.makedirs(savedir, exist_ok=True)\n",
    "adata.write(os.path.join(savedir, f'{annotation}.h5ad'))"
   ]
  },
  {
   "cell_type": "markdown",
   "metadata": {},
   "source": [
    "### Plot"
   ]
  },
  {
   "cell_type": "code",
   "execution_count": null,
   "metadata": {},
   "outputs": [],
   "source": [
    "annotation = \"manDoublet-seuratV3-harmony\"\n",
    "adata = sc.read_h5ad(os.path.join(DATADIR,'processed',study,'py',\n",
    "                                  '2_integrated', f'{annotation}.h5ad'))\n",
    "key = \"\""
   ]
  },
  {
   "cell_type": "code",
   "execution_count": null,
   "metadata": {},
   "outputs": [],
   "source": [
    "# plot embeddings\n",
    "f = plt.figure(figsize=(13,5), layout=\"constrained\")\n",
    "check_integration(adata, \"Groups\", f, embeddings=[\"X_umap\"+key,\"LocalMAP\"+key], mini=True)\n",
    "f = plt.figure(figsize=(18,12), layout=\"constrained\")\n",
    "check_integration(adata, \"Groups\", f, embeddings=[\"X_umap\"+key,\"LocalMAP\"+key], nrow=2, ncol=2, mini=False)"
   ]
  },
  {
   "cell_type": "code",
   "execution_count": null,
   "metadata": {},
   "outputs": [],
   "source": [
    "# Feature marker plots\n",
    "markers = [\"Adipoq\", \"Pdgfra\", \"Upk3b\", \"Cdh5\", \"Rgs5\", \"Adgre1\", \"Flt3\", \"Cpa3\", \"Skap1\", \"Igkc\"]\n",
    "sc.pl.embedding(adata, basis=\"X_umap\"+key, color=markers, layer='normalized')\n",
    "sc.pl.embedding(adata, basis=\"LocalMAP\"+key, color=markers, layer='normalized')"
   ]
  },
  {
   "cell_type": "markdown",
   "metadata": {},
   "source": [
    "# Analysis"
   ]
  },
  {
   "cell_type": "markdown",
   "metadata": {},
   "source": [
    "## Overall Clustering"
   ]
  },
  {
   "cell_type": "markdown",
   "metadata": {},
   "source": [
    "### Pre-Doublet Cluster"
   ]
  },
  {
   "cell_type": "code",
   "execution_count": null,
   "metadata": {},
   "outputs": [],
   "source": [
    "# load data\n",
    "annotation = \"hasDoublets\"\n",
    "adata = sc.read_h5ad(os.path.join(DATADIR,'processed',study,'py',\n",
    "                                  '2_integrated', f'{annotation}.h5ad'))\n",
    "# adata.obs[\"Groups\"] = pd.Categorical(adata.obs[\"Groups\"],categories=['LFD_eWAT', 'HFD_eWAT', 'LFD_iWAT', 'HFD_iWAT'], ordered=True)"
   ]
  },
  {
   "cell_type": "code",
   "execution_count": null,
   "metadata": {},
   "outputs": [],
   "source": [
    "resolution = 1\n",
    "runCluster = True\n",
    "\n",
    "# leiden clustering\n",
    "key = 'leiden_doublets'\n",
    "if runCluster is True:\n",
    "    sc.tl.leiden(adata, resolution,random_state=123, key_added=key)\n",
    "    print(f\"{len(adata.obs[key].unique())} clusters found at resolution {int(adata.uns[key]['params']['resolution'])}!\")\n",
    "\n",
    "# figure prept\n",
    "cluster_c = color_gen(adata.obs[key])\n",
    "f = plt.figure(figsize=(25,15),layout=\"constrained\")\n",
    "sf = f.subfigures(1,2, width_ratios=[2, 1.5])\n",
    "\n",
    "axs = sf[0].subplots(3,3)\n",
    "gs = axs[0,0].get_gridspec()\n",
    "empty_axs(axs)\n",
    "\n",
    "# Large LocalMAP plot\n",
    "embedding = \"X_umap\" #\"LocalMAP\" #\"X_umap\"\n",
    "ax = sf[0].add_subplot(gs[:2,:])\n",
    "sc.pl.embedding(adata, basis=embedding, color=[key], ax=ax, show=False,\n",
    "                legend_loc='on data', legend_fontoutline=2, legend_fontsize=20, palette=cluster_c.to_list())\n",
    "ax = sf[0].add_subplot(gs[2,0])\n",
    "sc.pl.embedding(adata, basis=embedding, color=['Groups'], ax=ax, show=False, alpha=0.7, legend_loc=\"none\")\n",
    "ax = sf[0].add_subplot(gs[2,1])\n",
    "sc.pl.embedding(adata, basis=embedding, color=['Condition'], ax=ax, show=False, alpha=0.7)\n",
    "ax = sf[0].add_subplot(gs[2,2])\n",
    "sc.pl.embedding(adata, basis=embedding, color=['Sample Type'], ax=ax, show=False, alpha=0.7)\n",
    "\n",
    "# Violin marker plots\n",
    "markers = [\"Adipoq\", \"Pdgfra\", \"Upk3b\", \"Cdh5\", \"Rgs5\", \"Adgre1\", \"Flt3\", \"Cpa3\", \"Skap1\", \"Igkc\"]\n",
    "plot_violinplot(adata, markers, key, sf[1])"
   ]
  },
  {
   "cell_type": "code",
   "execution_count": null,
   "metadata": {},
   "outputs": [],
   "source": [
    "checkDoublets(adata,'X_umap_doublet','leiden_doublets')"
   ]
  },
  {
   "cell_type": "code",
   "execution_count": null,
   "metadata": {},
   "outputs": [],
   "source": [
    "sc.tl.rank_genes_groups(adata, groupby='leiden',layer=\"normalized\", use_raw=False)\n",
    "gene_groups = sc.get.rank_genes_groups_df(adata, group=None)"
   ]
  },
  {
   "cell_type": "code",
   "execution_count": null,
   "metadata": {},
   "outputs": [],
   "source": [
    "doublet_clusters = pd.Series([11,15,16,23,21,26,14,28]).astype(str)\n",
    "adata.obs[\"manual_doublet\"] = adata.obs[key].isin(doublet_clusters)\n",
    "sc.pl.embedding(adata, basis='LocalMAP', color = 'manual_doublet')"
   ]
  },
  {
   "cell_type": "code",
   "execution_count": null,
   "metadata": {},
   "outputs": [],
   "source": [
    "# save\n",
    "annotation = \"doublet_cleaned\"\n",
    "savedir = os.path.join(DATADIR,'processed',study,'py','1_preprocessed')\n",
    "os.makedirs(savedir, exist_ok=True)\n",
    "adata.write(os.path.join(savedir, f'{annotation}.h5ad'))"
   ]
  },
  {
   "cell_type": "markdown",
   "metadata": {},
   "source": [
    "### Cluster"
   ]
  },
  {
   "cell_type": "code",
   "execution_count": null,
   "metadata": {},
   "outputs": [],
   "source": [
    "# load data\n",
    "annotation = \"manDoublet-seuratV3-harmony\"\n",
    "adata = sc.read_h5ad(os.path.join(DATADIR,'processed',study,'py',\n",
    "                                  '2_integrated', f'{annotation}.h5ad'))\n",
    "# adata.obs[\"Groups\"] = pd.Categorical(adata.obs[\"Groups\"],categories=['LFD_eWAT', 'HFD_eWAT', 'LFD_iWAT', 'HFD_iWAT'], ordered=True)"
   ]
  },
  {
   "cell_type": "code",
   "execution_count": null,
   "metadata": {},
   "outputs": [],
   "source": [
    "resolution = 1\n",
    "runCluster = False\n",
    "\n",
    "# leiden clustering\n",
    "key = 'leiden'\n",
    "if runCluster is True:\n",
    "    sc.tl.leiden(adata, resolution,random_state=123, key_added=key)\n",
    "    print(f\"{len(adata.obs[key].unique())} clusters found at resolution {int(adata.uns[key]['params']['resolution'])}!\")\n",
    "\n",
    "# figure prep\n",
    "cluster_c = color_gen(adata.obs[key])\n",
    "f = plt.figure(figsize=(25,15),layout=\"constrained\")\n",
    "sf = f.subfigures(1,2, width_ratios=[2.3, 1.5])\n",
    "\n",
    "axs = sf[0].subplots(3,3)\n",
    "gs = axs[0,0].get_gridspec()\n",
    "empty_axs(axs)\n",
    "\n",
    "# Large LocalMAP plot\n",
    "embedding = \"LocalMAP\" #\"X_umap\"\n",
    "ax = sf[0].add_subplot(gs[:2,:])\n",
    "sc.pl.embedding(adata, basis=embedding, color=[key], ax=ax, show=False,\n",
    "                legend_loc='on data', legend_fontoutline=2, legend_fontsize=20, palette=cluster_c.to_list())\n",
    "ax = sf[0].add_subplot(gs[2,0])\n",
    "sc.pl.embedding(adata, basis=embedding, color=['Groups'], ax=ax, show=False, alpha=0.7)\n",
    "ax = sf[0].add_subplot(gs[2,1])\n",
    "sc.pl.embedding(adata, basis=embedding, color=['Condition'], ax=ax, show=False, alpha=0.7)\n",
    "ax = sf[0].add_subplot(gs[2,2])\n",
    "sc.pl.embedding(adata, basis=embedding, color=['Sample Type'], ax=ax, show=False, alpha=0.7)\n",
    "\n",
    "# Violin marker plots\n",
    "markers = [\"Adipoq\", \"Pdgfra\", \"Upk3b\", \"Cdh5\", \"Rgs5\", \"Adgre1\", \"Flt3\", \"Cpa3\", \"Skap1\", \"Igkc\", \"Siglecf\"]\n",
    "plot_violinplot(adata, markers, key, sf[1])"
   ]
  },
  {
   "cell_type": "code",
   "execution_count": null,
   "metadata": {},
   "outputs": [],
   "source": [
    "checkDoublets(adata,'X_umap','leiden')\n",
    "adata = adata[~(adata.obs[\"leiden\"] == \"23\")]"
   ]
  },
  {
   "cell_type": "markdown",
   "metadata": {},
   "source": [
    "### Annotate"
   ]
  },
  {
   "cell_type": "code",
   "execution_count": null,
   "metadata": {},
   "outputs": [],
   "source": [
    "remap = True\n",
    "key = 'leiden'\n",
    "\n",
    "if remap is True:\n",
    "    mapping = {\n",
    "        0  : 'Macrophage',      1  : 'Adipocyte',       2  : 'Endothelial',     3  : 'Fibroblast',      4  : 'Adipocyte',\n",
    "        5  : 'Fibroblast',      6  : 'Macrophage',      7  : 'Fibroblast',      8  : 'Macrophage',      9  : 'Fibroblast',\n",
    "        10 : 'Macrophage',      11 : 'PC/SMC',          12 : 'Mesothelial',     13 : 'Adipocyte',       14 : 'T Cell',\n",
    "        15 : 'Dendritic Cell',  16 : 'Macrophage',      17 : 'Endothelial',     18 : 'Mesothelial',     19 : 'Adipocyte',\n",
    "        20 : 'B Cell',          21 : 'Mast Cell',       22 : 'Macrophage'\n",
    "    }\n",
    "\n",
    "    try:\n",
    "        assert len(mapping) == len(adata.obs[key].unique())\n",
    "    except AssertionError:\n",
    "        print(f\"At resolution {resolution}, {len(adata.obs[key].unique())} clusters identified, but only {len(mapping)} mappings provided!\")\n",
    "\n",
    "    adata.obs['cell_type'] = adata.obs[key].astype(int).replace(mapping)\n",
    "    adata.obs['cell_type'] = pd.Categorical(adata.obs['cell_type'],\n",
    "                                            categories=['Adipocyte', 'Fibroblast', 'Mesothelial', 'Endothelial', 'PC/SMC', 'Macrophage', 'Dendritic Cell', 'Mast Cell', 'T Cell', 'B Cell'],\n",
    "                                            ordered=True)\n",
    "\n",
    "for obsm in [\"X_umap\", \"LocalMAP\"]:\n",
    "    f,axs = plt.subplots(1,3,figsize=(20,5),layout='constrained')\n",
    "    sc.pl.embedding(adata, basis=obsm, color=[key], ax=axs[0], show=False, palette=color_gen(adata.obs[\"leiden\"]).to_list())\n",
    "    sc.pl.embedding(adata, basis=obsm, color = ['cell_type'], ax=axs[1], show=False, palette=color_gen(adata.obs['cell_type']).to_list())\n",
    "    sc.pl.embedding(adata, basis=obsm, color = ['Groups'], ax=axs[2], show=False, palette=color_gen(adata.obs['Groups']).to_list(), alpha=0.5)"
   ]
  },
  {
   "cell_type": "code",
   "execution_count": null,
   "metadata": {},
   "outputs": [],
   "source": [
    "# figure prep\n",
    "key = \"cell_type\"\n",
    "cluster_c = color_gen(adata.obs[key])\n",
    "f = plt.figure(figsize=(25,15),layout=\"constrained\")\n",
    "sf = f.subfigures(1,2, width_ratios=[2.2, 1.5])\n",
    "\n",
    "axs = sf[0].subplots(3,3)\n",
    "gs = axs[0,0].get_gridspec()\n",
    "empty_axs(axs)\n",
    "\n",
    "# Large LocalMAP plot\n",
    "embedding = \"X_umap\" # \"LocalMAP\" # \"X_umap\"\n",
    "ax = sf[0].add_subplot(gs[:2,:])\n",
    "sc.pl.embedding(adata, basis=embedding, color=[key], ax=ax, show=False,\n",
    "                legend_loc='on data', legend_fontoutline=2, legend_fontsize=20, palette=cluster_c.to_list())\n",
    "ax = sf[0].add_subplot(gs[2,0])\n",
    "sc.pl.embedding(adata, basis=embedding, color=['Groups'], ax=ax, show=False, alpha=0.7)\n",
    "ax = sf[0].add_subplot(gs[2,1])\n",
    "sc.pl.embedding(adata, basis=embedding, color=['Condition'], ax=ax, show=False, alpha=0.7)\n",
    "ax = sf[0].add_subplot(gs[2,2])\n",
    "sc.pl.embedding(adata, basis=embedding, color=['Sample Type'], ax=ax, show=False, alpha=0.7)\n",
    "\n",
    "# Violin marker plots\n",
    "markers = [\"Adipoq\", \"Pdgfra\", \"Upk3b\", \"Cdh5\", \"Rgs5\", \"Adgre1\", \"Flt3\", \"Cpa3\", \"Skap1\", \"Igkc\"]\n",
    "plot_violinplot(adata, markers, key, sf[1], useStripPlot=False)"
   ]
  },
  {
   "cell_type": "code",
   "execution_count": null,
   "metadata": {},
   "outputs": [],
   "source": [
    "f = plt.figure(figsize=(10, 5), layout=\"constrained\")\n",
    "axs = f.subplots(1, 2)\n",
    "plot_cluster_stackedbarplot(adata, \"Groups\", \"cell_type\", pct=False, ax=axs[0])\n",
    "plot_cluster_stackedbarplot(adata, \"Groups\", \"cell_type\", pct=True, ax=axs[1])\n",
    "\n",
    "f = plt.figure(figsize=(10, 5), layout=\"constrained\")\n",
    "axs = f.subplots(1, 2)\n",
    "plot_cluster_stackedbarplot(adata, \"cell_type\", \"Groups\", pct=False, ax=axs[0])\n",
    "plot_cluster_stackedbarplot(adata, \"cell_type\", \"Groups\", pct=True, ax=axs[1])"
   ]
  },
  {
   "cell_type": "markdown",
   "metadata": {},
   "source": [
    "#### PangloDB annotation"
   ]
  },
  {
   "cell_type": "code",
   "execution_count": null,
   "metadata": {},
   "outputs": [],
   "source": [
    "# Get PangloDB\n",
    "markers = dc.op.resource('PanglaoDB', organism='mouse')\n",
    "# Filter by canonical_marker and human\n",
    "markers = markers[markers['mouse'].astype(bool) & markers['canonical_marker'].astype(bool) & (markers['mouse_sensitivity'].astype(float) > 0.5)]\n",
    "# Cleaning\n",
    "markers = markers[~markers.duplicated(['cell_type', 'genesymbol'])]\n",
    "markers = markers.rename(columns={'cell_type': 'source', 'genesymbol': 'target'})\n",
    "markers = markers[['source', 'target']]\n",
    "\n",
    "# fit model\n",
    "dc.mt.ulm(data=adata, net=markers, tmin=3)\n",
    "score = dc.pp.get_obsm(adata, key='score_ulm')\n",
    "score.layers['self'] = score.X.copy()\n",
    "\n",
    "# get top cell types\n",
    "df = dc.tl.rankby_group(adata=score, groupby='leiden', reference='rest', method='t-test_overestim_var')\n",
    "df = df[df['stat'] > 0]\n",
    "n_ctypes = 3\n",
    "ctypes_dict = df.groupby('group').head(n_ctypes).groupby('group')['name'].apply(lambda x: list(x)).to_dict()\n",
    "\n",
    "# Cell Types of Interest\n",
    "cell_types = ['Adipocytes', 'Fibroblasts', 'Endothelial cells', 'Pericytes', 'Smooth muscle cells', 'Macrophages', 'Monocytes', 'Dendritic cells', 'T cells']\n",
    "\n",
    "# Plotting\n",
    "sc.pl.embedding(score, basis=\"LocalMAP\", color=cell_types)\n",
    "sc.pl.embedding(score, basis=\"LocalMAP\", color='cell_type')\n",
    "\n",
    "f = plt.figure(figsize=(6,15),layout=\"constrained\")\n",
    "plot_violinplot(score,cell_types,'leiden',f,'self')"
   ]
  },
  {
   "cell_type": "markdown",
   "metadata": {},
   "source": [
    "### DEGs"
   ]
  },
  {
   "cell_type": "code",
   "execution_count": null,
   "metadata": {},
   "outputs": [],
   "source": [
    "sc.tl.rank_genes_groups(adata, groupby='cell_type',\n",
    "                        use_raw=False, layer=\"normalized\", key_added='de_all',\n",
    "                        method='wilcoxon')\n",
    "\n",
    "f, ax = plt.subplots(1,1,figsize=(30,5),layout=\"constrained\")\n",
    "sc.pl.rank_genes_groups_dotplot(\n",
    "    adata, groupby=\"cell_type\", key='de_all',\n",
    "    standard_scale=\"var\", n_genes=10,\n",
    "    var_group_rotation=30, ax=ax\n",
    ")\n",
    "\n",
    "comparison = [\"Adipocyte\", \"Fibroblast\", \"Macrophage\"]\n",
    "f, ax = plt.subplots(1,1,figsize=(30,5),layout=\"constrained\")\n",
    "sc.pl.rank_genes_groups_dotplot(\n",
    "    adata, groupby=\"cell_type\", groups=comparison, key='de_all',\n",
    "    standard_scale=\"var\", n_genes=30,\n",
    "    var_group_rotation=30, ax=ax\n",
    ")\n",
    "\n",
    "df = sc.get.rank_genes_groups_df(adata, group=None, key='de_all')"
   ]
  },
  {
   "cell_type": "code",
   "execution_count": null,
   "metadata": {},
   "outputs": [],
   "source": [
    "marker_of_interest = \"Adgre1\"\n",
    "df[df[\"names\"] == marker_of_interest]\n",
    "\n",
    "celltype_of_interest = \"Adipocyte\"\n",
    "df[df[\"group\"] == celltype_of_interest].head(50)"
   ]
  },
  {
   "cell_type": "markdown",
   "metadata": {},
   "source": [
    "### Psuedobulk DEGs"
   ]
  },
  {
   "cell_type": "markdown",
   "metadata": {},
   "source": [
    "see Decoupler PB https://decoupler.readthedocs.io/en/latest/notebooks/scell/rna_psbk.html#differential-expression-analysis\n",
    "in-depth design matrix discussion: https://f1000research.com/articles/9-1444"
   ]
  },
  {
   "cell_type": "code",
   "execution_count": null,
   "metadata": {},
   "outputs": [],
   "source": [
    "pdata = dc.pp.pseudobulk(\n",
    "    adata,\n",
    "    sample_col=\"Groups\",\n",
    "    groups_col=\"cell_type\",\n",
    "    # min_prop=0.1,\n",
    "    # min_smpls=3,\n",
    "    layer=\"counts\",\n",
    "    raw=False\n",
    ")\n",
    "pdata.layers[\"counts\"] = pdata.X.copy()\n",
    "\n",
    "# Does PC1 captures a meaningful biological or technical fact?\n",
    "pdata.obs[\"lib_size\"] = pdata.X.sum(1)\n",
    "\n",
    "# Normalize\n",
    "sc.pp.normalize_total(pdata, target_sum=1e4)\n",
    "sc.pp.log1p(pdata)\n",
    "\n",
    "logFCs, pvals = dc.pp.contrast(\n",
    "    pdata,\n",
    "    group_col=\"cell_type\",\n",
    "    condition_col=\"condition\",\n",
    "    condition=\"stim\",\n",
    "    reference=\"ctrl\",\n",
    "    method=\"t-test\",\n",
    ")"
   ]
  },
  {
   "cell_type": "markdown",
   "metadata": {},
   "source": [
    "### GSEA\n",
    "* uses `m2.cp.v2025.1.Mm.symbols.gmt`, downloaded from [here](https://www.gsea-msigdb.org/gsea/msigdb/mouse/collections.jsp?targetSpeciesDB=Mouse#M2) (6/2025)\n",
    "* See https://www.gsea-msigdb.org/gsea/msigdb/mouse/genesets.jsp?collection=M8 for more MSigDB details"
   ]
  },
  {
   "cell_type": "code",
   "execution_count": null,
   "metadata": {},
   "outputs": [],
   "source": [
    "def GSEA_dcULM(\n",
    "    adata,\n",
    "    name: str,\n",
    "    geneset_dir: str = None,\n",
    "    reference_dir: str = None,\n",
    "    geneset=None,\n",
    "):\n",
    "    if geneset is None:\n",
    "        assert geneset_dir is not None\n",
    "        geneset = dc.pp.read_gmt(\n",
    "            os.path.join(reference_dir, geneset_dir)\n",
    "        )\n",
    "\n",
    "    dc.mt.ulm(data=adata, net=geneset, layer=\"normalized\", verbose=True)\n",
    "    adata.obsm[f\"{name}_score_ulm\"] = adata.obsm[\"score_ulm\"]\n",
    "    adata.obsm[f\"{name}_padj_ulm\"] = adata.obsm[\"padj_ulm\"]\n",
    "    del adata.obsm[\"score_ulm\"], adata.obsm[\"padj_ulm\"]\n",
    "\n",
    "    return adata"
   ]
  },
  {
   "cell_type": "code",
   "execution_count": null,
   "metadata": {},
   "outputs": [],
   "source": [
    "name = \"MSigDB-M7\"\n",
    "plot_gsea(adata, f\"GSEA ({name})\", f\"{name}_score_ulm\", 'cell_type', 5, name)"
   ]
  },
  {
   "cell_type": "code",
   "execution_count": null,
   "metadata": {},
   "outputs": [],
   "source": [
    "# output = dc.mt.gsea(data=adata, net=reactome, layer=\"normalized\", verbose=True)\n",
    "# output = dc.mt.decouple(data=adata, net=reactome, layer=\"normalized\", verbose=True)\n",
    "# output = dc.mt.ulm(data=adata, net=reactome, layer=\"normalized\", verbose=True)\n",
    "\n",
    "# msigdb = dc.op.resource(\"MSigDB\", \"mouse\")\n",
    "# msigdb_cp = msigdb.query(\"collection == 'reactome_pathways'\")\n",
    "# msigdb_cp = reactome[~reactome.duplicated((\"geneset\", \"genesymbol\"))]\n",
    "\n",
    "ref_dir = os.path.join(REFDIR,\"interactome\")\n",
    "\n",
    "name = \"MSigDB-MH\"\n",
    "GSEA_dcULM(adata, name, geneset_dir=os.path.join(ref_dir,\"mh.all.v2025.1.Mm.symbols.gmt\"))\n",
    "plot_gsea(adata, f\"GSEA ({name})\", f\"{name}_score_ulm\", 'cell_type', 5, name)\n",
    "\n",
    "name = \"MSigDB-M2-CP\"\n",
    "GSEA_dcULM(adata, name, geneset_dir=os.path.join(ref_dir,\"m2.cp.v2025.1.Mm.symbols.gmt\"))\n",
    "plot_gsea(adata, f\"GSEA ({name})\", f\"{name}_score_ulm\", 'cell_type', 5, name)\n",
    "\n",
    "name = \"MSigDB-M3\"\n",
    "GSEA_dcULM(adata, name, geneset_dir=os.path.join(ref_dir,\"m3.all.v2025.1.Mm.symbols.gmt\"))\n",
    "plot_gsea(adata, f\"GSEA ({name})\", f\"{name}_score_ulm\", 'cell_type', 5, name)\n",
    "\n",
    "name = \"MSigDB-M5-GO\"\n",
    "GSEA_dcULM(adata, name, geneset_dir=os.path.join(ref_dir,\"m5.go.v2025.1.Mm.symbols.gmt\"))\n",
    "plot_gsea(adata, f\"GSEA ({name})\", f\"{name}_score_ulm\", 'cell_type', 5, name)\n",
    "\n",
    "name = \"MSigDB-M7\"\n",
    "GSEA_dcULM(adata, name, geneset_dir=os.path.join(ref_dir,\"m7.all.v2025.1.Mm.symbols.gmt\"))\n",
    "plot_gsea(adata, f\"GSEA ({name})\", f\"{name}_score_ulm\", 'cell_type', 5, name)\n",
    "\n",
    "name = \"MSigDB-M8\"\n",
    "GSEA_dcULM(adata, name, geneset_dir=os.path.join(ref_dir,\"m8.all.v2025.1.Mm.symbols.gmt\"))\n",
    "plot_gsea(adata, f\"GSEA ({name})\", f\"{name}_score_ulm\", 'cell_type', 5, name)\n",
    "\n",
    "name = \"dc-CollecTRI\"\n",
    "GSEA_dcULM(adata, name, geneset=dc.op.collectri(organism='mouse'))\n",
    "plot_gsea(adata, f\"GSEA ({name})\", f\"{name}_score_ulm\", 'cell_type', 5, name)"
   ]
  },
  {
   "cell_type": "code",
   "execution_count": null,
   "metadata": {},
   "outputs": [],
   "source": [
    "name = \"dc-CollecTRI\"\n",
    "scores = dc.pp.get_obsm(adata, f\"{name}_score_ulm\")\n",
    "# sc.pl.embedding(scores,basis=\"X_umap\",color=['Maf','cell_type'])\n",
    "\n",
    "# scores.layers['self'] = scores.X.copy()\n",
    "# f = plt.figure(figsize=(10,8),layout=\"constrained\")\n",
    "# plot_violinplot(scores, [\"Maf\",\"Elf1\",\"Sox7\",\"Ebf1\"],'cell_type',f,'self')"
   ]
  },
  {
   "cell_type": "markdown",
   "metadata": {},
   "source": [
    "### Save/Load"
   ]
  },
  {
   "cell_type": "code",
   "execution_count": 8,
   "metadata": {},
   "outputs": [],
   "source": [
    "# save\n",
    "annotation = \"manDoublet-seuratV3-harmony-annotated_leiden1\"\n",
    "savedir = os.path.join(DATADIR,'processed',study,'py','3_annotated')\n",
    "os.makedirs(savedir, exist_ok=True)\n",
    "adata.write(os.path.join(savedir,f'{annotation}.h5ad'))"
   ]
  },
  {
   "cell_type": "code",
   "execution_count": 5,
   "metadata": {},
   "outputs": [],
   "source": [
    "# load\n",
    "annotation = \"manDoublet-seuratV3-harmony-annotated_leiden1\"\n",
    "adata = sc.read_h5ad(os.path.join(DATADIR,'processed',study,'py',\n",
    "                                  '3_annotated', f'{annotation}.h5ad'))"
   ]
  },
  {
   "cell_type": "markdown",
   "metadata": {},
   "source": [
    "##### Create Cloupe"
   ]
  },
  {
   "cell_type": "code",
   "execution_count": null,
   "metadata": {},
   "outputs": [],
   "source": [
    "tmp_obsm = adata.obsm.copy()\n",
    "for obsm in pd.Series(tmp_obsm.keys())[~pd.Series(tmp_obsm.keys()).isin([\"LocalMAP\", \"X_pca\", \"X_umap\", \"integrated\"])]:\n",
    "    del tmp_obsm[obsm]\n",
    "\n",
    "export = sc.AnnData(X = adata.layers[\"counts\"].copy(),\n",
    "                    obs = adata.obs[[\"Identifier\", \"Groups\", \"Condition\", \"Sample Type\", \"leiden\", \"cell_type\", 'predicted_doublet-scDblFinder', 'predicted_doublet-DoubletFinder', 'predicted_doublet-doubletdetection', 'predicted_doublet-scrublet', 'leiden_doublets', 'manual_doublet']].copy().astype(str),\n",
    "                    var = adata.var[[\"highly_variable\",\"means\",\"variances\"]].copy(),\n",
    "                    obsm = tmp_obsm)\n",
    "\n",
    "create_cloupe(export)"
   ]
  },
  {
   "cell_type": "markdown",
   "metadata": {},
   "source": [
    "## Compositional Analysis\n",
    "* scCODA (clusters) - https://www.sc-best-practices.org/conditions/compositional.html#with-labeled-clusters\n",
    "* tascCODA (hierachical clusters) - https://www.sc-best-practices.org/conditions/compositional.html#with-labeled-clusters-and-hierarchical-structure\n",
    "* scanpro (reps, clusters) https://scanpro.readthedocs.io/en/latest/proportion_analysis.html\n",
    "* Milo (none) https://www.sc-best-practices.org/conditions/compositional.html#without-labeled-clusters"
   ]
  },
  {
   "cell_type": "markdown",
   "metadata": {},
   "source": [
    "# Other DEGs Attempts\n",
    "- [ ] psuedobulking - requires replicates (https://hbctraining.github.io/scRNA-seq/lessons/pseudobulk_DESeq2_scrnaseq.html)\n",
    "    - [x] decoupleR - https://decoupler-py.readthedocs.io/en/latest/notebooks/scell/rna_psbk.html\n",
    "    - [ ] edgeR\n",
    "- [ ] single cell DEGS\n",
    "    - [x] Scanpy's Wilcoxon test\n",
    "    - [ ] MAST for single cell DEGS"
   ]
  },
  {
   "cell_type": "code",
   "execution_count": null,
   "metadata": {},
   "outputs": [],
   "source": [
    "# load\n",
    "annotation = \"scDF-seuratV3-harmony-leiden_1.0\"\n",
    "adata = sc.read_h5ad(os.path.join(DATADIR,'processed',study,'py',\n",
    "                                  '3_annotated', f'{annotation}.h5ad'))\n",
    "# R_preload()"
   ]
  },
  {
   "cell_type": "markdown",
   "metadata": {},
   "source": [
    "#### DESeq2\n",
    "* https://pydeseq2.readthedocs.io/en/stable/auto_examples/plot_minimal_pydeseq2_pipeline.html\n",
    "* https://bioconductor.org/packages/devel/bioc/vignettes/DESeq2/inst/doc/DESeq2.html#note-on-factor-levels"
   ]
  },
  {
   "cell_type": "code",
   "execution_count": null,
   "metadata": {},
   "outputs": [],
   "source": [
    "pb_adatas = []\n",
    "for cell_type in adata.obs['cell_type'].unique():\n",
    "    cell_pop = adata[adata.obs[\"cell_type\"] == cell_type].copy()\n",
    "    pb_cell_pop = sc.get.aggregate(cell_pop,by='Groups',func='sum',layer='counts')\n",
    "    pb_adata = sc.AnnData(\n",
    "        X=pb_cell_pop.layers['sum'],\n",
    "        obs=pb_cell_pop.obs,\n",
    "        var=pb_cell_pop.var.copy()\n",
    "    )\n",
    "    pb_adata.obs['cell_type'] = cell_type\n",
    "    pb_adatas.append(pb_adata)\n",
    "\n",
    "pb = sc.concat(pb_adatas)\n",
    "pb.obs[['Condition', 'Sample Type']] = pb.obs['Groups'].str.split('_', expand=True)\n",
    "pb.obs.rename(columns={\"Sample Type\" : \"sample_type\", \"Condition\" : \"condition\"}, inplace=True)\n",
    "pb.obs['Index'] = pb.obs['cell_type'] + '-' + pb.obs['Groups'].astype(str)\n",
    "pb.obs = pb.obs.set_index(\"Index\")\n",
    "pb.obs[\"Index\"] = pb.obs.index"
   ]
  },
  {
   "cell_type": "code",
   "execution_count": null,
   "metadata": {},
   "outputs": [],
   "source": [
    "from pydeseq2.dds import DeseqDataSet\n",
    "from pydeseq2.default_inference import DefaultInference\n",
    "from pydeseq2.ds import DeseqStats\n",
    "import decoupler as dc\n",
    "\n",
    "inference = DefaultInference(n_cpus=CORES)\n",
    "\n",
    "# this treats sample types as biological replicates\n",
    "design = \"~0 + condition + cell_type + condition:cell_type\"\n",
    "\n",
    "dds = DeseqDataSet(\n",
    "    adata=pb,\n",
    "    design=design,\n",
    "    refit_cooks=True,\n",
    "    inference=inference,\n",
    ")\n",
    "\n",
    "dds.deseq2()\n",
    "\n",
    "print(\"Model coefficients:\")\n",
    "for i, coef in enumerate(dds.varm['LFC'].columns):\n",
    "    print(f\"{i}: {coef}\")\n",
    "\n",
    "\n",
    "for col in pb.obs:\n",
    "    print(col + \":\", pb.obs[col].astype(str).unique(),'\\n')\n",
    "dds.obsm['design_matrix'].columns\n",
    "contrast_diet = ['condition', 'LFD', 'HFD']\n",
    "\n",
    "ds_diet = DeseqStats(\n",
    "    dds,\n",
    "    contrast=contrast_diet,\n",
    "    alpha=0.05,\n",
    "    cooks_filter=True,\n",
    "    independent_filter=True,\n",
    "    inference=inference\n",
    ")\n",
    "ds_diet.summary()\n",
    "df_diet = ds_diet.results_df\n",
    "\n",
    "dc.pl.volcano(df_diet, x='log2FoldChange', y='pvalue', figsize=(10,10), top=20)"
   ]
  },
  {
   "cell_type": "markdown",
   "metadata": {},
   "source": [
    "#### MAST"
   ]
  },
  {
   "cell_type": "code",
   "execution_count": null,
   "metadata": {},
   "outputs": [],
   "source": [
    "adata2 = adata.copy()\n",
    "adata2.X = adata2.layers[\"normalized\"].copy()\n",
    "\n",
    "df = pd.DataFrame.sparse.from_spmatrix(data=adata2.X, index=adata2.obs_names, columns=adata2.var_names)\n",
    "df.join(adata2.obs)\n",
    "adata_tmp = sc.AnnData(df[adata2.var_names], obs=df.drop(columns=adata2.var_names))\n",
    "\n",
    "# def prep_anndata(adata_):\n",
    "#     def fix_dtypes(adata_):\n",
    "#         for i in [adata_.X, adata_.obs_names, adata_.var_names]:\n",
    "#             print(i.shape)\n",
    "#         df = pd.DataFrame(data=adata_.X)#, index=adata_.obs_names, columns=adata_.var_names)\n",
    "#         df = df.join(adata_.obs)\n",
    "#         print(df.head())\n",
    "#         return sc.AnnData(df[adata_.var_names], obs=df.drop(columns=adata_.var_names))\n",
    "\n",
    "#     adata_ = fix_dtypes(adata_)\n",
    "#     sc.pp.filter_genes(adata_, min_cells=3)\n",
    "#     return adata_\n",
    "\n",
    "# adata_prep = prep_anndata(adata2)\n",
    "# adata_prep"
   ]
  },
  {
   "cell_type": "markdown",
   "metadata": {},
   "source": [
    "# R space"
   ]
  },
  {
   "cell_type": "code",
   "execution_count": null,
   "metadata": {},
   "outputs": [],
   "source": [
    "ro.r(\"\"\"\n",
    "\n",
    "\n",
    "\n",
    "\n",
    "\n",
    "\n",
    "\n",
    "\"\"\")"
   ]
  },
  {
   "cell_type": "markdown",
   "metadata": {},
   "source": [
    "# Archive"
   ]
  },
  {
   "cell_type": "markdown",
   "metadata": {},
   "source": [
    "## Pre-Integration Cell Labels (deprecated)"
   ]
  },
  {
   "cell_type": "code",
   "execution_count": null,
   "metadata": {},
   "outputs": [],
   "source": [
    "# import celltypist\n",
    "# from celltypist import models\n",
    "# models.download_models(force_update = False)\n",
    "# print(models.models_path)\n",
    "\n",
    "# def Annotate_celltypist(adata, model, modelname):\n",
    "#     #celltypist-specific processing\n",
    "#     tmp = adata.copy()\n",
    "#     sc.pp.normalize_total(tmp,target_sum=1e4)\n",
    "#     sc.pp.log1p(tmp)\n",
    "\n",
    "#     predictions = celltypist.annotate(tmp, model=model, majority_voting=False).to_adata()\n",
    "#     adata.obs[f'{modelname}-label'] = predictions.obs.loc[adata.obs.index,\"predicted_labels\"]\n",
    "#     adata.obs[f'{modelname}-score'] = predictions.obs.loc[adata.obs.index,\"conf_score\"]\n",
    "#     return adata\n",
    "\n",
    "# model = models.Model.load(model=\"Immune_All_Low.pkl\")\n",
    "# modelname = \"CT_immune_highres\"\n",
    "# adata = [Annotate_celltypist(dat,model,modelname) for dat in adata]\n",
    "\n",
    "# model = models.Model.load(model=\"Immune_All_High.pkl\")\n",
    "# modelname = \"CT_immune_lowres\"\n",
    "# adata = [Annotate_celltypist(dat,model,modelname) for dat in adata]"
   ]
  },
  {
   "cell_type": "code",
   "execution_count": null,
   "metadata": {},
   "outputs": [],
   "source": [
    "# tmp = adata[1].copy()\n",
    "# sc.pp.neighbors(tmp)\n",
    "# sc.tl.umap(tmp)\n",
    "# sc.pl.umap(tmp,color=['CT_immune_highres-label','CT_immune_lowres-label'],legend_loc='on adata')\n",
    "# sns.histplot(tmp.obs['CT_immune_lowres-score'])\n",
    "# plt.figure()\n",
    "\n",
    "# f,ax = plt.subplots(2, 1)\n",
    "# _ = sns.histplot(tmp.obs['CT_immune_lowres-score'],ax=ax[0])\n",
    "# _ = sns.histplot(tmp.obs['CT_immune_highres-score'],ax=ax[1])"
   ]
  },
  {
   "cell_type": "markdown",
   "metadata": {},
   "source": [
    "### Non-Liana"
   ]
  },
  {
   "cell_type": "code",
   "execution_count": null,
   "metadata": {},
   "outputs": [],
   "source": [
    "### NON LIANA APPROACH\n",
    "R_preload()\n",
    "with localconverter(converter):\n",
    "    ro.globalenv[\"mouse_genes\"] = adata.var.index\n",
    "    ro.r(\"\"\"\n",
    "    # see https://neurogenomics.github.io/orthogene/articles/orthogene.html\n",
    "    genes <- orthogene::convert_orthologs(gene_df = mouse_genes,\n",
    "                                            gene_output = \"dict\",\n",
    "                                            input_species = \"mouse\",\n",
    "                                            output_species = \"human\",\n",
    "                                            non121_strategy = \"drop_input_species\",\n",
    "                                            method = \"gprofiler\") \n",
    "    mappings <- data.frame(genes,row.names=names(genes))\n",
    "    \"\"\")\n",
    "    mappings = ro.globalenv[\"mappings\"].to_dict()['genes']\n",
    "\n",
    "converted = adata[:,adata.var_names.isin([m for m in mappings])].copy()\n",
    "converted.var_names = converted.var_names.map(mappings)"
   ]
  },
  {
   "cell_type": "markdown",
   "metadata": {},
   "source": [
    "### CellphoneDB v5 ONLY\n",
    "* Get Database: https://github.com/ventolab/CellphoneDB/blob/master/notebooks/T0_DownloadDB.ipynb\n",
    "* Prep Data: https://github.com/ventolab/CellphoneDB/blob/master/notebooks/DEGs_calculation/0_prepare_your_data_from_anndata.ipynb\n",
    "* Run CPDB w/ statistical analysis: https://github.com/ventolab/CellphoneDB/blob/master/notebooks/T1_Method2.ipynb\n"
   ]
  },
  {
   "cell_type": "code",
   "execution_count": null,
   "metadata": {},
   "outputs": [],
   "source": [
    "tmp_adata = sc.AnnData(X=adata.layers[\"normalized\"].copy(),\n",
    "                       obs=adata.obs[[\"cell_type\",\"Groups\",\"Condition\",\"Sample Type\", \"Identifier\"]].copy(),\n",
    "                       var=pd.DataFrame(index=adata.var.index.copy()))\n",
    "\n",
    "# load\n",
    "savedir = os.path.join(DATADIR,'processed',study,'py','cellphonedb', annotation)\n",
    "\n",
    "# metadata\n",
    "print(converted.obs['cell_type'].values.describe())\n",
    "df_meta = pd.DataFrame(data={'Cell':list(converted.obs.index),\n",
    "                             'cell_type':[ i for i in converted.obs['cell_type']]\n",
    "                            })\n",
    "df_meta.set_index('Cell', inplace=True)\n",
    "\n",
    "if df_meta.columns.isin([\"barcode_sample\"])[0]:\n",
    "    assert np.all(converted.obs.index.sort_values() == df_meta[\"barcode_sample\"].sort_values())\n",
    "else:\n",
    "    assert np.all(converted.obs.index.sort_values() == df_meta.index.sort_values())\n",
    "\n",
    "# DEGs\n",
    "DEGs = sc.get.rank_genes_groups_df(adata, group=None, key='de_all')\n",
    "cond1 = DEGs['pvals_adj'] < 0.05 \n",
    "cond2 = DEGs['logfoldchanges'] > 2\n",
    "mask = [all(tup) for tup in zip(cond1, cond2)]\n",
    "fDEGs = DEGs[mask]\n",
    "fDEGs.columns = [\"cluster\", \"gene\"] + fDEGs.columns[2:].to_list()\n",
    "\n",
    "# save relevant info to folder\n",
    "converted.write(os.path.join(savedir,'counts.h5ad'))\n",
    "df_meta.to_csv(os.path.join(savedir,'metadata.tsv'), sep = '\\t')\n",
    "fDEGs.to_csv(os.path.join(savedir,'DEGs.tsv'), index=False, sep='\\t')"
   ]
  },
  {
   "cell_type": "code",
   "execution_count": null,
   "metadata": {},
   "outputs": [],
   "source": [
    "# from cellphonedb.utils import db_utils\n",
    "# from cellphonedb.src.core.methods import cpdb_analysis_method\n",
    "\n",
    "# version = 'v5.0.0'\n",
    "# cpdb_dir = os.path.join(REFDIR,f'cellphoneDB-{version}')\n",
    "# if not os.path.exists(cpdb_dir):\n",
    "#     print(f\"Database not found! Downloading to {cpdb_dir}\")\n",
    "#     db_utils.download_database(cpdb_dir, version)\n",
    "\n",
    "# cpdb_results = cpdb_analysis_method.call(\n",
    "#     cpdb_file_path = os.path.join(cpdb_dir,\"cellphonedb.zip\"),          # mandatory: CellphoneDB database zip file.\n",
    "#     meta_file_path = os.path.join(savedir,'metadata.tsv'),              # mandatory: tsv file defining barcodes to cell label.\n",
    "#     counts_file_path = converted,             # mandatory: normalized count matrix - a path to the counts file, or an in-memory AnnData object\n",
    "#     counts_data = 'hgnc_symbol',                                        # defines the gene annotation in counts matrix.\n",
    "#     # microenvs_file_path = microenvs_file_path,                        # optional (default: None): defines cells per microenvironment.\n",
    "#     score_interactions = True,                                          # optional: whether to score interactions or not. \n",
    "#     output_path = os.path.join(savedir,'output.cpdb'),                  # Path to save results    microenvs_file_path = None,\n",
    "#     separator = '|',                                                    # Sets the string to employ to separate cells in the results dataframes \"cellA|CellB\".\n",
    "#     threads = 10,                                                       # number of threads to use in the analysis.\n",
    "#     threshold = 0.1,                                                    # defines the min % of cells expressing a gene for this to be employed in the analysis.\n",
    "#     result_precision = 3,                                               # Sets the rounding for the mean values in significan_means.\n",
    "#     debug = False,                                                      # Saves all intermediate tables emplyed during the analysis in pkl format.\n",
    "#     output_suffix = None                                                # Replaces the timestamp in the output files by a user defined string in the  (default: None)\n",
    "# )\n",
    "# \n",
    "# cpdb_results['interaction_scores']"
   ]
  }
 ],
 "metadata": {
  "kernelspec": {
   "display_name": "snrnaseq-analysis",
   "language": "python",
   "name": "python3"
  },
  "language_info": {
   "codemirror_mode": {
    "name": "ipython",
    "version": 3
   },
   "file_extension": ".py",
   "mimetype": "text/x-python",
   "name": "python",
   "nbconvert_exporter": "python",
   "pygments_lexer": "ipython3",
   "version": "3.12.9"
  }
 },
 "nbformat": 4,
 "nbformat_minor": 2
}
