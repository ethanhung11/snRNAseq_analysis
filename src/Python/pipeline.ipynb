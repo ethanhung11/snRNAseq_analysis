{
 "cells": [
  {
   "cell_type": "markdown",
   "metadata": {},
   "source": [
    "# Import Library & Set Globals"
   ]
  },
  {
   "cell_type": "code",
   "execution_count": 2,
   "metadata": {},
   "outputs": [
    {
     "name": "stderr",
     "output_type": "stream",
     "text": [
      "/mnt/DATA/home/ethung/snRNAseq_analysis/.venv/lib/python3.12/site-packages/scvi/__init__.py:31: DeprecationWarning: scvi is deprecated, please uninstall scvi via `pip uninstall scvi` and install the new scvi-tools package at github.com/YosefLab/scvi-tools\n",
      "/mnt/DATA/home/ethung/snRNAseq_analysis/.venv/lib/python3.12/site-packages/phenograph/cluster.py:13: DeprecationWarning: Please import `spmatrix` from the `scipy.sparse` namespace; the `scipy.sparse.base` namespace is deprecated and will be removed in SciPy 2.0.0.\n",
      "INFO:rpy2.situation:cffi mode is CFFI_MODE.ANY\n",
      "INFO:rpy2.situation:R home found: /opt/R/4.4.1/lib/R\n",
      "INFO:rpy2.situation:R library path: /opt/R/4.4.1/lib/R/lib:/usr/local/lib:/usr/lib/x86_64-linux-gnu:/usr/lib/jvm/java-11-openjdk-amd64/lib/server\n",
      "INFO:rpy2.situation:LD_LIBRARY_PATH: /opt/R/4.4.1/lib/R/lib:/usr/local/lib:/usr/lib/x86_64-linux-gnu:/usr/lib/jvm/java-11-openjdk-amd64/lib/server\n",
      "INFO:rpy2.rinterface_lib.embedded:Default options to initialize R: rpy2, --quiet, --no-save\n",
      "INFO:rpy2.rinterface_lib.embedded:R is already initialized. No need to initialize.\n"
     ]
    }
   ],
   "source": [
    "import os\n",
    "import warnings\n",
    "import logging\n",
    "warnings.simplefilter(\"ignore\", FutureWarning)\n",
    "warnings.simplefilter(\"ignore\", UserWarning)\n",
    "warnings.simplefilter(\"ignore\", RuntimeWarning)\n",
    "\n",
    "import pickle\n",
    "import pandas as pd\n",
    "import numpy as np\n",
    "import seaborn as sns\n",
    "import matplotlib.pyplot as plt\n",
    "warnings.simplefilter(\"ignore\", pd.errors.DtypeWarning)\n",
    "logging.basicConfig(level='INFO')\n",
    "mlogger = logging.getLogger('matplotlib')\n",
    "mlogger.setLevel(logging.WARNING)\n",
    "\n",
    "import scanpy as sc\n",
    "import decoupler as dc\n",
    "import liana as li \n",
    "from pacmap import LocalMAP\n",
    "from liana.method import cellphonedb\n",
    "\n",
    "from plot import *\n",
    "from preprocess import get_cellbender_data,Filter_QC,Filter_Doublet,Normalize,FindVariableGenes,Integrate\n",
    "from analysis import cell2cell_interactions"
   ]
  },
  {
   "cell_type": "code",
   "execution_count": 3,
   "metadata": {},
   "outputs": [],
   "source": [
    "import rpy2.robjects as ro\n",
    "from rpy2.robjects.conversion import localconverter\n",
    "from R import get_converter,R_preload\n",
    "converter = get_converter()\n",
    "\n",
    "# R_preload()\n",
    "%load_ext rpy2.ipython"
   ]
  },
  {
   "cell_type": "code",
   "execution_count": 4,
   "metadata": {},
   "outputs": [],
   "source": [
    "%matplotlib inline\n",
    "study = \"paper_processed\"\n",
    "R_converted = False\n",
    "\n",
    "CORES = 10\n",
    "DATADIR = \"../../data\"\n",
    "REFDIR = '../../references'\n",
    "DOUBLETMETHODS = ['scDblFinder','DoubletFinder','doubletdetection','scrublet']"
   ]
  },
  {
   "cell_type": "markdown",
   "metadata": {},
   "source": [
    "# Access adata"
   ]
  },
  {
   "cell_type": "code",
   "execution_count": null,
   "metadata": {},
   "outputs": [],
   "source": [
    "filetype = 'h5ad' if R_converted else 'h5'\n",
    "\n",
    "basedir = os.path.join(DATADIR,'cellbender',study)\n",
    "samps = os.listdir(basedir)\n",
    "print(samps)\n",
    "filt_files = [os.path.join(basedir,s,f'output_filtered.{filetype}') for s in samps]\n",
    "adata = [get_cellbender_data(file,filetype) for file in filt_files]\n",
    "\n",
    "for d in adata:\n",
    "    d.obs['Experiment'], d.obs['Groups'], d.obs['Sample'] = np.array(d.obs['Identifier'].str.split('-').to_list()).T\n",
    "    d.obs['Condition'], d.obs['Sample Type'] = np.array(d.obs['Groups'].str.split('_').to_list()).T\n",
    "\n",
    "adata"
   ]
  },
  {
   "cell_type": "markdown",
   "metadata": {},
   "source": [
    "## Data Structures"
   ]
  },
  {
   "cell_type": "markdown",
   "metadata": {},
   "source": [
    "#### SingleCellExperiment object (in R) is presented below\n",
    "![SingleCellExperiment Object (in R)](https://hbctraining.github.io/scRNA-seq/img/sce_description.png)\n",
    "\n",
    "#### AnnData object (in Python) is similar!\n",
    "* rowData is stored in `adata.vars`\n",
    "* colData is stored in `adata.obs`\n",
    "* reducedDims is stored in `adata.obsm`\n",
    "* layers are stored in `adata.layers`"
   ]
  },
  {
   "cell_type": "markdown",
   "metadata": {},
   "source": [
    "# Preprocessing"
   ]
  },
  {
   "cell_type": "markdown",
   "metadata": {},
   "source": [
    "### QC"
   ]
  },
  {
   "cell_type": "code",
   "execution_count": null,
   "metadata": {},
   "outputs": [],
   "source": [
    "adata = [Filter_QC(dat, mt_ratio=15, ribo_ratio=15) for dat in adata]\n",
    "PlotQC = True\n",
    "adata"
   ]
  },
  {
   "cell_type": "markdown",
   "metadata": {},
   "source": [
    "#### QC Plots"
   ]
  },
  {
   "cell_type": "markdown",
   "metadata": {},
   "source": [
    "Plot QC Filters for 1 dataset"
   ]
  },
  {
   "cell_type": "code",
   "execution_count": null,
   "metadata": {},
   "outputs": [],
   "source": [
    "if PlotQC:\n",
    "    # sns.displot(adata[1].obs['total_counts'], bins=100, kde=False).figure\n",
    "    tmp = adata[0]\n",
    "    sc.pl.violin(\n",
    "        tmp,\n",
    "        [\"n_genes_by_counts\", \"total_counts\", \"pct_counts_mt\"],\n",
    "        jitter=0.4,\n",
    "        multi_panel=True\n",
    "    )\n",
    "    sc.pl.scatter(tmp, \"total_counts\", \"n_genes_by_counts\", color=\"pct_counts_mt\",vmax=100)"
   ]
  },
  {
   "cell_type": "markdown",
   "metadata": {},
   "source": [
    "Plot QC Metrics for all datasets"
   ]
  },
  {
   "cell_type": "code",
   "execution_count": null,
   "metadata": {},
   "outputs": [],
   "source": [
    "def QC_Plot(df, value, groupby):\n",
    "    sns.set(style=\"white\", rc={\"axes.facecolor\": (0, 0, 0, 0)})\n",
    "\n",
    "    g = sns.FacetGrid(df, row=groupby, hue=groupby, aspect=15, height=0.5, palette=\"tab20\")\n",
    "\n",
    "    g.map(sns.kdeplot, value, clip_on=False, fill=True, alpha=1, linewidth=1.5)\n",
    "    g.map(sns.kdeplot, value, clip_on=False, color=\"w\", lw=2)\n",
    "\n",
    "    g.map(plt.axhline, y=0, lw=2, clip_on=False)\n",
    "\n",
    "    def label(x, color, label):\n",
    "        ax = plt.gca()\n",
    "        ax.text(0, .2, label, fontweight=\"bold\", color=color,\n",
    "                ha=\"left\", va=\"center\", transform=ax.transAxes)\n",
    "\n",
    "    g.map(label, value)\n",
    "\n",
    "    g.figure.subplots_adjust(hspace=-.6)\n",
    "\n",
    "    g.set_titles(\"\")\n",
    "    g.set(yticks=[], ylabel=\"\")\n",
    "    g.despine(bottom=True, left=True)\n",
    "\n",
    "    for ax in g.axes.flat:\n",
    "        ax.axvline(x=df[value].median(), color='r', linestyle='-')\n",
    "\n",
    "    return g.figure\n",
    "\n",
    "if PlotQC:\n",
    "    df = pd.concat([x.obs for x in adata])\n",
    "    groupby = 'Groups'\n",
    "    df = df.sort_values(groupby)\n",
    "\n",
    "    QC_Plot(df,\"log1p_total_counts\",groupby)\n",
    "    QC_Plot(df,\"pct_counts_mt\",groupby)\n",
    "    QC_Plot(df,\"n_genes\",groupby)\n",
    "    QC_Plot(df,\"pct_counts_in_top_20_genes\",groupby)"
   ]
  },
  {
   "cell_type": "markdown",
   "metadata": {},
   "source": [
    "### Doublets"
   ]
  },
  {
   "cell_type": "code",
   "execution_count": null,
   "metadata": {},
   "outputs": [],
   "source": [
    "compare_doublets = False\n",
    "method = 'doubletdetection'\n",
    "method_short = 'dd'\n",
    "\n",
    "if compare_doublets is True:\n",
    "    for method in DOUBLETMETHODS:\n",
    "        adata = [Filter_Doublet(dat,method,remove=False) for dat in adata]\n",
    "\n",
    "else:\n",
    "    print(f\"Doublet Method: {method}\")\n",
    "    adata = [Filter_Doublet(dat,method,remove=True) for dat in adata]\n",
    "    for dat in adata:\n",
    "        print(len(dat), dat.uns['doublets_removed'])\n",
    "        \n",
    "adata"
   ]
  },
  {
   "cell_type": "code",
   "execution_count": null,
   "metadata": {},
   "outputs": [],
   "source": [
    "# save\n",
    "annotation = method_short\n",
    "with open(os.path.join(DATADIR,'processed', study, 'py', '1_preprocessed', f'{annotation}.pickle'), 'wb') as handle:\n",
    "    pickle.dump(adata, handle)"
   ]
  },
  {
   "cell_type": "markdown",
   "metadata": {},
   "source": [
    "## Pre-Integration Cell Labels (deprecated)"
   ]
  },
  {
   "cell_type": "markdown",
   "metadata": {},
   "source": [
    "### CellTypist"
   ]
  },
  {
   "cell_type": "code",
   "execution_count": null,
   "metadata": {},
   "outputs": [],
   "source": [
    "import celltypist\n",
    "from celltypist import models\n",
    "models.download_models(force_update = False)\n",
    "print(models.models_path)\n"
   ]
  },
  {
   "cell_type": "code",
   "execution_count": null,
   "metadata": {},
   "outputs": [],
   "source": [
    "def Annotate_celltypist(adata, model, modelname):\n",
    "    #celltypist-specific processing\n",
    "    tmp = adata.copy()\n",
    "    sc.pp.normalize_total(tmp,target_sum=1e4)\n",
    "    sc.pp.log1p(tmp)\n",
    "\n",
    "    predictions = celltypist.annotate(tmp, model=model, majority_voting=False).to_adata()\n",
    "    adata.obs[f'{modelname}-label'] = predictions.obs.loc[adata.obs.index,\"predicted_labels\"]\n",
    "    adata.obs[f'{modelname}-score'] = predictions.obs.loc[adata.obs.index,\"conf_score\"]\n",
    "    return adata\n",
    "\n",
    "model = models.Model.load(model=\"Immune_All_Low.pkl\")\n",
    "modelname = \"CT_immune_highres\"\n",
    "adata = [Annotate_celltypist(dat,model,modelname) for dat in adata]\n",
    "\n",
    "model = models.Model.load(model=\"Immune_All_High.pkl\")\n",
    "modelname = \"CT_immune_lowres\"\n",
    "adata = [Annotate_celltypist(dat,model,modelname) for dat in adata]"
   ]
  },
  {
   "cell_type": "markdown",
   "metadata": {},
   "source": [
    "Visualize"
   ]
  },
  {
   "cell_type": "code",
   "execution_count": null,
   "metadata": {},
   "outputs": [],
   "source": [
    "tmp = adata[1].copy()\n",
    "sc.pp.neighbors(tmp)\n",
    "sc.tl.umap(tmp)"
   ]
  },
  {
   "cell_type": "code",
   "execution_count": null,
   "metadata": {},
   "outputs": [],
   "source": [
    "sc.pl.umap(tmp,color=['CT_immune_highres-label','CT_immune_lowres-label'],legend_loc='on adata')\n",
    "sns.histplot(tmp.obs['CT_immune_lowres-score'])\n",
    "plt.figure()\n",
    "\n",
    "f,ax = plt.subplots(2, 1)\n",
    "_ = sns.histplot(tmp.obs['CT_immune_lowres-score'],ax=ax[0])\n",
    "_ = sns.histplot(tmp.obs['CT_immune_highres-score'],ax=ax[1])"
   ]
  },
  {
   "cell_type": "markdown",
   "metadata": {},
   "source": [
    "# Integration"
   ]
  },
  {
   "cell_type": "markdown",
   "metadata": {},
   "source": [
    "### Integrate"
   ]
  },
  {
   "cell_type": "code",
   "execution_count": null,
   "metadata": {},
   "outputs": [],
   "source": [
    "# load adata\n",
    "annotation = \"scDF\"\n",
    "with open(os.path.join(DATADIR,'processed',study,'py',\n",
    "                                  '1_preprocessed', f'{annotation}.h5ad'),\n",
    "                                  'rb') as handle:\n",
    "    adata = pickle.load(handle)"
   ]
  },
  {
   "cell_type": "code",
   "execution_count": null,
   "metadata": {},
   "outputs": [],
   "source": [
    "batch_column = 'Groups'\n",
    "hvg_kind = 'seurat'\n",
    "int_kind = 'harmony'\n",
    "\n",
    "# merge\n",
    "adata = sc.concat(adata, join='outer')\n",
    "adata.raw = adata.copy()\n",
    "\n",
    "# process & integrate\n",
    "adata = Normalize(adata, kind='log1p', batch_column=batch_column)\n",
    "adata = FindVariableGenes(adata, kind=hvg_kind, batch_column=batch_column)\n",
    "adata = Integrate(adata, kind = int_kind, batch_column=batch_column, use_var_genes=False)"
   ]
  },
  {
   "cell_type": "code",
   "execution_count": null,
   "metadata": {},
   "outputs": [],
   "source": [
    "# save\n",
    "annotation = \"scDF-seuratV3-harmony\"\n",
    "adata.write(os.path.join(DATADIR,'processed',study,'py',\n",
    "                                  '2_integrated', f'{annotation}.h5ad'))"
   ]
  },
  {
   "cell_type": "markdown",
   "metadata": {},
   "source": [
    "### Plot"
   ]
  },
  {
   "cell_type": "code",
   "execution_count": null,
   "metadata": {},
   "outputs": [],
   "source": [
    "annotation = \"scDF-seuratV3-harmony\"\n",
    "adata = sc.read_h5ad(os.path.join(DATADIR,'processed',study,'py',\n",
    "                                  '2_integrated', f'{annotation}.h5ad'))"
   ]
  },
  {
   "cell_type": "code",
   "execution_count": null,
   "metadata": {},
   "outputs": [],
   "source": [
    "# plot embeddings\n",
    "f = plt.figure(figsize=(12,5), layout=\"constrained\")\n",
    "check_integration(adata, \"Groups\", f, mini=True)\n",
    "f = plt.figure(figsize=(18,12), layout=\"constrained\")\n",
    "check_integration(adata, \"Groups\", f, nrow=2, ncol=2, mini=False)"
   ]
  },
  {
   "cell_type": "code",
   "execution_count": null,
   "metadata": {},
   "outputs": [],
   "source": [
    "# Feature marker plots\n",
    "markers = [\"Adipoq\", \"Pdgfra\", \"Upk3b\", \"Cdh5\", \"Rgs5\", \"Adgre1\", \"Flt3\", \"Cpa3\", \"Skap1\", \"Igkc\"]\n",
    "sc.pl.umap(adata, color=markers, layer='normalized')\n",
    "sc.pl.embedding(adata, basis=\"LocalMAP\", color=markers, layer='normalized')"
   ]
  },
  {
   "cell_type": "markdown",
   "metadata": {},
   "source": [
    "# Analysis"
   ]
  },
  {
   "cell_type": "markdown",
   "metadata": {},
   "source": [
    "## Overall Clustering"
   ]
  },
  {
   "cell_type": "markdown",
   "metadata": {},
   "source": [
    "### Cluster"
   ]
  },
  {
   "cell_type": "code",
   "execution_count": null,
   "metadata": {},
   "outputs": [],
   "source": [
    "# load data\n",
    "annotation = \"scDF-seuratV3-harmony\"\n",
    "adata = sc.read_h5ad(os.path.join(DATADIR,'processed',study,'py',\n",
    "                                  '2_integrated', f'{annotation}.h5ad'))\n",
    "adata.obs[\"Groups\"] = pd.Categorical(adata.obs[\"Groups\"],categories=['LFD_eWAT', 'HFD_eWAT', 'LFD_iWAT', 'HFD_iWAT'], ordered=True)\n",
    "adata.raw = adata.copy()"
   ]
  },
  {
   "cell_type": "code",
   "execution_count": null,
   "metadata": {},
   "outputs": [],
   "source": [
    "resolution = 1\n",
    "compareUMAP = False\n",
    "recluster = False\n",
    "groupname = 'leiden'\n",
    "\n",
    "# leiden clustering\n",
    "if recluster is True:\n",
    "    sc.tl.leiden(adata, resolution,random_state=123)\n",
    "    print(f\"{len(adata.obs['leiden'].unique())} clusters found at resolution {int(adata.uns['leiden']['params']['resolution'])}!\")\n",
    "\n",
    "if compareUMAP is True:\n",
    "    try: \n",
    "        del adata.uns[\"leiden_colors\"]\n",
    "    except KeyError:\n",
    "        pass\n",
    "\n",
    "    f = plt.figure(figsize=(12,5), layout=\"constrained\")\n",
    "    check_integration(adata, \"leiden\", f, mini=True)\n",
    "\n",
    "# figure prep\n",
    "cluster_c = color_gen(adata.obs[groupname])\n",
    "f = plt.figure(figsize=(25,15),layout=\"constrained\")\n",
    "sf = f.subfigures(1,2, width_ratios=[2, 1.5])\n",
    "\n",
    "axs = sf[0].subplots(3,3)\n",
    "gs = axs[0,0].get_gridspec()\n",
    "empty_axs(axs)\n",
    "\n",
    "# Large LocalMAP plot\n",
    "embedding = \"X_umap\" # \"LocalMAP\"\n",
    "ax = sf[0].add_subplot(gs[:2,:])\n",
    "sc.pl.embedding(adata, basis=embedding, color=[groupname], ax=ax, show=False,\n",
    "                legend_loc='on data', legend_fontoutline=2, legend_fontsize=20, palette=cluster_c.to_list())\n",
    "ax = sf[0].add_subplot(gs[2,0])\n",
    "sc.pl.embedding(adata, basis=embedding, color=['Groups'], ax=ax, show=False, alpha=0.7)\n",
    "ax = sf[0].add_subplot(gs[2,1])\n",
    "sc.pl.embedding(adata, basis=embedding, color=['Condition'], ax=ax, show=False, alpha=0.7)\n",
    "ax = sf[0].add_subplot(gs[2,2])\n",
    "sc.pl.embedding(adata, basis=embedding, color=['Sample Type'], ax=ax, show=False, alpha=0.7)\n",
    "\n",
    "# Violin marker plots\n",
    "markers = [\"Adipoq\", \"Pdgfra\", \"Upk3b\", \"Cdh5\", \"Rgs5\", \"Adgre1\", \"Flt3\", \"Cpa3\", \"Skap1\", \"Igkc\"]\n",
    "cluster_violinplot(adata, markers, groupname, sf[1])"
   ]
  },
  {
   "cell_type": "markdown",
   "metadata": {},
   "source": [
    "### Doublet Checking\n",
    "only use on '-hasDoublets' verions!"
   ]
  },
  {
   "cell_type": "code",
   "execution_count": null,
   "metadata": {},
   "outputs": [],
   "source": [
    "sc.pl.embedding(adata, basis='LocalMAP', color = [f\"predicted_doublet-{method}\" for method in DOUBLETMETHODS],ncols=2)\n",
    "sc.pl.embedding(adata, basis='LocalMAP', color = 'n_genes')\n",
    "for method in DOUBLETMETHODS:\n",
    "    print(adata.obs.groupby('leiden')[f'predicted_doublet-{method}'].mean().sort_values())"
   ]
  },
  {
   "cell_type": "code",
   "execution_count": null,
   "metadata": {},
   "outputs": [],
   "source": [
    "# sc.tl.rank_genes_groups(adata, groupby='leiden')\n",
    "gene_groups = sc.get.rank_genes_groups_df(adata, group=None)\n",
    "gene_groups[gene_groups.group == '0'].head(20)"
   ]
  },
  {
   "cell_type": "markdown",
   "metadata": {},
   "source": [
    "### Annotate"
   ]
  },
  {
   "cell_type": "code",
   "execution_count": null,
   "metadata": {},
   "outputs": [],
   "source": [
    "# Get PangloDB\n",
    "markers = dc.op.resource('PanglaoDB', organism='mouse')\n",
    "# Filter by canonical_marker and human\n",
    "markers = markers[markers['mouse'].astype(bool) & markers['canonical_marker'].astype(bool) & (markers['mouse_sensitivity'].astype(float) > 0.5)]\n",
    "# Cleaning\n",
    "markers = markers[~markers.duplicated(['cell_type', 'genesymbol'])]\n",
    "markers = markers.rename(columns={'cell_type': 'source', 'genesymbol': 'target'})\n",
    "markers = markers[['source', 'target']]\n",
    "\n",
    "# fit model\n",
    "dc.mt.ulm(data=adata, net=markers, tmin=3)\n",
    "score = dc.pp.get_obsm(adata, key='score_ulm')\n",
    "\n",
    "# get top cell types\n",
    "df = dc.tl.rankby_group(adata=score, groupby='leiden', reference='rest', method='t-test_overestim_var')\n",
    "df = df[df['stat'] > 0]\n",
    "n_ctypes = 3\n",
    "ctypes_dict = df.groupby('group').head(n_ctypes).groupby('group')['name'].apply(lambda x: list(x)).to_dict()\n",
    "\n",
    "# Cell Types of Interest\n",
    "cell_types = ['Adipocytes', 'Fibroblasts', 'Endothelial cells', 'Pericytes', 'Smooth muscle cells', 'Macrophages', 'Monocytes', 'Dendritic cells', 'T cells']\n",
    "\n",
    "# Plotting\n",
    "sc.pl.embedding(score, basis=\"LocalMAP\", color=cell_types, layer='self')\n",
    "sc.pl.embedding(score, basis=\"LocalMAP\", color='cell_type', layer='self')\n",
    "\n",
    "f = plt.figure(figsize=(6,10),layout=\"constrained\")\n",
    "cluster_violinplot(score,cell_types,'leiden',f,'self')"
   ]
  },
  {
   "cell_type": "code",
   "execution_count": null,
   "metadata": {},
   "outputs": [],
   "source": [
    "remap = True\n",
    "\n",
    "if remap is True:\n",
    "    mapping = {\n",
    "        0  : 'Adipocyte',  1  : 'Fibroblast',  2  : 'Fibroblast',   3  : 'Adipocyte',  4  : 'Macrophage',\n",
    "        5  : 'Fibroblast',   6  : 'Adipocyte',   7  : 'Adipocyte',  8  : 'Macrophage', 9  : 'Adipocyte',\n",
    "        10 : 'Adipocyte',   11 : 'Endothelial',   12 : 'Endothelial',   13 : 'Fibroblast',   14 : 'Mesothelial',\n",
    "        15 : 'Macrophage',  16 : 'PC/SMC',   17 : 'Adipocyte',   18 : 'Adipocyte',   19 : 'Dendritic Cell',\n",
    "        20 : 'Macrophage',  21 : 'Fibroblast',  22 : 'T cell',  23 : 'Macrophage',\n",
    "    }\n",
    "\n",
    "    try:\n",
    "        assert len(mapping) == len(adata.obs['leiden'].unique())\n",
    "    except AssertionError:\n",
    "        print(f\"At resolution {resolution}, {len(adata.obs['leiden'].unique())} clusters identified, but only {len(mapping)} mappings provided!\")\n",
    "\n",
    "    adata.obs['cell_type'] = adata.obs['leiden'].astype(int).replace(mapping)\n",
    "    adata.obs['cell_type'] = pd.Categorical(adata.obs['cell_type'],\n",
    "                                            categories=['Adipocyte', 'Fibroblast', 'Mesothelial', 'Endothelial', 'PC/SMC', 'Macrophage', 'Dendritic Cell', 'T cell'],\n",
    "                                            ordered=True)\n",
    "\n",
    "for obsm in [\"X_umap\", \"LocalMAP\"]:\n",
    "    f,axs = plt.subplots(1,3,figsize=(20,5),layout='constrained')\n",
    "    sc.pl.embedding(adata, basis=obsm, color=['leiden'], ax=axs[0], show=False, palette=color_gen(adata.obs[\"leiden\"]).to_list())\n",
    "    sc.pl.embedding(adata, basis=obsm, color = ['cell_type'], ax=axs[1], show=False, palette=color_gen(adata.obs['cell_type']).to_list())\n",
    "    sc.pl.embedding(adata, basis=obsm, color = ['Groups'], ax=axs[2], show=False, palette=color_gen(adata.obs['Groups']).to_list(), alpha=0.5)"
   ]
  },
  {
   "cell_type": "code",
   "execution_count": null,
   "metadata": {},
   "outputs": [],
   "source": [
    "# figure prep\n",
    "groupname = \"cell_type\"\n",
    "cluster_c = color_gen(adata.obs[groupname])\n",
    "f = plt.figure(figsize=(25,15),layout=\"constrained\")\n",
    "sf = f.subfigures(1,2, width_ratios=[2, 1.5])\n",
    "\n",
    "axs = sf[0].subplots(3,3)\n",
    "gs = axs[0,0].get_gridspec()\n",
    "empty_axs(axs)\n",
    "\n",
    "# Large LocalMAP plot\n",
    "embedding = \"LocalMAP\" # \"X_umap\"\n",
    "ax = sf[0].add_subplot(gs[:2,:])\n",
    "sc.pl.embedding(adata, basis=embedding, color=[groupname], ax=ax, show=False,\n",
    "                legend_loc='on data', legend_fontoutline=2, legend_fontsize=20, palette=cluster_c.to_list())\n",
    "ax = sf[0].add_subplot(gs[2,0])\n",
    "sc.pl.embedding(adata, basis=embedding, color=['Groups'], ax=ax, show=False, alpha=0.7)\n",
    "ax = sf[0].add_subplot(gs[2,1])\n",
    "sc.pl.embedding(adata, basis=embedding, color=['Condition'], ax=ax, show=False, alpha=0.7)\n",
    "ax = sf[0].add_subplot(gs[2,2])\n",
    "sc.pl.embedding(adata, basis=embedding, color=['Sample Type'], ax=ax, show=False, alpha=0.7)\n",
    "\n",
    "# Violin marker plots\n",
    "markers = [\"Adipoq\", \"Pdgfra\", \"Upk3b\", \"Cdh5\", \"Rgs5\", \"Adgre1\", \"Flt3\", \"Cpa3\", \"Skap1\", \"Igkc\"]\n",
    "cluster_violinplot(adata, markers, groupname, sf[1])"
   ]
  },
  {
   "cell_type": "code",
   "execution_count": null,
   "metadata": {},
   "outputs": [],
   "source": [
    "f = plt.figure(figsize=(10, 5), layout=\"constrained\")\n",
    "axs = f.subplots(1, 2)\n",
    "cluster_stackedbarplot(adata, \"Groups\", \"cell_type\", pct=False, ax=axs[0])\n",
    "cluster_stackedbarplot(adata, \"Groups\", \"cell_type\", pct=True, ax=axs[1])\n",
    "\n",
    "f = plt.figure(figsize=(10, 5), layout=\"constrained\")\n",
    "axs = f.subplots(1, 2)\n",
    "cluster_stackedbarplot(adata, \"cell_type\", \"Groups\", pct=False, ax=axs[0])\n",
    "cluster_stackedbarplot(adata, \"cell_type\", \"Groups\", pct=True, ax=axs[1])"
   ]
  },
  {
   "cell_type": "markdown",
   "metadata": {},
   "source": [
    "### DEGs"
   ]
  },
  {
   "cell_type": "code",
   "execution_count": null,
   "metadata": {},
   "outputs": [],
   "source": [
    "sc.tl.rank_genes_groups(adata, groupby='cell_type',\n",
    "                        use_raw=False, layer=\"normalized\", key_added='de_all',\n",
    "                        method='wilcoxon')\n",
    "\n",
    "f, ax = plt.subplots(1,1,figsize=(30,5),layout=\"constrained\")\n",
    "sc.pl.rank_genes_groups_dotplot(\n",
    "    adata, groupby=\"cell_type\", key='de_all',\n",
    "    standard_scale=\"var\", n_genes=10,\n",
    "    var_group_rotation=30, ax=ax\n",
    ")\n",
    "\n",
    "comparison = [\"Adipocyte\", \"Fibroblast\", \"Macrophage\"]\n",
    "f, ax = plt.subplots(1,1,figsize=(30,5),layout=\"constrained\")\n",
    "sc.pl.rank_genes_groups_dotplot(\n",
    "    adata, groupby=\"cell_type\", groups=comparison, key='de_all',\n",
    "    standard_scale=\"var\", n_genes=30,\n",
    "    var_group_rotation=30, ax=ax\n",
    ")\n",
    "\n",
    "df = sc.get.rank_genes_groups_df(adata, group=None, key='de_all')"
   ]
  },
  {
   "cell_type": "code",
   "execution_count": null,
   "metadata": {},
   "outputs": [],
   "source": [
    "marker_of_interest = \"Adgre1\"\n",
    "df[df[\"names\"] == marker_of_interest]\n",
    "\n",
    "celltype_of_interest = \"Adipocyte\"\n",
    "df[df[\"group\"] == celltype_of_interest].head(50)"
   ]
  },
  {
   "cell_type": "markdown",
   "metadata": {},
   "source": [
    "### Psuedobulk DEGs"
   ]
  },
  {
   "cell_type": "markdown",
   "metadata": {},
   "source": [
    "see Decoupler PB https://decoupler.readthedocs.io/en/latest/notebooks/scell/rna_psbk.html#differential-expression-analysis\n",
    "in-depth design matrix discussion: https://f1000research.com/articles/9-1444"
   ]
  },
  {
   "cell_type": "code",
   "execution_count": null,
   "metadata": {},
   "outputs": [],
   "source": [
    "pdata = dc.pp.pseudobulk(\n",
    "    adata,\n",
    "    sample_col=\"Groups\",\n",
    "    groups_col=\"cell_type\",\n",
    "    # min_prop=0.1,\n",
    "    # min_smpls=3,\n",
    "    layer=\"counts\",\n",
    "    raw=False\n",
    ")\n",
    "pdata.layers[\"counts\"] = pdata.X.copy()\n",
    "\n",
    "# Does PC1 captures a meaningful biological or technical fact?\n",
    "pdata.obs[\"lib_size\"] = pdata.X.sum(1)\n",
    "\n",
    "# Normalize\n",
    "sc.pp.normalize_total(pdata, target_sum=1e4)\n",
    "sc.pp.log1p(pdata)\n",
    "\n",
    "logFCs, pvals = dc.pp.contrast(\n",
    "    pdata,\n",
    "    group_col=\"cell_type\",\n",
    "    condition_col=\"condition\",\n",
    "    condition=\"stim\",\n",
    "    reference=\"ctrl\",\n",
    "    method=\"t-test\",\n",
    ")"
   ]
  },
  {
   "cell_type": "markdown",
   "metadata": {},
   "source": [
    "### GSEA\n",
    "* uses `m2.cp.v2025.1.Mm.symbols.gmt`, downloaded from [here](https://www.gsea-msigdb.org/gsea/msigdb/mouse/collections.jsp?targetSpeciesDB=Mouse#M2) (6/2025)"
   ]
  },
  {
   "cell_type": "code",
   "execution_count": 5,
   "metadata": {},
   "outputs": [],
   "source": [
    "def plot_gsea(adata, key='score_ulm', n_markers=5, flip=True):\n",
    "    score = dc.pp.get_obsm(adata=adata, key=key)\n",
    "    df = dc.tl.rankby_group(\n",
    "        adata=score,\n",
    "        groupby='cell_type',\n",
    "        reference='rest',\n",
    "        method='wilcoxon'\n",
    "    )\n",
    "    df = df[df['stat'] > 0]\n",
    "    \n",
    "    source_markers = (\n",
    "        df\n",
    "        .groupby('group')\n",
    "        .head(n_markers)\n",
    "        .drop_duplicates('name')\n",
    "        .groupby('group')\n",
    "        ['name']\n",
    "        .apply(lambda x: list(x))\n",
    "        .to_dict()\n",
    "    )\n",
    "    print(source_markers)\n",
    "    sc.pl.matrixplot(\n",
    "        adata=score,\n",
    "        var_names=source_markers,\n",
    "        groupby='cell_type',\n",
    "        dendrogram=True,\n",
    "        standard_scale='var',\n",
    "        colorbar_title='Z-scaled scores',\n",
    "        cmap='RdBu',\n",
    "        swap_axes=flip,\n",
    "    )\n",
    "\n",
    "# output = dc.mt.gsea(data=adata, net=reactome, layer=\"normalized\", verbose=True)\n",
    "# output = dc.mt.decouple(data=adata, net=reactome, layer=\"normalized\", verbose=True)\n",
    "# output = dc.mt.ulm(data=adata, net=reactome, layer=\"normalized\", verbose=True)"
   ]
  },
  {
   "cell_type": "code",
   "execution_count": null,
   "metadata": {},
   "outputs": [
    {
     "data": {
      "text/plain": [
       "AGGACTTTCGACGACC-1_GSM7747185-LFD_eWAT-1         PC/SMC\n",
       "CCTATCGTCATAGCAC-1_GSM7747185-LFD_eWAT-1      Adipocyte\n",
       "TACATTCCATGACTGT-1_GSM7747185-LFD_eWAT-1      Adipocyte\n",
       "TTGTTCACACAGTCGC-1_GSM7747185-LFD_eWAT-1    Endothelial\n",
       "CCTCCTCGTAGCTTAC-1_GSM7747185-LFD_eWAT-1      Adipocyte\n",
       "                                               ...     \n",
       "CTCCCAATCAAATGCC-1_GSM7747188-HFD_iWAT-1     Fibroblast\n",
       "GTTGAACAGTCACTCA-1_GSM7747188-HFD_iWAT-1     Fibroblast\n",
       "GTGTCCTCAAGTAGTA-1_GSM7747188-HFD_iWAT-1     Fibroblast\n",
       "TTATTGCTCAAGCGTT-1_GSM7747188-HFD_iWAT-1      Adipocyte\n",
       "AGGAATACATGGCCAC-1_GSM7747188-HFD_iWAT-1     Fibroblast\n",
       "Name: cell_type, Length: 13861, dtype: category\n",
       "Categories (8, object): ['Adipocyte' < 'Fibroblast' < 'Mesothelial' < 'Endothelial' < 'PC/SMC' < 'Macrophage' < 'Dendritic Cell' < 'T cell']"
      ]
     },
     "execution_count": 12,
     "metadata": {},
     "output_type": "execute_result"
    }
   ],
   "source": [
    "for celltype in adata.obs['cell_type'].cat.categories:\n",
    "    adata[adata.obs['cell_type'] == celltype]"
   ]
  },
  {
   "cell_type": "code",
   "execution_count": null,
   "metadata": {},
   "outputs": [
    {
     "name": "stderr",
     "output_type": "stream",
     "text": [
      "INFO:root:ulm - Running ulm\n",
      "INFO:root:Extracted omics mat with 13861 rows (observations) and 18707 columns (features)\n",
      "WARNING:root:weight not found in net.columns, adding it as:\n",
      "net['weight'] = 1\n",
      "INFO:root:Network adjacency matrix has 8416 unique features and 1678 unique sources\n"
     ]
    },
    {
     "data": {
      "application/vnd.jupyter.widget-view+json": {
       "model_id": "695cfc5ec34d4fc7a5f96624632b4f23",
       "version_major": 2,
       "version_minor": 0
      },
      "text/plain": [
       "  0%|          | 0/1 [00:00<?, ?it/s]"
      ]
     },
     "metadata": {},
     "output_type": "display_data"
    },
    {
     "name": "stderr",
     "output_type": "stream",
     "text": [
      "INFO:root:ulm - fitting 1678 univariate models of 18707 observations (targets) with 18705 degrees of freedom\n",
      "INFO:root:ulm - adjusting p-values by FDR\n",
      "INFO:root:ulm - done\n"
     ]
    },
    {
     "name": "stdout",
     "output_type": "stream",
     "text": [
      "{'Adipocyte': ['REACTOME_BIOTIN_TRANSPORT_AND_METABOLISM', 'REACTOME_BRANCHED_CHAIN_AMINO_ACID_CATABOLISM', 'REACTOME_GLYCEROPHOSPHOLIPID_BIOSYNTHESIS', 'REACTOME_TRIGLYCERIDE_BIOSYNTHESIS', 'WP_ADIPOGENESIS_GENES'], 'Dendritic Cell': ['REACTOME_REGULATION_OF_T_CELL_ACTIVATION_BY_CD28_FAMILY', 'REACTOME_PHOSPHORYLATION_OF_CD3_AND_TCR_ZETA_CHAINS', 'REACTOME_GENERATION_OF_SECOND_MESSENGER_MOLECULES', 'REACTOME_FCGAMMA_RECEPTOR_FCGR_DEPENDENT_PHAGOCYTOSIS', 'WP_G13_SIGNALING_PATHWAY'], 'Endothelial': ['REACTOME_CELL_JUNCTION_ORGANIZATION', 'REACTOME_GLUCAGON_LIKE_PEPTIDE_1_GLP1_REGULATES_INSULIN_SECRETION', 'BIOCARTA_CELL2CELL_PATHWAY', 'REACTOME_AQUAPORIN_MEDIATED_TRANSPORT', 'REACTOME_APOPTOTIC_CLEAVAGE_OF_CELL_ADHESION_PROTEINS'], 'Fibroblast': ['REACTOME_DERMATAN_SULFATE_BIOSYNTHESIS', 'WP_INFLAMMATORY_RESPONSE_PATHWAY', 'REACTOME_GLYCOSAMINOGLYCAN_METABOLISM', 'REACTOME_A_TETRASACCHARIDE_LINKER_SEQUENCE_IS_REQUIRED_FOR_GAG_SYNTHESIS', 'REACTOME_CHONDROITIN_SULFATE_DERMATAN_SULFATE_METABOLISM'], 'Macrophage': ['REACTOME_INNATE_IMMUNE_SYSTEM', 'WP_MICROGLIA_PATHOGEN_PHAGOCYTOSIS_PATHWAY', 'REACTOME_IMMUNE_SYSTEM', 'REACTOME_ROS_AND_RNS_PRODUCTION_IN_PHAGOCYTES', 'REACTOME_TOLL_LIKE_RECEPTOR_CASCADES'], 'Mesothelial': ['REACTOME_LIGAND_RECEPTOR_INTERACTIONS', 'REACTOME_RECEPTOR_TYPE_TYROSINE_PROTEIN_PHOSPHATASES', 'REACTOME_FGFR3B_LIGAND_BINDING_AND_ACTIVATION', 'REACTOME_ACTIVATION_OF_SMO', 'REACTOME_PROTEIN_PROTEIN_INTERACTIONS_AT_SYNAPSES'], 'PC/SMC': ['REACTOME_SMOOTH_MUSCLE_CONTRACTION', 'REACTOME_MUSCLE_CONTRACTION', 'REACTOME_PLATELET_HOMEOSTASIS', 'REACTOME_POTASSIUM_CHANNELS', 'REACTOME_PRE_NOTCH_PROCESSING_IN_GOLGI'], 'T cell': ['REACTOME_CELL_CYCLE', 'REACTOME_MITOTIC_PROPHASE', 'REACTOME_M_PHASE', 'REACTOME_SUMOYLATION_OF_DNA_REPLICATION_PROTEINS', 'BIOCARTA_CELLCYCLE_PATHWAY']}\n"
     ]
    },
    {
     "data": {
      "image/png": "[encoded data removed]",
      "text/plain": [
       "<Figure size 446x1580 with 5 Axes>"
      ]
     },
     "metadata": {},
     "output_type": "display_data"
    }
   ],
   "source": [
    "# msigdb = dc.op.resource(\"MSigDB\", \"mouse\")\n",
    "# msigdb_cp = msigdb.query(\"collection == 'reactome_pathways'\")\n",
    "# msigdb_cp = reactome[~reactome.duplicated((\"geneset\", \"genesymbol\"))]\n",
    "\n",
    "name = \"mouse_CP\"\n",
    "reactome = dc.pp.read_gmt(os.path.join(REFDIR,\"interactome\", \"m2.cp.v2025.1.Mm.symbols.gmt\"))\n",
    "dc.mt.ulm(data=adata, net=reactome, layer=\"normalized\", verbose=True)\n",
    "adata.obsm[f\"{name}_score_ulm\"] = adata.obsm[\"score_ulm\"]\n",
    "adata.obsm[f\"{name}_padj_ulm\"] = adata.obsm[\"padj_ulm\"]\n",
    "plot_gsea(adata, f\"{name}_score_ulm\", 5)\n",
    "\n",
    "name = \"Hallmark_ULM\"\n",
    "reactome = dc.pp.read_gmt(os.path.join(REFDIR,\"interactome\", \"mh.all.v2025.1.Mm.symbols.gmt\"))\n",
    "dc.mt.ulm(data=adata, net=reactome, layer=\"normalized\")\n",
    "adata.obsm[f\"{name}_score_ulm\"] = adata.obsm[\"score_ulm\"]\n",
    "adata.obsm[f\"{name}_padj_ulm\"] = adata.obsm[\"padj_ulm\"]\n",
    "plot_gsea(adata, f\"{name}_score_ulm\", 5)\n",
    "\n",
    "name = \"dcHallmark_ULM\"\n",
    "reactome = dc.op.hallmark(organism='mouse')\n",
    "dc.mt.ulm(data=adata, net=reactome, layer=\"normalized\")\n",
    "adata.obsm[f\"{name}_score_ulm\"] = adata.obsm[\"score_ulm\"]\n",
    "adata.obsm[f\"{name}_padj_ulm\"] = adata.obsm[\"padj_ulm\"]\n",
    "plot_gsea(adata, f\"{name}_score_ulm\", 5, flip=True)"
   ]
  },
  {
   "cell_type": "code",
   "execution_count": null,
   "metadata": {},
   "outputs": [
    {
     "name": "stdout",
     "output_type": "stream",
     "text": [
      "{'Adipocyte': ['Pou1f1', 'Nr0b1', 'Gfi1', 'Rxra', 'Hnf4g'], 'Dendritic Cell': ['Rfx5', 'Rfxap', 'Rfxank', 'Ciita', 'Zfp160'], 'Endothelial': ['Sox7', 'Asxl1', 'Sox18', 'Gata5'], 'Fibroblast': ['Runx2', 'Zfpm2', 'Scx', 'Fosl1', 'Dlx5'], 'Macrophage': ['Elf1', 'Spic', 'Rel', 'Irf2', 'Spi1'], 'Mesothelial': ['Fezf2', 'Zfp24', 'Ybx3', 'Shox2', 'Foxj1'], 'PC/SMC': ['Mef2c', 'Foxc2', 'Pax7', 'Foxh1', 'Erg'], 'T cell': ['E2f4', 'Mxd1', 'Rest', 'Npm1', 'Hic1']}\n"
     ]
    },
    {
     "data": {
      "image/png": "[encoded data removed]",
      "text/plain": [
       "<Figure size 1673x380 with 5 Axes>"
      ]
     },
     "metadata": {},
     "output_type": "display_data"
    }
   ],
   "source": [
    "name = \"CollecTRI_ULM\"\n",
    "collectri = dc.op.collectri(organism='mouse')\n",
    "dc.mt.ulm(data=adata, net=collectri, layer=\"normalized\")\n",
    "adata.obsm[f\"{name}_score_ulm\"] = adata.obsm[\"score_ulm\"]\n",
    "adata.obsm[f\"{name}_padj_ulm\"] = adata.obsm[\"padj_ulm\"]\n",
    "plot_gsea(adata, f\"{name}_score_ulm\", 5, False)"
   ]
  },
  {
   "cell_type": "markdown",
   "metadata": {},
   "source": [
    "### Save/Load"
   ]
  },
  {
   "cell_type": "code",
   "execution_count": null,
   "metadata": {},
   "outputs": [],
   "source": [
    "# save\n",
    "annotation = \"scDF-seuratV3-harmony-leiden_1.0\"\n",
    "adata.write(os.path.join(DATADIR,'processed',study,'py',\n",
    "                                  '3_annotated', f'{annotation}.h5ad'))"
   ]
  },
  {
   "cell_type": "code",
   "execution_count": 6,
   "metadata": {},
   "outputs": [],
   "source": [
    "# load\n",
    "annotation = \"scDF-seuratV3-harmony-leiden_1.0\"\n",
    "adata = sc.read_h5ad(os.path.join(DATADIR,'processed',study,'py',\n",
    "                                  '3_annotated', f'{annotation}.h5ad'))"
   ]
  },
  {
   "cell_type": "markdown",
   "metadata": {},
   "source": [
    "##### Create Cloupe"
   ]
  },
  {
   "cell_type": "code",
   "execution_count": null,
   "metadata": {},
   "outputs": [],
   "source": [
    "export = sc.AnnData(X = adata.layers[\"counts\"].copy(),\n",
    "                    obs = adata.obs[[\"Identifier\", \"Experiment\", \"Groups\", \"Condition\", \"Sample Type\", \"leiden\", \"cell_type\"]].copy(),\n",
    "                    var = adata.var[[\"highly_variable\",\"means\",\"variances\"]].copy(),\n",
    "                    obsm = adata.obsm.copy())\n",
    "\n",
    "with localconverter(converter):\n",
    "    R_preload()\n",
    "    ro.globalenv[\"sce\"] = export\n",
    "    ro.r(\"\"\"\n",
    "    library(\"loupeR\")\n",
    "    clust <- as.list(colData(sce))\n",
    "    proj <- as.list(reducedDims(sce))\n",
    "    proj$integrated <- proj$integrated[,1:2]\n",
    "    proj$PCA <- proj$PCA[,1:2]\n",
    "\n",
    "    create_loupe(\n",
    "        assay(sce, \"X\"),\n",
    "        clusters = clust, \n",
    "        projections = proj,\n",
    "        output_name = \"output\",\n",
    "    )\n",
    "    \"\"\")"
   ]
  },
  {
   "cell_type": "markdown",
   "metadata": {},
   "source": [
    "## Subclustering"
   ]
  },
  {
   "cell_type": "code",
   "execution_count": null,
   "metadata": {},
   "outputs": [],
   "source": [
    "# load\n",
    "annotation = \"scDF-seuratV3-harmony-leiden_1.0\"\n",
    "adata = sc.read_h5ad(os.path.join(DATADIR,'processed',study,'py',\n",
    "                                  '3_annotated', f'{annotation}.h5ad'))"
   ]
  },
  {
   "cell_type": "markdown",
   "metadata": {},
   "source": [
    "### Macrophages"
   ]
  },
  {
   "cell_type": "code",
   "execution_count": null,
   "metadata": {},
   "outputs": [],
   "source": [
    "# subset\n",
    "adata_macros = adata[adata.obs[\"cell_type\"] == \"Macrophage\"].copy()\n",
    "del adata_macros.uns, adata_macros.varm, adata_macros.obsp\n",
    "sc.pp.filter_cells(adata_macros, min_genes=200)\n",
    "sc.pp.filter_genes(adata_macros, min_cells=5)\n",
    "\n",
    "# UMAP\n",
    "sc.pp.neighbors(adata_macros, use_rep = \"integrated\")\n",
    "sc.tl.umap(adata_macros, key_added='umap_macro')\n",
    "\n",
    "#LocalMAP\n",
    "lm = LocalMAP()\n",
    "adata_macros.obsm[\"LocalMAP_macro\"] = lm.fit_transform(adata_macros.obsm['integrated'])"
   ]
  },
  {
   "cell_type": "code",
   "execution_count": null,
   "metadata": {},
   "outputs": [],
   "source": [
    "# integration check\n",
    "f = plt.figure(figsize=(18,12), layout=\"constrained\")\n",
    "check_integration(adata_macros, \"Groups\", f, embeddings=[\"umap_macro\", \"LocalMAP_macro\"], nrow=2, ncol=2)"
   ]
  },
  {
   "cell_type": "markdown",
   "metadata": {},
   "source": [
    "#### Clusters"
   ]
  },
  {
   "cell_type": "code",
   "execution_count": null,
   "metadata": {},
   "outputs": [],
   "source": [
    "# cluster\n",
    "recluster = False\n",
    "groupname = \"leiden_macro\"\n",
    "\n",
    "if recluster is True:\n",
    "    sc.tl.leiden(adata_macros, resolution=0.5, key_added='leiden_macro')\n",
    "    order_obs(adata_macros,\"leiden_macro\",pd.Series([2,1,6,0,4,3,7,5]).astype(str))\n",
    "\n",
    "# figure prep\n",
    "cluster_c = color_gen(adata_macros.obs[groupname])\n",
    "f = plt.figure(figsize=(25,15),layout=\"constrained\")\n",
    "sf = f.subfigures(1,2, width_ratios=[2, 1])\n",
    "\n",
    "axs = sf[0].subplots(3,3)\n",
    "gs = axs[0,0].get_gridspec()\n",
    "empty_axs(axs)\n",
    "\n",
    "# Large LocalMAP plot\n",
    "embedding = \"umap_macro\" # \"LocalMAP_macro\"\n",
    "ax = sf[0].add_subplot(gs[:2,:])\n",
    "sc.pl.embedding(adata_macros, basis=embedding, color=[groupname], ax=ax, show=False,\n",
    "                legend_loc='on data', legend_fontoutline=2, legend_fontsize=20, palette=cluster_c.to_list())\n",
    "ax = sf[0].add_subplot(gs[2,0])\n",
    "sc.pl.embedding(adata_macros, basis=embedding, color=['Groups'], ax=ax, show=False, alpha=0.7)\n",
    "ax = sf[0].add_subplot(gs[2,1])\n",
    "sc.pl.embedding(adata_macros, basis=embedding, color=['Condition'], ax=ax, show=False, alpha=0.7)\n",
    "ax = sf[0].add_subplot(gs[2,2])\n",
    "sc.pl.embedding(adata_macros, basis=embedding, color=['Sample Type'], ax=ax, show=False, alpha=0.7)\n",
    "\n",
    "# Violin marker plots\n",
    "markers = [\"Adgre1\", \"Cd209f\", \"Creb5\", \"Gpnmb\", \"Cd226\", \"Plac8\", \"Slpi\", \"Col1a2\"]\n",
    "cluster_violinplot(adata_macros, markers, groupname, sf[1])"
   ]
  },
  {
   "cell_type": "markdown",
   "metadata": {},
   "source": [
    "#### Annotations"
   ]
  },
  {
   "cell_type": "code",
   "execution_count": null,
   "metadata": {},
   "outputs": [],
   "source": [
    "# reannotate\n",
    "adata_macros.obs[\"leiden_macro_group\"] = adata_macros.obs[\"leiden_macro\"].map(\n",
    "    {'2' : 1,\n",
    "     '1' : 2, '6' : 3,\n",
    "     '0' : 3, '4' : 3, '3' : 3,\n",
    "     '7' : 4,\n",
    "     '5' : 5,\n",
    "     }).astype(str)\n",
    "order_obs(adata_macros,\"leiden_macro_group\",pd.Series(np.arange(1,6)).astype(str))\n",
    "\n",
    "f = plt.figure(figsize=(10, 5), layout=\"constrained\")\n",
    "axs = f.subplots(1, 2)\n",
    "cluster_stackedbarplot(adata_macros, \"Groups\", \"leiden_macro_group\", pct=False, ax=axs[0])\n",
    "cluster_stackedbarplot(adata_macros, \"Groups\", \"leiden_macro_group\", pct=True, ax=axs[1])\n",
    "\n",
    "f = plt.figure(figsize=(10, 5), layout=\"constrained\")\n",
    "axs = f.subplots(1, 2)\n",
    "cluster_stackedbarplot(adata_macros, \"leiden_macro_group\", \"Groups\", pct=False, ax=axs[0])\n",
    "cluster_stackedbarplot(adata_macros, \"leiden_macro_group\", \"Groups\", pct=True, ax=axs[1])"
   ]
  },
  {
   "cell_type": "code",
   "execution_count": null,
   "metadata": {},
   "outputs": [],
   "source": [
    "# figure prep\n",
    "groupname = \"leiden_macro_group\"\n",
    "cluster_c = color_gen(adata_macros.obs[groupname])\n",
    "f = plt.figure(figsize=(25,15),layout=\"constrained\")\n",
    "sf = f.subfigures(1,2, width_ratios=[2, 1])\n",
    "\n",
    "axs = sf[0].subplots(3,3)\n",
    "gs = axs[0,0].get_gridspec()\n",
    "empty_axs(axs)\n",
    "\n",
    "# Large LocalMAP plot\n",
    "embedding = \"LocalMAP_macro\" # \"umap_macro\"\n",
    "ax = sf[0].add_subplot(gs[:2,:])\n",
    "sc.pl.embedding(adata_macros, basis=embedding, color=[groupname], ax=ax, show=False,\n",
    "                legend_loc='on data', legend_fontoutline=2, legend_fontsize=20, palette=cluster_c.to_list())\n",
    "ax = sf[0].add_subplot(gs[2,0])\n",
    "sc.pl.embedding(adata_macros, basis=embedding, color=['Groups'], ax=ax, show=False, alpha=0.7)\n",
    "ax = sf[0].add_subplot(gs[2,1])\n",
    "sc.pl.embedding(adata_macros, basis=embedding, color=['Condition'], ax=ax, show=False, alpha=0.7)\n",
    "ax = sf[0].add_subplot(gs[2,2])\n",
    "sc.pl.embedding(adata_macros, basis=embedding, color=['Sample Type'], ax=ax, show=False, alpha=0.7)\n",
    "\n",
    "# Violin marker plots\n",
    "markers = [\"Adgre1\", \"Cd209f\", \"Creb5\", \"Gpnmb\", \"Cd226\", \"Plac8\", \"Slpi\", \"Col1a2\"]\n",
    "cluster_violinplot(adata_macros, markers, groupname, sf[1])"
   ]
  },
  {
   "cell_type": "code",
   "execution_count": null,
   "metadata": {},
   "outputs": [],
   "source": [
    "# our custom markers, grouped by Groups\n",
    "f = plt.figure(figsize=(20,20),layout=\"constrained\")\n",
    "clusters = adata_macros.obs['leiden_macro_group'].cat.categories\n",
    "cs = color_gen(adata.obs['Groups'],adata.obs['Groups'].cat.categories)\n",
    "sf = f.subfigures(2,len(clusters))\n",
    "\n",
    "# CX3CR1, CD206, Arg1, TIM4, CD9, TREM2\n",
    "markers2 = [\"Cx3cr1\", \"Mrc1\", \"Arg1\", \"Timd4\", \"Cd9\", \"Trem2\"]\n",
    "print(adata_macros.var_names[adata_macros.var_names.isin(markers2)])\n",
    "\n",
    "for n,cluster in enumerate(clusters):\n",
    "    cluster_adata = adata_macros[adata_macros.obs['leiden_macro_group'] == cluster]\n",
    "    cluster_violinplot(cluster_adata, markers2, \"Groups\", sf[0,n])\n",
    "\n",
    "    ax = sf[1,n].subplots(1,1)\n",
    "    crosstab_counts = pd.crosstab(adata_macros.obs[\"leiden_macro_group\"], adata_macros.obs[\"Groups\"])\n",
    "    crosstab_counts.loc[cluster][crosstab_counts.loc[cluster] > 0].plot(kind=\"bar\", color=cs[crosstab_counts.loc[cluster] > 0], ax=ax)\n",
    "    ax.tick_params(axis='x', rotation=0)\n",
    "\n",
    "    sf[0,n].suptitle(f\"Cluster {cluster}\")"
   ]
  },
  {
   "cell_type": "code",
   "execution_count": null,
   "metadata": {},
   "outputs": [],
   "source": [
    "flow_markers = [\"Lyve1\", \"H2-Ab1\", \"Mgl2\", \"Cx3cr1\", \"Mrc1\"]\n",
    "sc.pl.embedding(adata_macros, basis=\"umap_macro\", color=flow_markers + [\"leiden_macro_group\"], layer='normalized')"
   ]
  },
  {
   "cell_type": "markdown",
   "metadata": {},
   "source": [
    "#### DEGs"
   ]
  },
  {
   "cell_type": "code",
   "execution_count": null,
   "metadata": {},
   "outputs": [],
   "source": [
    "# find DEGs\n",
    "sc.tl.rank_genes_groups(adata_macros, groupby='leiden_macro_group', key_added=\"de_macro\",\n",
    "                        use_raw=False, layer=\"normalized\", \n",
    "                        method='wilcoxon')\n",
    "\n",
    "# del adata_macros.uns['dendrogram_leiden_macro'], adata_macros.uns['dendrogram_leiden_macro_group']\n",
    "f, ax = plt.subplots(1,1,figsize=(15,5),layout=\"constrained\")\n",
    "sc.pl.rank_genes_groups_dotplot(\n",
    "    adata_macros, groupby=\"leiden_macro_group\", key='de_macro',\n",
    "    standard_scale=\"var\", n_genes=10, min_logfoldchange=2, ax=ax\n",
    ")\n",
    "\n",
    "df = sc.get.rank_genes_groups_df(adata_macros, group=None, key=\"de_macro\")"
   ]
  },
  {
   "cell_type": "code",
   "execution_count": null,
   "metadata": {},
   "outputs": [],
   "source": [
    "# our custom markers\n",
    "\n",
    "f = plt.figure(figsize=(50,10),layout=\"constrained\")\n",
    "sf = f.subfigures(1,5)\n",
    "clusters = adata_macros.obs['leiden_macro_group'].cat.categories\n",
    "# markers2 = [\"Cx3cr1\", \"Mrc1\", \"Arg1\", \"Timd4\", \"Cd9\", \"Trem2\"]\n",
    "genes = [[\"Pecam1\", \"Fabp4\", \"Cdh5\", \"Cdh13\", \"Ptprb\", \"Adgrf5\", \"Mgll\", \"Etl4\", \"Gpihbp1\", \"Mecom\"],\n",
    "        [\"F13a1\", \"Rbpj\", \"Mrc1\", \"Maf\", \"Slc9a3r2\", \"Ctss\", \"Gas6\", \"Serinc3\", \"Fcgr2b\", \"Ap2a2\"],\n",
    "        [\"Lgals3\", \"Lipa\", \"Ctse\", \"Adam8\", \"Atp6v0d2\", \"Trem2\", \"Psap\", \"Plin2\", \"Mfsd12\", \"Ms4a6c\"],\n",
    "        [\"Jarid2\", \"Klf2\", \"Gsr\", \"Ccr2\", \"Ifitm6\", \"Arhgap26\", \"Plcb1\", \"Itgal\", \"Itga4\", \"Fam49b\"],\n",
    "        [\"Flnb\", \"Prg4\", \"Emilin2\", \"Thbs1\", \"Fn1\", \"Itga6\", \"Ssh2\", \"Alox15\", \"Ltbp1\", \"Itgam\"]\n",
    "]\n",
    "\n",
    "for g,gene in enumerate(genes):\n",
    "    cluster_violinplot(adata_macros, gene, \"leiden_macro_group\", sf[g])"
   ]
  },
  {
   "cell_type": "markdown",
   "metadata": {},
   "source": [
    "#### Save/Load"
   ]
  },
  {
   "cell_type": "code",
   "execution_count": null,
   "metadata": {},
   "outputs": [],
   "source": [
    "# save\n",
    "annotation = \"scDF-seuratV3-harmony-leiden_1.0-macro_leiden_0.5\"\n",
    "adata_macros.write(os.path.join(DATADIR,'processed',study,'py',\n",
    "                                  '4.0_subclustered', f'{annotation}.h5ad'))"
   ]
  },
  {
   "cell_type": "code",
   "execution_count": null,
   "metadata": {},
   "outputs": [],
   "source": [
    "# load\n",
    "annotation = \"scDF-seuratV3-harmony-leiden_1.0-macro_leiden_0.5\"\n",
    "adata_macros = sc.read_h5ad(os.path.join(DATADIR,'processed',study,'py',\n",
    "                                  '4.0_subclustered', f'{annotation}.h5ad'))"
   ]
  },
  {
   "cell_type": "markdown",
   "metadata": {},
   "source": [
    "### Fibroblasts"
   ]
  },
  {
   "cell_type": "code",
   "execution_count": null,
   "metadata": {},
   "outputs": [],
   "source": [
    "# subset\n",
    "adata_fibros = adata[adata.obs[\"cell_type\"] == \"Fibroblast\"].copy()\n",
    "del adata_fibros.uns, adata_fibros.varm, adata_fibros.obsp\n",
    "sc.pp.filter_cells(adata_fibros, min_genes=200)\n",
    "sc.pp.filter_genes(adata_fibros, min_cells=5)\n",
    "\n",
    "# UMAP\n",
    "sc.pp.neighbors(adata_fibros, use_rep = \"integrated\")\n",
    "sc.tl.umap(adata_fibros, key_added='umap_fibro')\n",
    "\n",
    "#LocalMAP\n",
    "lm = LocalMAP()\n",
    "adata_fibros.obsm[\"LocalMAP_fibro\"] = lm.fit_transform(adata_fibros.obsm['integrated'])"
   ]
  },
  {
   "cell_type": "code",
   "execution_count": null,
   "metadata": {},
   "outputs": [],
   "source": [
    "# integration check\n",
    "f = plt.figure(figsize=(18,12), layout=\"constrained\")\n",
    "check_integration(adata_fibros, \"Groups\", f, embeddings=[\"umap_fibro\", \"LocalMAP_fibro\"], nrow=2, ncol=2)"
   ]
  },
  {
   "cell_type": "markdown",
   "metadata": {},
   "source": [
    "#### Clusters"
   ]
  },
  {
   "cell_type": "code",
   "execution_count": null,
   "metadata": {},
   "outputs": [],
   "source": [
    "# cluster\n",
    "recluster = False\n",
    "groupname = \"leiden_fibro\"\n",
    "\n",
    "if recluster is True:\n",
    "    sc.tl.leiden(adata_fibros, resolution=0.5, key_added='leiden_fibro')\n",
    "    order_obs(adata_fibros,\"leiden_fibro\",pd.Series([2,1,6,0,4,3,7,5]).astype(str))\n",
    "\n",
    "# figure prep\n",
    "cluster_c = color_gen(adata_fibros.obs[groupname])\n",
    "f = plt.figure(figsize=(25,15),layout=\"constrained\")\n",
    "sf = f.subfigures(1,2, width_ratios=[2, 1])\n",
    "\n",
    "axs = sf[0].subplots(3,3)\n",
    "gs = axs[0,0].get_gridspec()\n",
    "empty_axs(axs)\n",
    "\n",
    "# Large LocalMAP plot\n",
    "embedding = \"umap_fibro\" # \"LocalMAP_fibro\"\n",
    "ax = sf[0].add_subplot(gs[:2,:])\n",
    "sc.pl.embedding(adata_fibros, basis=embedding, color=[groupname], ax=ax, show=False,\n",
    "                legend_loc='on data', legend_fontoutline=2, legend_fontsize=20, palette=cluster_c.to_list())\n",
    "ax = sf[0].add_subplot(gs[2,0])\n",
    "sc.pl.embedding(adata_fibros, basis=embedding, color=['Groups'], ax=ax, show=False, alpha=0.7)\n",
    "ax = sf[0].add_subplot(gs[2,1])\n",
    "sc.pl.embedding(adata_fibros, basis=embedding, color=['Condition'], ax=ax, show=False, alpha=0.7)\n",
    "ax = sf[0].add_subplot(gs[2,2])\n",
    "sc.pl.embedding(adata_fibros, basis=embedding, color=['Sample Type'], ax=ax, show=False, alpha=0.7)\n",
    "\n",
    "# Violin marker plots\n",
    "markers = [\"Pdgfra\", \"Dpp4\", \"Cd55\", \"F3\", \"Lpl\"]\n",
    "cluster_violinplot(adata_fibros, markers, groupname, sf[1])"
   ]
  },
  {
   "cell_type": "markdown",
   "metadata": {},
   "source": [
    "#### Annotation"
   ]
  },
  {
   "cell_type": "code",
   "execution_count": null,
   "metadata": {},
   "outputs": [],
   "source": [
    "# reannotate\n",
    "adata_fibros.obs[\"leiden_fibro_group\"] = adata_fibros.obs[\"leiden_fibro\"].map(\n",
    "    {'1' : 1, '3' : 1, '5' : 1,\n",
    "     '0' : 2,\n",
    "     '2' : 3,\n",
    "     '4' : 4,\n",
    "     }).astype(str)\n",
    "order_obs(adata_fibros,\"leiden_fibro_group\",pd.Series(np.arange(1,5)).astype(str))\n",
    "\n",
    "f = plt.figure(figsize=(10, 5), layout=\"constrained\")\n",
    "axs = f.subplots(1, 2)\n",
    "cluster_stackedbarplot(adata_fibros, \"Groups\", \"leiden_fibro_group\", pct=False, ax=axs[0])\n",
    "cluster_stackedbarplot(adata_fibros, \"Groups\", \"leiden_fibro_group\", pct=True, ax=axs[1])\n",
    "\n",
    "f = plt.figure(figsize=(10, 5), layout=\"constrained\")\n",
    "axs = f.subplots(1, 2)\n",
    "cluster_stackedbarplot(adata_fibros, \"leiden_fibro_group\", \"Groups\", pct=False, ax=axs[0])\n",
    "cluster_stackedbarplot(adata_fibros, \"leiden_fibro_group\", \"Groups\", pct=True, ax=axs[1])"
   ]
  },
  {
   "cell_type": "code",
   "execution_count": null,
   "metadata": {},
   "outputs": [],
   "source": [
    "# figure prep\n",
    "groupname = \"leiden_fibro_group\"\n",
    "cluster_c = color_gen(adata_fibros.obs[groupname])\n",
    "f = plt.figure(figsize=(25,15),layout=\"constrained\")\n",
    "sf = f.subfigures(1,2, width_ratios=[2, 1])\n",
    "\n",
    "axs = sf[0].subplots(3,3)\n",
    "gs = axs[0,0].get_gridspec()\n",
    "empty_axs(axs)\n",
    "\n",
    "# Large LocalMAP plot\n",
    "embedding = \"LocalMAP_fibro\" # \"umap_fibro\"\n",
    "ax = sf[0].add_subplot(gs[:2,:])\n",
    "sc.pl.embedding(adata_fibros, basis=embedding, color=[groupname], ax=ax, show=False,\n",
    "                legend_loc='on data', legend_fontoutline=2, legend_fontsize=20, palette=cluster_c.to_list())\n",
    "ax = sf[0].add_subplot(gs[2,0])\n",
    "sc.pl.embedding(adata_fibros, basis=embedding, color=['Groups'], ax=ax, show=False, alpha=0.7)\n",
    "ax = sf[0].add_subplot(gs[2,1])\n",
    "sc.pl.embedding(adata_fibros, basis=embedding, color=['Condition'], ax=ax, show=False, alpha=0.7)\n",
    "ax = sf[0].add_subplot(gs[2,2])\n",
    "sc.pl.embedding(adata_fibros, basis=embedding, color=['Sample Type'], ax=ax, show=False, alpha=0.7)\n",
    "\n",
    "# Violin marker plots\n",
    "markers = [\"Pdgfra\", \"Dpp4\", \"Cd55\", \"F3\", \"Lpl\"]\n",
    "cluster_violinplot(adata_fibros, markers, groupname, sf[1])"
   ]
  },
  {
   "cell_type": "markdown",
   "metadata": {},
   "source": [
    "#### DEGs"
   ]
  },
  {
   "cell_type": "code",
   "execution_count": null,
   "metadata": {},
   "outputs": [],
   "source": [
    "# find DEGs\n",
    "sc.tl.rank_genes_groups(adata_fibros, groupby='leiden_fibro_group', key_added=\"de_fibro\",\n",
    "                        use_raw=False, layer=\"normalized\", \n",
    "                        method='wilcoxon')\n",
    "\n",
    "# del adata_fibros.uns['dendrogram_leiden_fibro'], adata_fibros.uns['dendrogram_leiden_fibro_group']\n",
    "f, ax = plt.subplots(1,1,figsize=(15,5),layout=\"constrained\")\n",
    "sc.pl.rank_genes_groups_dotplot(\n",
    "    adata_fibros, groupby=\"leiden_fibro_group\", key='de_fibro',\n",
    "    standard_scale=\"var\", n_genes=10, min_logfoldchange=2, ax=ax\n",
    ")\n",
    "\n",
    "df = sc.get.rank_genes_groups_df(adata_fibros, group=None, key=\"de_fibro\")"
   ]
  },
  {
   "cell_type": "markdown",
   "metadata": {},
   "source": [
    "#### Save/Load"
   ]
  },
  {
   "cell_type": "code",
   "execution_count": null,
   "metadata": {},
   "outputs": [],
   "source": [
    "# save\n",
    "annotation = \"scDF-seuratV3-harmony-leiden_1.0-fibro_leiden_0.5\"\n",
    "adata_fibros.write(os.path.join(DATADIR,'processed',study,'py',\n",
    "                                  '4.0_subclustered', f'{annotation}.h5ad'))"
   ]
  },
  {
   "cell_type": "code",
   "execution_count": null,
   "metadata": {},
   "outputs": [],
   "source": [
    "# load\n",
    "annotation = \"scDF-seuratV3-harmony-leiden_1.0-fibro_leiden_0.5\"\n",
    "adata_fibros = sc.read_h5ad(os.path.join(DATADIR,'processed',study,'py',\n",
    "                                  '4.0_subclustered', f'{annotation}.h5ad'))"
   ]
  },
  {
   "cell_type": "markdown",
   "metadata": {},
   "source": [
    "## CCC"
   ]
  },
  {
   "cell_type": "code",
   "execution_count": null,
   "metadata": {},
   "outputs": [],
   "source": [
    "# load\n",
    "annotation = \"scDF-seuratV3-harmony-leiden_1.0\"\n",
    "adata = sc.read_h5ad(os.path.join(DATADIR,'processed',study,'py',\n",
    "                                  '3_annotated', f'{annotation}.h5ad'))\n",
    "\n",
    "annotation = \"scDF-seuratV3-harmony-leiden_1.0-macro_leiden_0.5\"\n",
    "adata_macros = sc.read_h5ad(os.path.join(DATADIR,'processed',study,'py',\n",
    "                                  '4.0_subclustered', f'{annotation}.h5ad'))\n",
    "\n",
    "annotation = \"scDF-seuratV3-harmony-leiden_1.0-fibro_leiden_0.5\"\n",
    "adata_fibros = sc.read_h5ad(os.path.join(DATADIR,'processed',study,'py',\n",
    "                                  '4.0_subclustered', f'{annotation}.h5ad'))"
   ]
  },
  {
   "cell_type": "markdown",
   "metadata": {},
   "source": [
    "### All Cells"
   ]
  },
  {
   "cell_type": "code",
   "execution_count": null,
   "metadata": {},
   "outputs": [],
   "source": [
    "# ligand & receptor\n",
    "cell2cell_interactions(adata, cores=CORES)\n",
    "cell_interest = [\"Fibroblast\",\"Macrophage\"]\n",
    "cluster_c2c(adata, \"ccc_aggregate_filtered\", sources=cell_interest, targets=cell_interest,\n",
    "              top_n=50, figsize=(15,10))\n",
    "\n",
    "# Save as CSV\n",
    "filtered = adata.uns[\"ccc_aggregate_filtered\"].copy()\n",
    "filtered_macfib = filtered[filtered.source.isin(cell_interest) & filtered.target.isin(cell_interest)]\n",
    "# filtered_macfib.to_csv(\"filtered_macro_fibro_interactions\")"
   ]
  },
  {
   "cell_type": "markdown",
   "metadata": {},
   "source": [
    "### Fibros & Macros"
   ]
  },
  {
   "cell_type": "code",
   "execution_count": null,
   "metadata": {},
   "outputs": [],
   "source": [
    "adata_fms = sc.concat([adata_fibros,adata_macros], join='outer')\n",
    "adata_fms.raw = dc.pp.swap_layer(adata_fms, \"counts\")\n",
    "adata_fms.obs['Subclusters'] = (pd.concat(['Fibroblast_' + adata_fms.obs['leiden_fibro_group'].dropna().astype(str),\n",
    "                                           'Macrophage_' + adata_fms.obs['leiden_macro_group'].dropna().astype(str)])\n",
    "                                .astype('category'))\n",
    "order_obs(adata_fms, 'Subclusters',\n",
    "          pd.concat([pd.Series('Fibroblast_' + adata_fms.obs['leiden_fibro_group'].cat.categories),\n",
    "                     pd.Series('Macrophage_' + adata_fms.obs['leiden_macro_group'].cat.categories)]))\n",
    "cell2cell_interactions(adata_fms, cell_group='Subclusters', key=\"ccc_FMs\", cores=CORES)"
   ]
  },
  {
   "cell_type": "code",
   "execution_count": null,
   "metadata": {},
   "outputs": [],
   "source": [
    "cluster_c2c(adata_fms, \"ccc_FMs_filtered\", top_n=100, figsize=(25,10))"
   ]
  },
  {
   "cell_type": "markdown",
   "metadata": {},
   "source": [
    "### Save/Load"
   ]
  },
  {
   "cell_type": "code",
   "execution_count": null,
   "metadata": {},
   "outputs": [],
   "source": [
    "# save\n",
    "annotation = \"scDF-seuratV3-harmony-leiden_1.0\"\n",
    "adata.write(os.path.join(DATADIR,'processed',study,'py',\n",
    "                                  'cell_communication', f'{annotation}.h5ad'))"
   ]
  },
  {
   "cell_type": "code",
   "execution_count": null,
   "metadata": {},
   "outputs": [],
   "source": [
    "# load\n",
    "annotation = \"scDF-seuratV3-harmony-leiden_1.0\"\n",
    "adata = sc.read_h5ad(os.path.join(DATADIR,'processed',study,'py',\n",
    "                                  'cell_communication', f'{annotation}.h5ad'))"
   ]
  },
  {
   "cell_type": "markdown",
   "metadata": {},
   "source": [
    "### Model-Specific"
   ]
  },
  {
   "cell_type": "markdown",
   "metadata": {},
   "source": [
    "##### CellPhoneDB only"
   ]
  },
  {
   "cell_type": "code",
   "execution_count": null,
   "metadata": {},
   "outputs": [],
   "source": [
    "# cellphoneDB only\n",
    "cellphonedb(\n",
    "    adata, groupby=\"cell_type\", layer='normalized', use_raw=False, key_added=\"ccc_cellphoneDB\",\n",
    "    return_all_lrs=True, verbose=True, n_jobs=10, resource=ccc_db[[\"ligand\", \"receptor\"]]\n",
    ")\n",
    "adata.uns[\"ccc_cellphoneDB\"] = adata.uns[\"ccc_cellphoneDB\"].merge(ccc_db[['ligand', 'receptor', 'db_sources']],\n",
    "                                                                  left_on=[\"ligand_complex\", \"receptor_complex\"],\n",
    "                                                                  right_on=['ligand','receptor'],\n",
    "                                                                  how='left')\n",
    "print(np.sum(adata.uns[\"ccc_cellphoneDB\"][\"cellphone_pvals\"] < 0.01))\n",
    "adata.uns[\"ccc_cellphoneDB\"]"
   ]
  },
  {
   "cell_type": "markdown",
   "metadata": {},
   "source": [
    "##### CellChat only"
   ]
  },
  {
   "cell_type": "code",
   "execution_count": null,
   "metadata": {},
   "outputs": [],
   "source": [
    "li.method.cellchat(\n",
    "    adata, groupby=\"cell_type\", layer='normalized', use_raw=False, key_added=\"ccc_cellchat\",\n",
    "    return_all_lrs=True, verbose=True, n_jobs=10, resource=ccc_db[[\"ligand\", \"receptor\"]])\n",
    "adata.uns[\"ccc_cellchat\"] = adata.uns[\"ccc_cellchat\"].merge(ccc_db[['ligand', 'receptor', 'db_sources']],\n",
    "                                                                  left_on=[\"ligand_complex\", \"receptor_complex\"],\n",
    "                                                                  right_on=['ligand','receptor'],\n",
    "                                                                  how='left')\n",
    "adata.uns[\"ccc_cellchat\"]"
   ]
  },
  {
   "cell_type": "markdown",
   "metadata": {},
   "source": [
    "## Compositional Analysis\n",
    "* scCODA (clusters) - https://www.sc-best-practices.org/conditions/compositional.html#with-labeled-clusters\n",
    "* tascCODA (hierachical clusters) - https://www.sc-best-practices.org/conditions/compositional.html#with-labeled-clusters-and-hierarchical-structure\n",
    "* scanpro (reps, clusters) https://scanpro.readthedocs.io/en/latest/proportion_analysis.html\n",
    "* Milo (none) https://www.sc-best-practices.org/conditions/compositional.html#without-labeled-clusters"
   ]
  },
  {
   "cell_type": "markdown",
   "metadata": {},
   "source": [
    "### Save/Load"
   ]
  },
  {
   "cell_type": "markdown",
   "metadata": {},
   "source": [
    "# Other DEGs Attempts\n",
    "- [ ] psuedobulking - requires replicates (https://hbctraining.github.io/scRNA-seq/lessons/pseudobulk_DESeq2_scrnaseq.html)\n",
    "    - [ ] edgeR\n",
    "    - [ ] decoupleR - https://decoupler-py.readthedocs.io/en/latest/notebooks/scell/rna_psbk.html\n",
    "- [ ] single cell DEGS\n",
    "    - [ ] MAST for single cell DEGS\n",
    "    - [x] Scanpy's Wilcoxon test"
   ]
  },
  {
   "cell_type": "code",
   "execution_count": null,
   "metadata": {},
   "outputs": [],
   "source": [
    "# load\n",
    "annotation = \"scDF-seuratV3-harmony-leiden_1.0\"\n",
    "adata = sc.read_h5ad(os.path.join(DATADIR,'processed',study,'py',\n",
    "                                  '3_annotated', f'{annotation}.h5ad'))\n",
    "# R_preload()"
   ]
  },
  {
   "cell_type": "markdown",
   "metadata": {},
   "source": [
    "#### DESeq2\n",
    "* https://pydeseq2.readthedocs.io/en/stable/auto_examples/plot_minimal_pydeseq2_pipeline.html\n",
    "* https://bioconductor.org/packages/devel/bioc/vignettes/DESeq2/inst/doc/DESeq2.html#note-on-factor-levels"
   ]
  },
  {
   "cell_type": "code",
   "execution_count": null,
   "metadata": {},
   "outputs": [],
   "source": [
    "from pydeseq2.dds import DeseqDataSet\n",
    "from pydeseq2.default_inference import DefaultInference\n",
    "from pydeseq2.ds import DeseqStats\n",
    "import decoupler as dc"
   ]
  },
  {
   "cell_type": "code",
   "execution_count": null,
   "metadata": {},
   "outputs": [],
   "source": [
    "pb_adatas = []\n",
    "for cell_type in adata.obs['cell_type'].unique():\n",
    "    cell_pop = adata[adata.obs[\"cell_type\"] == cell_type].copy()\n",
    "    pb_cell_pop = sc.get.aggregate(cell_pop,by='Groups',func='sum',layer='counts')\n",
    "    pb_adata = sc.AnnData(\n",
    "        X=pb_cell_pop.layers['sum'],\n",
    "        obs=pb_cell_pop.obs,\n",
    "        var=pb_cell_pop.var.copy()\n",
    "    )\n",
    "    pb_adata.obs['cell_type'] = cell_type\n",
    "    pb_adatas.append(pb_adata)\n",
    "\n",
    "pb = sc.concat(pb_adatas)\n",
    "pb.obs[['Condition', 'Sample Type']] = pb.obs['Groups'].str.split('_', expand=True)\n",
    "pb.obs.rename(columns={\"Sample Type\" : \"sample_type\", \"Condition\" : \"condition\"}, inplace=True)\n",
    "pb.obs['Index'] = pb.obs['cell_type'] + '-' + pb.obs['Groups'].astype(str)\n",
    "pb.obs = pb.obs.set_index(\"Index\")\n",
    "pb.obs[\"Index\"] = pb.obs.index"
   ]
  },
  {
   "cell_type": "code",
   "execution_count": null,
   "metadata": {},
   "outputs": [],
   "source": [
    "inference = DefaultInference(n_cpus=CORES)\n",
    "\n",
    "# this treats sample types as biological replicates\n",
    "design = \"~0 + condition + cell_type + condition:cell_type\"\n",
    "\n",
    "dds = DeseqDataSet(\n",
    "    adata=pb,\n",
    "    design=design,\n",
    "    refit_cooks=True,\n",
    "    inference=inference,\n",
    ")\n",
    "\n",
    "dds.deseq2()\n",
    "dds.obsm[\"design_matrix\"]\n",
    "\n",
    "# dds.fit_size_factors()\n",
    "# dds.fit_genewise_dispersions()\n",
    "# dds.fit_dispersion_trend()\n",
    "# dds.fit_dispersion_prior()\n",
    "# dds.fit_MAP_dispersions()\n",
    "# dds.fit_LFC()\n",
    "\n",
    "# dds.calculate_cooks()\n",
    "# if dds.refit_cooks:\n",
    "#     dds.refit()"
   ]
  },
  {
   "cell_type": "code",
   "execution_count": null,
   "metadata": {},
   "outputs": [],
   "source": [
    "print(\"Model coefficients:\")\n",
    "for i, coef in enumerate(dds.varm['LFC'].columns):\n",
    "    print(f\"{i}: {coef}\")"
   ]
  },
  {
   "cell_type": "code",
   "execution_count": null,
   "metadata": {},
   "outputs": [],
   "source": [
    "for col in pb.obs:\n",
    "    print(col + \":\", pb.obs[col].astype(str).unique(),'\\n')\n",
    "dds.obsm['design_matrix'].columns\n",
    "\n",
    "contrast_diet = ['condition', 'LFD', 'HFD']\n",
    "\n",
    "contrast_diet_macro = np.zeros(len(dds.obsm[\"design_matrix\"]))\n",
    "contrast_diet_macro[dds.obsm[\"design_matrix\"].index('condition[T.LFD]')] = 1\n",
    "contrast_diet_macro[dds.obsm[\"design_matrix\"].index('condition[T.HFD]')] = -1\n",
    "contrast_diet_macro[dds.obsm[\"design_matrix\"].index('condition[T.LFD]:cell_type[T.Macrophage]')] = 1\n",
    "\n",
    "\n",
    "contrast_diet_fibro = np.zeros(len(dds.obsm[\"design_matrix\"]))\n",
    "contrast_diet_fibro[dds.obsm[\"design_matrix\"].index('condition[T.LFD]')] = 1\n",
    "contrast_diet_fibro[dds.obsm[\"design_matrix\"].index('condition[T.HFD]')] = -1\n",
    "contrast_diet_fibro[dds.obsm[\"design_matrix\"].index('condition[T.LFD]:cell_type[T.Fibroblast]')] = 1\n",
    "\n",
    "\n",
    "ds_diet = DeseqStats(\n",
    "    dds,\n",
    "    contrast=contrast_diet,\n",
    "    alpha=0.05,\n",
    "    cooks_filter=True,\n",
    "    independent_filter=True,\n",
    "    inference=inference\n",
    ")\n",
    "ds_diet.summary()\n",
    "df_diet = ds_diet.results_df\n",
    "\n",
    "# fibroblasts: LFD vs HFD\n",
    "ds_diet_fibro = DeseqStats(\n",
    "    dds,\n",
    "    contrast=contrast_diet,\n",
    "    alpha=0.05,\n",
    "    cooks_filter=True,\n",
    "    independent_filter=True,\n",
    "    inference=inference\n",
    ")\n",
    "ds_diet_fibro.summary()\n",
    "df_diet_fibro = ds_diet_fibro.results_df\n",
    "\n",
    "# macros: LFD  vs HFD\n",
    "ds_diet_macro = DeseqStats(\n",
    "    dds,\n",
    "    contrast=contrast_diet,\n",
    "    alpha=0.05,\n",
    "    cooks_filter=True,\n",
    "    independent_filter=True,\n",
    "    inference=inference\n",
    ")\n",
    "ds_diet_macro.summary()\n",
    "df_diet_macro = ds_diet_macro.results_df"
   ]
  },
  {
   "cell_type": "code",
   "execution_count": null,
   "metadata": {},
   "outputs": [],
   "source": [
    "dc.pl.volcano(df_hfd_lfd, x='log2FoldChange', y='pvalue', figsize=(10,10), top=20)"
   ]
  },
  {
   "cell_type": "markdown",
   "metadata": {},
   "source": [
    "#### MAST"
   ]
  },
  {
   "cell_type": "code",
   "execution_count": null,
   "metadata": {},
   "outputs": [],
   "source": [
    "adata2 = adata.copy()\n",
    "adata2.X = adata2.layers[\"normalized\"].copy()\n",
    "\n",
    "df = pd.DataFrame.sparse.from_spmatrix(data=adata2.X, index=adata2.obs_names, columns=adata2.var_names)\n",
    "df.join(adata2.obs)\n",
    "adata_tmp = sc.AnnData(df[adata2.var_names], obs=df.drop(columns=adata2.var_names))\n",
    "\n",
    "# def prep_anndata(adata_):\n",
    "#     def fix_dtypes(adata_):\n",
    "#         for i in [adata_.X, adata_.obs_names, adata_.var_names]:\n",
    "#             print(i.shape)\n",
    "#         df = pd.DataFrame(data=adata_.X)#, index=adata_.obs_names, columns=adata_.var_names)\n",
    "#         df = df.join(adata_.obs)\n",
    "#         print(df.head())\n",
    "#         return sc.AnnData(df[adata_.var_names], obs=df.drop(columns=adata_.var_names))\n",
    "\n",
    "#     adata_ = fix_dtypes(adata_)\n",
    "#     sc.pp.filter_genes(adata_, min_cells=3)\n",
    "#     return adata_\n",
    "\n",
    "# adata_prep = prep_anndata(adata2)\n",
    "# adata_prep"
   ]
  },
  {
   "cell_type": "code",
   "execution_count": null,
   "metadata": {},
   "outputs": [],
   "source": [
    "adata_tmp"
   ]
  },
  {
   "cell_type": "markdown",
   "metadata": {},
   "source": [
    "#### EdgeR\n",
    "* https://pydeseq2.readthedocs.io/en/stable/auto_examples/plot_minimal_pydeseq2_pipeline.html"
   ]
  },
  {
   "cell_type": "markdown",
   "metadata": {},
   "source": [
    "##### Attempt 2"
   ]
  },
  {
   "cell_type": "code",
   "execution_count": null,
   "metadata": {},
   "outputs": [],
   "source": [
    "with localconverter(converter):\n",
    "    ro.globalenv['sce'] = adata"
   ]
  },
  {
   "cell_type": "code",
   "execution_count": null,
   "metadata": {},
   "outputs": [],
   "source": [
    "%%R\n",
    "seurat <- as.Seurat(sce, data = NULL)\n",
    "seurat\n",
    "# counts <- GetAssayData(object = seurat, slot = \"counts\", assay = \"RNA\")"
   ]
  },
  {
   "cell_type": "markdown",
   "metadata": {},
   "source": [
    "##### Attempt 1"
   ]
  },
  {
   "cell_type": "code",
   "execution_count": null,
   "metadata": {},
   "outputs": [],
   "source": [
    "pb_adatas = []\n",
    "for cell_type in adata.obs['cell_type'].unique():\n",
    "    cell_pop = adata[adata.obs[\"cell_type\"] == cell_type].copy()\n",
    "    pb_cell_pop = sc.get.aggregate(cell_pop,by='Groups',func='sum',layer='counts')\n",
    "    pb_adata = sc.AnnData(\n",
    "        X=pb_cell_pop.layers['sum'],\n",
    "        obs=pb_cell_pop.obs,\n",
    "        var=pb_cell_pop.var.copy()\n",
    "    )\n",
    "    pb_adata.obs['cell_type'] = cell_type\n",
    "    pb_adatas.append(pb_adata)\n",
    "pb = sc.concat(pb_adatas)\n",
    "pb.obs[['Condition', 'Sample Type']] = pb.obs['Groups'].str.split('_', expand=True)\n",
    "\n",
    "counts_matrix = pb.X.T\n",
    "if hasattr(counts_matrix, 'toarray'):\n",
    "    counts_matrix = counts_matrix.toarray()\n",
    "\n",
    "print(\"pb.obs shape:\", pb.obs.shape)\n",
    "print(\"pb.obs columns:\", pb.obs.columns.tolist())\n",
    "print(\"pb.obs head:\")\n",
    "print(pb.obs.head())\n",
    "print(\"pb.X shape:\", pb.X.shape)"
   ]
  },
  {
   "cell_type": "code",
   "execution_count": null,
   "metadata": {},
   "outputs": [],
   "source": [
    "%%R\n",
    "options(max.print = 300)\n",
    "cell_type_name = \"Macrophage\"\n",
    "ct_samples <- samples[samples$cell_type == cell_type_name, ]\n",
    "ct_counts <- counts[, rownames(ct_samples), drop=FALSE]\n",
    "dge <- DGEList(counts = ct_counts, group = rownames(ct_samples))\n",
    "dge$samples$Condition <- ct_samples$Condition\n",
    "dge$samples$Sample.Type <- ct_samples$Sample.Type\n",
    "\n",
    "# Filter low expressed genes\n",
    "keep <- filterByExpr(dge)\n",
    "dge <- dge[keep,,keep.lib.sizes=FALSE]\n",
    "dge <- calcNormFactors(dge)\n",
    "\n",
    "# Create design matrix\n",
    "design <- model.matrix(~ Condition + Sample.Type, data = dge$samples)\n",
    "dge <- estimateDisp(dge, design)\n",
    "fit <- glmFit(dge, design)"
   ]
  },
  {
   "cell_type": "code",
   "execution_count": null,
   "metadata": {},
   "outputs": [],
   "source": [
    "%%R\n",
    "lrt_condition <- glmLRT(fit, coef = \"ConditionLFD\")\n",
    "topTags(lrt_condition)"
   ]
  },
  {
   "cell_type": "code",
   "execution_count": null,
   "metadata": {},
   "outputs": [],
   "source": [
    "%%R\n",
    "# Custom contrasts:\n",
    "# contrasts <- makeContrasts(\n",
    "#     HFD_vs_LFD_in_eWAT = HFD_eWAT - LFD_eWAT,\n",
    "#     HFD_vs_LFD_in_iWAT = HFD_iWAT - LFD_iWAT, \n",
    "#     eWAT_vs_iWAT_in_HFD = HFD_eWAT - HFD_iWAT,\n",
    "#     eWAT_vs_iWAT_in_LFD = LFD_eWAT - LFD_iWAT,\n",
    "#     levels = design\n",
    "# )\n",
    "\n",
    "\n",
    "# lrt_condition <- glmLRT(fit)\n",
    "# lrt <- glmLRT(fit, contrast = contrasts[,\"HFD_vs_LFD_in_eWAT\"])\n",
    "# lrt_condition <- glmLRT(fit, coef = \"conditionLFD\")           # Main effect of diet\n",
    "# lrt_tissue <- glmLRT(fit, coef = \"sample_typeiWAT\")           # Main effect of tissue  \n",
    "# lrt_interaction <- glmLRT(fit, coef = \"conditionLFD:sample_typeiWAT\"\n",
    "colnames(design)"
   ]
  },
  {
   "cell_type": "code",
   "execution_count": null,
   "metadata": {},
   "outputs": [],
   "source": [
    "with localconverter(converter):\n",
    "    ro.globalenv['counts'] = pd.DataFrame(counts_matrix)\n",
    "    ro.globalenv['metadata'] = pb.obs\n",
    "    ro.globalenv['gene_names'] = pb.var_names.tolist()\n",
    "    ro.r(\"\"\"\n",
    "        library(edgeR)\n",
    "        library(dplyr)\n",
    "        \n",
    "        counts <- data.frame(counts)\n",
    "        # Set up count matrix with proper row/column names\n",
    "        rownames(counts) <- gene_names\n",
    "        colnames(counts) <- paste(metadata$cell_type, metadata$Groups, sep=\"_\")\n",
    "        \n",
    "        # Create sample metadata\n",
    "        samples <- data.frame(metadata, stringsAsFactors = FALSE)\n",
    "         \n",
    "        rownames(samples) <- colnames(counts)\n",
    "        \n",
    "        # Function to run EdgeR analysis for each cell type\n",
    "        run_edger_analysis <- function(cell_type_name) {\n",
    "            # Subset to specific cell type\n",
    "            ct_samples <- rownames(samples[samples$cell_type == cell_type_name, ])\n",
    "            ct_counts <- counts[, ct_samples, drop=FALSE]\n",
    "            \n",
    "            # Create DGEList\n",
    "            dge <- DGEList(counts = ct_counts, samples = ct_samples)\n",
    "            \n",
    "            # Filter low expressed genes\n",
    "            keep <- filterByExpr(dge, group = dge$samples$samples)\n",
    "            dge <- dge[keep, ]\n",
    "            \n",
    "            # Calculate normalization factors\n",
    "            dge <- calcNormFactors(dge)\n",
    "            \n",
    "            # Create design matrix\n",
    "            design <- model.matrix(~ condition + sample_type, data = dge$samples)\n",
    "            \n",
    "            # Estimate dispersions\n",
    "            dge <- estimateDisp(dge, design)\n",
    "            \n",
    "            # Fit GLM\n",
    "            fit <- glmFit(dge, design)\n",
    "            \n",
    "            # Test for condition effect (assuming condition is what you want to test)\n",
    "            lrt <- glmLRT(fit, coef = \"conditionLFD\")  # or whichever condition is reference\n",
    "            \n",
    "            # Get results\n",
    "            results <- topTags(lrt, n = Inf)\n",
    "            results_df <- as.data.frame(results$table)\n",
    "            results_df$gene <- rownames(results_df)\n",
    "            results_df$cell_type <- cell_type_name\n",
    "            \n",
    "            return(list(\n",
    "                results = results_df,\n",
    "                dge = dge,\n",
    "                fit = fit,\n",
    "                lrt = lrt\n",
    "            ))\n",
    "        }\n",
    "        \n",
    "        # Run analysis for each cell type\n",
    "        cell_types <- unique(samples$cell_type)\n",
    "        edger_results <- list()\n",
    "        \n",
    "        for(ct in cell_types) {\n",
    "            cat(\"Analyzing cell type:\", ct, \"\\n\")\n",
    "            edger_results[[ct]] <- run_edger_analysis(ct)\n",
    "        }\n",
    "        \n",
    "        # Combine all results\n",
    "        all_results <- do.call(rbind, lapply(edger_results, function(x) x$results))\n",
    "        \n",
    "        # Add FDR correction across all tests\n",
    "        all_results$FDR_global <- p.adjust(all_results$PValue, method = \"BH\")\n",
    "        \n",
    "        print(\"Analysis complete!\")\n",
    "        print(paste(\"Total DE genes (FDR < 0.05):\", sum(all_results$FDR < 0.05)))\n",
    "        print(paste(\"Total DE genes (global FDR < 0.05):\", sum(all_results$FDR_global < 0.05)))\n",
    "    \"\"\")"
   ]
  },
  {
   "cell_type": "markdown",
   "metadata": {},
   "source": [
    "# R space"
   ]
  },
  {
   "cell_type": "code",
   "execution_count": null,
   "metadata": {},
   "outputs": [],
   "source": [
    "ro.r(\"\"\"\n",
    "\n",
    "\n",
    "\n",
    "\n",
    "\n",
    "\n",
    "\n",
    "\"\"\")"
   ]
  },
  {
   "cell_type": "markdown",
   "metadata": {},
   "source": [
    "# Archive"
   ]
  },
  {
   "cell_type": "markdown",
   "metadata": {},
   "source": [
    "### Non-Liana"
   ]
  },
  {
   "cell_type": "code",
   "execution_count": null,
   "metadata": {},
   "outputs": [],
   "source": [
    "### NON LIANA APPROACH\n",
    "R_preload()\n",
    "with localconverter(converter):\n",
    "    ro.globalenv[\"mouse_genes\"] = adata.var.index\n",
    "    ro.r(\"\"\"\n",
    "    # see https://neurogenomics.github.io/orthogene/articles/orthogene.html\n",
    "    genes <- orthogene::convert_orthologs(gene_df = mouse_genes,\n",
    "                                            gene_output = \"dict\",\n",
    "                                            input_species = \"mouse\",\n",
    "                                            output_species = \"human\",\n",
    "                                            non121_strategy = \"drop_input_species\",\n",
    "                                            method = \"gprofiler\") \n",
    "    mappings <- data.frame(genes,row.names=names(genes))\n",
    "    \"\"\")\n",
    "    mappings = ro.globalenv[\"mappings\"].to_dict()['genes']\n",
    "\n",
    "converted = adata[:,adata.var_names.isin([m for m in mappings])].copy()\n",
    "converted.var_names = converted.var_names.map(mappings)"
   ]
  },
  {
   "cell_type": "markdown",
   "metadata": {},
   "source": [
    "### CellphoneDB v5 ONLY\n",
    "* Get Database: https://github.com/ventolab/CellphoneDB/blob/master/notebooks/T0_DownloadDB.ipynb\n",
    "* Prep Data: https://github.com/ventolab/CellphoneDB/blob/master/notebooks/DEGs_calculation/0_prepare_your_data_from_anndata.ipynb\n",
    "* Run CPDB w/ statistical analysis: https://github.com/ventolab/CellphoneDB/blob/master/notebooks/T1_Method2.ipynb\n"
   ]
  },
  {
   "cell_type": "code",
   "execution_count": null,
   "metadata": {},
   "outputs": [],
   "source": [
    "tmp_adata = sc.AnnData(X=adata.layers[\"normalized\"].copy(),\n",
    "                       obs=adata.obs[[\"cell_type\",\"Groups\",\"Condition\",\"Sample Type\", \"Identifier\"]].copy(),\n",
    "                       var=pd.DataFrame(index=adata.var.index.copy()))\n",
    "\n",
    "# load\n",
    "savedir = os.path.join(DATADIR,'processed',study,'py','cellphonedb', annotation)\n",
    "\n",
    "# metadata\n",
    "print(converted.obs['cell_type'].values.describe())\n",
    "df_meta = pd.DataFrame(data={'Cell':list(converted.obs.index),\n",
    "                             'cell_type':[ i for i in converted.obs['cell_type']]\n",
    "                            })\n",
    "df_meta.set_index('Cell', inplace=True)\n",
    "\n",
    "if df_meta.columns.isin([\"barcode_sample\"])[0]:\n",
    "    assert np.all(converted.obs.index.sort_values() == df_meta[\"barcode_sample\"].sort_values())\n",
    "else:\n",
    "    assert np.all(converted.obs.index.sort_values() == df_meta.index.sort_values())\n",
    "\n",
    "# DEGs\n",
    "DEGs = sc.get.rank_genes_groups_df(adata, group=None, key='de_all')\n",
    "cond1 = DEGs['pvals_adj'] < 0.05 \n",
    "cond2 = DEGs['logfoldchanges'] > 2\n",
    "mask = [all(tup) for tup in zip(cond1, cond2)]\n",
    "fDEGs = DEGs[mask]\n",
    "fDEGs.columns = [\"cluster\", \"gene\"] + fDEGs.columns[2:].to_list()\n",
    "\n",
    "# save relevant info to folder\n",
    "converted.write(os.path.join(savedir,'counts.h5ad'))\n",
    "df_meta.to_csv(os.path.join(savedir,'metadata.tsv'), sep = '\\t')\n",
    "fDEGs.to_csv(os.path.join(savedir,'DEGs.tsv'), index=False, sep='\\t')"
   ]
  },
  {
   "cell_type": "code",
   "execution_count": null,
   "metadata": {},
   "outputs": [],
   "source": [
    "from cellphonedb.utils import db_utils\n",
    "from cellphonedb.src.core.methods import cpdb_analysis_method\n",
    "\n",
    "version = 'v5.0.0'\n",
    "cpdb_dir = os.path.join(REFDIR,f'cellphoneDB-{version}')\n",
    "if not os.path.exists(cpdb_dir):\n",
    "    print(f\"Database not found! Downloading to {cpdb_dir}\")\n",
    "    db_utils.download_database(cpdb_dir, version)\n",
    "\n",
    "cpdb_results = cpdb_analysis_method.call(\n",
    "    cpdb_file_path = os.path.join(cpdb_dir,\"cellphonedb.zip\"),          # mandatory: CellphoneDB database zip file.\n",
    "    meta_file_path = os.path.join(savedir,'metadata.tsv'),              # mandatory: tsv file defining barcodes to cell label.\n",
    "    counts_file_path = converted,             # mandatory: normalized count matrix - a path to the counts file, or an in-memory AnnData object\n",
    "    counts_data = 'hgnc_symbol',                                        # defines the gene annotation in counts matrix.\n",
    "    # microenvs_file_path = microenvs_file_path,                        # optional (default: None): defines cells per microenvironment.\n",
    "    score_interactions = True,                                          # optional: whether to score interactions or not. \n",
    "    output_path = os.path.join(savedir,'output.cpdb'),                  # Path to save results    microenvs_file_path = None,\n",
    "    separator = '|',                                                    # Sets the string to employ to separate cells in the results dataframes \"cellA|CellB\".\n",
    "    threads = 10,                                                       # number of threads to use in the analysis.\n",
    "    threshold = 0.1,                                                    # defines the min % of cells expressing a gene for this to be employed in the analysis.\n",
    "    result_precision = 3,                                               # Sets the rounding for the mean values in significan_means.\n",
    "    debug = False,                                                      # Saves all intermediate tables emplyed during the analysis in pkl format.\n",
    "    output_suffix = None                                                # Replaces the timestamp in the output files by a user defined string in the  (default: None)\n",
    ")"
   ]
  },
  {
   "cell_type": "code",
   "execution_count": null,
   "metadata": {},
   "outputs": [],
   "source": [
    "cpdb_results['interaction_scores']"
   ]
  }
 ],
 "metadata": {
  "kernelspec": {
   "display_name": ".venv",
   "language": "python",
   "name": "python3"
  },
  "language_info": {
   "codemirror_mode": {
    "name": "ipython",
    "version": 3
   },
   "file_extension": ".py",
   "mimetype": "text/x-python",
   "name": "python",
   "nbconvert_exporter": "python",
   "pygments_lexer": "ipython3",
   "version": "3.12.9"
  }
 },
 "nbformat": 4,
 "nbformat_minor": 2
}
