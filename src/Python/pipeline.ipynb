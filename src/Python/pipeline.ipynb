{
 "cells": [
  {
   "cell_type": "markdown",
   "metadata": {},
   "source": [
    "# Import Library & Set Dataset Name"
   ]
  },
  {
   "cell_type": "code",
   "execution_count": 4,
   "metadata": {},
   "outputs": [],
   "source": [
    "import os\n",
    "import warnings\n",
    "warnings.simplefilter(\"ignore\", FutureWarning)\n",
    "warnings.simplefilter(\"ignore\", UserWarning)\n",
    "warnings.simplefilter(\"ignore\", RuntimeWarning)\n",
    "\n",
    "import pickle\n",
    "import pandas as pd\n",
    "import numpy as np\n",
    "import seaborn as sns\n",
    "import matplotlib.pyplot as plt\n",
    "warnings.simplefilter(\"ignore\", pd.errors.DtypeWarning)\n",
    "\n",
    "from preprocess import get_cellbender_data,Filter_QC,Filter_Doublet,Normalize,FindVariableGenes,Integrate\n",
    "from plot import *\n",
    "import scanpy as sc\n",
    "from pacmap import LocalMAP"
   ]
  },
  {
   "cell_type": "code",
   "execution_count": 5,
   "metadata": {},
   "outputs": [],
   "source": [
    "import rpy2.robjects as ro\n",
    "from rpy2.robjects.conversion import localconverter\n",
    "from R import get_converter,R_preload\n",
    "# R_preload()\n",
    "converter = get_converter()"
   ]
  },
  {
   "cell_type": "code",
   "execution_count": 8,
   "metadata": {},
   "outputs": [],
   "source": [
    "%matplotlib inline\n",
    "study = \"paper_processed\"\n",
    "R_converted = False\n",
    "\n",
    "DATADIR = \"../../data\"\n",
    "REFDIR = './references'\n",
    "DOUBLETMETHODS = ['scDblFinder','DoubletFinder','doubletdetection','scrublet']"
   ]
  },
  {
   "cell_type": "markdown",
   "metadata": {},
   "source": [
    "# Access adata"
   ]
  },
  {
   "cell_type": "code",
   "execution_count": null,
   "metadata": {},
   "outputs": [],
   "source": [
    "filetype = 'h5ad' if R_converted else 'h5'\n",
    "\n",
    "basedir = os.path.join(DATADIR,'cellbender',study)\n",
    "samps = os.listdir(basedir)\n",
    "print(samps)\n",
    "filt_files = [os.path.join(basedir,s,f'output_filtered.{filetype}') for s in samps]\n",
    "adata = [get_cellbender_data(file,filetype) for file in filt_files]\n",
    "\n",
    "for d in adata:\n",
    "    d.obs['Experiment'], d.obs['Groups'], d.obs['Sample'] = np.array(d.obs['Identifier'].str.split('-').to_list()).T\n",
    "    d.obs['Condition'], d.obs['Sample Type'] = np.array(d.obs['Groups'].str.split('_').to_list()).T\n",
    "\n",
    "adata"
   ]
  },
  {
   "cell_type": "markdown",
   "metadata": {},
   "source": [
    "## Data Structures"
   ]
  },
  {
   "cell_type": "markdown",
   "metadata": {},
   "source": [
    "#### SingleCellExperiment object (in R) is presented below\n",
    "![SingleCellExperiment Object (in R)](https://hbctraining.github.io/scRNA-seq/img/sce_description.png)\n",
    "\n",
    "#### AnnData object (in Python) is similar!\n",
    "* rowData is stored in `adata.vars`\n",
    "* colData is stored in `adata.obs`\n",
    "* reducedDims is stored in `adata.obsm`\n",
    "* layers are stored in `adata.layers`"
   ]
  },
  {
   "cell_type": "markdown",
   "metadata": {},
   "source": [
    "# Preprocessing"
   ]
  },
  {
   "cell_type": "markdown",
   "metadata": {},
   "source": [
    "### QC"
   ]
  },
  {
   "cell_type": "code",
   "execution_count": null,
   "metadata": {},
   "outputs": [],
   "source": [
    "adata = [Filter_QC(dat, mt_ratio=15, ribo_ratio=15) for dat in adata]\n",
    "PlotQC = True\n",
    "adata"
   ]
  },
  {
   "cell_type": "markdown",
   "metadata": {},
   "source": [
    "#### QC Plots"
   ]
  },
  {
   "cell_type": "markdown",
   "metadata": {},
   "source": [
    "Plot QC Filters for 1 dataset"
   ]
  },
  {
   "cell_type": "code",
   "execution_count": null,
   "metadata": {},
   "outputs": [],
   "source": [
    "if PlotQC:\n",
    "    # sns.displot(adata[1].obs['total_counts'], bins=100, kde=False).figure\n",
    "    tmp = adata[0]\n",
    "    sc.pl.violin(\n",
    "        tmp,\n",
    "        [\"n_genes_by_counts\", \"total_counts\", \"pct_counts_mt\"],\n",
    "        jitter=0.4,\n",
    "        multi_panel=True\n",
    "    )\n",
    "    sc.pl.scatter(tmp, \"total_counts\", \"n_genes_by_counts\", color=\"pct_counts_mt\",vmax=100)"
   ]
  },
  {
   "cell_type": "markdown",
   "metadata": {},
   "source": [
    "Plot QC Metrics for all datasets"
   ]
  },
  {
   "cell_type": "code",
   "execution_count": null,
   "metadata": {},
   "outputs": [],
   "source": [
    "def QC_Plot(df, value, groupby):\n",
    "    sns.set(style=\"white\", rc={\"axes.facecolor\": (0, 0, 0, 0)})\n",
    "\n",
    "    g = sns.FacetGrid(df, row=groupby, hue=groupby, aspect=15, height=0.5, palette=\"tab20\")\n",
    "\n",
    "    g.map(sns.kdeplot, value, clip_on=False, fill=True, alpha=1, linewidth=1.5)\n",
    "    g.map(sns.kdeplot, value, clip_on=False, color=\"w\", lw=2)\n",
    "\n",
    "    g.map(plt.axhline, y=0, lw=2, clip_on=False)\n",
    "\n",
    "    def label(x, color, label):\n",
    "        ax = plt.gca()\n",
    "        ax.text(0, .2, label, fontweight=\"bold\", color=color,\n",
    "                ha=\"left\", va=\"center\", transform=ax.transAxes)\n",
    "\n",
    "    g.map(label, value)\n",
    "\n",
    "    g.figure.subplots_adjust(hspace=-.6)\n",
    "\n",
    "    g.set_titles(\"\")\n",
    "    g.set(yticks=[], ylabel=\"\")\n",
    "    g.despine(bottom=True, left=True)\n",
    "\n",
    "    for ax in g.axes.flat:\n",
    "        ax.axvline(x=df[value].median(), color='r', linestyle='-')\n",
    "\n",
    "    return g.figure\n",
    "\n",
    "if PlotQC:\n",
    "    df = pd.concat([x.obs for x in adata])\n",
    "    groupby = 'Groups'\n",
    "    df = df.sort_values(groupby)\n",
    "\n",
    "    QC_Plot(df,\"log1p_total_counts\",groupby)\n",
    "    QC_Plot(df,\"pct_counts_mt\",groupby)\n",
    "    QC_Plot(df,\"n_genes\",groupby)\n",
    "    QC_Plot(df,\"pct_counts_in_top_20_genes\",groupby)"
   ]
  },
  {
   "cell_type": "markdown",
   "metadata": {},
   "source": [
    "### Doublets"
   ]
  },
  {
   "cell_type": "code",
   "execution_count": null,
   "metadata": {},
   "outputs": [],
   "source": [
    "compare_doublets = False\n",
    "method = 'doubletdetection'\n",
    "method_short = 'dd'\n",
    "\n",
    "if compare_doublets is True:\n",
    "    for method in DOUBLETMETHODS:\n",
    "        adata = [Filter_Doublet(dat,method,remove=False) for dat in adata]\n",
    "\n",
    "else:\n",
    "    print(f\"Doublet Method: {method}\")\n",
    "    adata = [Filter_Doublet(dat,method,remove=True) for dat in adata]\n",
    "    for dat in adata:\n",
    "        print(len(dat), dat.uns['doublets_removed'])\n",
    "        \n",
    "adata"
   ]
  },
  {
   "cell_type": "code",
   "execution_count": null,
   "metadata": {},
   "outputs": [],
   "source": [
    "# save\n",
    "annotation = method_short\n",
    "with open(os.path.join(DATADIR,'processed', study, 'py', '1_preprocessed', f'{annotation}.pickle'), 'wb') as handle:\n",
    "    pickle.dump(adata, handle)"
   ]
  },
  {
   "cell_type": "markdown",
   "metadata": {},
   "source": [
    "## Pre-Integration Cell Labels (deprecated)"
   ]
  },
  {
   "cell_type": "markdown",
   "metadata": {},
   "source": [
    "### CellTypist"
   ]
  },
  {
   "cell_type": "code",
   "execution_count": null,
   "metadata": {},
   "outputs": [],
   "source": [
    "import celltypist\n",
    "from celltypist import models\n",
    "models.download_models(force_update = False)\n",
    "print(models.models_path)\n"
   ]
  },
  {
   "cell_type": "code",
   "execution_count": null,
   "metadata": {},
   "outputs": [],
   "source": [
    "def Annotate_celltypist(adata, model, modelname):\n",
    "    #celltypist-specific processing\n",
    "    tmp = adata.copy()\n",
    "    sc.pp.normalize_total(tmp,target_sum=1e4)\n",
    "    sc.pp.log1p(tmp)\n",
    "\n",
    "    predictions = celltypist.annotate(tmp, model=model, majority_voting=False).to_adata()\n",
    "    adata.obs[f'{modelname}-label'] = predictions.obs.loc[adata.obs.index,\"predicted_labels\"]\n",
    "    adata.obs[f'{modelname}-score'] = predictions.obs.loc[adata.obs.index,\"conf_score\"]\n",
    "    return adata\n",
    "\n",
    "model = models.Model.load(model=\"Immune_All_Low.pkl\")\n",
    "modelname = \"CT_immune_highres\"\n",
    "adata = [Annotate_celltypist(dat,model,modelname) for dat in adata]\n",
    "\n",
    "model = models.Model.load(model=\"Immune_All_High.pkl\")\n",
    "modelname = \"CT_immune_lowres\"\n",
    "adata = [Annotate_celltypist(dat,model,modelname) for dat in adata]"
   ]
  },
  {
   "cell_type": "markdown",
   "metadata": {},
   "source": [
    "Visualize"
   ]
  },
  {
   "cell_type": "code",
   "execution_count": null,
   "metadata": {},
   "outputs": [],
   "source": [
    "tmp = adata[1].copy()\n",
    "sc.pp.neighbors(tmp)\n",
    "sc.tl.umap(tmp)"
   ]
  },
  {
   "cell_type": "code",
   "execution_count": null,
   "metadata": {},
   "outputs": [],
   "source": [
    "sc.pl.umap(tmp,color=['CT_immune_highres-label','CT_immune_lowres-label'],legend_loc='on adata')\n",
    "sns.histplot(tmp.obs['CT_immune_lowres-score'])\n",
    "plt.figure()\n",
    "\n",
    "f,ax = plt.subplots(2, 1)\n",
    "_ = sns.histplot(tmp.obs['CT_immune_lowres-score'],ax=ax[0])\n",
    "_ = sns.histplot(tmp.obs['CT_immune_highres-score'],ax=ax[1])"
   ]
  },
  {
   "cell_type": "markdown",
   "metadata": {},
   "source": [
    "# Integration"
   ]
  },
  {
   "cell_type": "markdown",
   "metadata": {},
   "source": [
    "### Integrate"
   ]
  },
  {
   "cell_type": "code",
   "execution_count": null,
   "metadata": {},
   "outputs": [],
   "source": [
    "# load adata\n",
    "annotation = \"scDF\"\n",
    "with open(os.path.join(DATADIR,'processed',study,'py',\n",
    "                                  '1_preprocessed', f'{annotation}.h5ad'),\n",
    "                                  'rb') as handle:\n",
    "    adata = pickle.load(handle)"
   ]
  },
  {
   "cell_type": "code",
   "execution_count": null,
   "metadata": {},
   "outputs": [],
   "source": [
    "batch_column = 'Groups'\n",
    "hvg_kind = 'seurat'\n",
    "int_kind = 'harmony'\n",
    "\n",
    "# merge\n",
    "adata = sc.concat(adata, join='outer')\n",
    "adata.raw = adata.copy()\n",
    "\n",
    "# process & integrate\n",
    "adata = Normalize(adata, kind='log1p', batch_column=batch_column)\n",
    "adata = FindVariableGenes(adata, kind=hvg_kind, batch_column=batch_column)\n",
    "adata = Integrate(adata, kind = int_kind, batch_column=batch_column, use_var_genes=False)"
   ]
  },
  {
   "cell_type": "code",
   "execution_count": null,
   "metadata": {},
   "outputs": [],
   "source": [
    "# save\n",
    "annotation = \"scDF-seuratV3-harmony\"\n",
    "adata.write(os.path.join(DATADIR,'processed',study,'py',\n",
    "                                  '2_integrated', f'{annotation}.h5ad'))"
   ]
  },
  {
   "cell_type": "markdown",
   "metadata": {},
   "source": [
    "### Plot"
   ]
  },
  {
   "cell_type": "code",
   "execution_count": null,
   "metadata": {},
   "outputs": [],
   "source": [
    "annotation = \"scDF-seuratV3-harmony\"\n",
    "adata = sc.read_h5ad(os.path.join(DATADIR,'processed',study,'py',\n",
    "                                  '2_integrated', f'{annotation}.h5ad'))"
   ]
  },
  {
   "cell_type": "code",
   "execution_count": null,
   "metadata": {},
   "outputs": [],
   "source": [
    "# plot embeddings\n",
    "f = plt.figure(figsize=(10,5), layout=\"constrained\")\n",
    "check_integration(adata, \"Groups\", f, mini=True)\n",
    "f = plt.figure(figsize=(18,12), layout=\"constrained\")\n",
    "check_integration(adata, \"Groups\", f, nrow=2, ncol=2, mini=False)"
   ]
  },
  {
   "cell_type": "code",
   "execution_count": null,
   "metadata": {},
   "outputs": [],
   "source": [
    "# Feature marker plots\n",
    "markers = [\"Adipoq\", \"Pdgfra\", \"Upk3b\", \"Cdh5\", \"Rgs5\", \"Adgre1\", \"Flt3\", \"Cpa3\", \"Skap1\", \"Igkc\"]\n",
    "sc.pl.umap(adata, color=markers, layer='normalized')\n",
    "sc.pl.embedding(adata, basis=\"LocalMAP\", color=markers, layer='normalized')"
   ]
  },
  {
   "cell_type": "markdown",
   "metadata": {},
   "source": [
    "# Analysis"
   ]
  },
  {
   "cell_type": "markdown",
   "metadata": {},
   "source": [
    "## Overall Clustering"
   ]
  },
  {
   "cell_type": "markdown",
   "metadata": {},
   "source": [
    "### Cluster"
   ]
  },
  {
   "cell_type": "code",
   "execution_count": null,
   "metadata": {},
   "outputs": [],
   "source": [
    "# load data\n",
    "annotation = \"scDF-seuratV3-harmony\"\n",
    "adata = sc.read_h5ad(os.path.join(DATADIR,'processed',study,'py',\n",
    "                                  '2_integrated', f'{annotation}.h5ad'))\n",
    "adata.obs[\"Groups\"] = pd.Categorical(adata.obs[\"Groups\"],categories=['LFD_eWAT', 'HFD_eWAT', 'LFD_iWAT', 'HFD_iWAT'], ordered=True)\n",
    "adata.raw = adata.copy()"
   ]
  },
  {
   "cell_type": "code",
   "execution_count": null,
   "metadata": {},
   "outputs": [],
   "source": [
    "resolution = 1\n",
    "compareUMAP = True\n",
    "\n",
    "# leiden clustering\n",
    "sc.tl.leiden(adata, resolution,random_state=123)\n",
    "print(f\"{len(adata.obs['leiden'].unique())} clusters found at resolution {int(adata.uns['leiden']['params']['resolution'])}!\")\n",
    "\n",
    "if compareUMAP is True:\n",
    "    try: \n",
    "        del adata.uns[\"leiden_colors\"]\n",
    "    except KeyError:\n",
    "        pass\n",
    "\n",
    "    f = plt.figure(figsize=(12,5), layout=\"constrained\")\n",
    "    check_integration(adata, \"leiden\", f, mini=True)\n",
    "\n",
    "# figure prep\n",
    "cluster_c = color_gen(adata.obs[\"leiden\"])\n",
    "f = plt.figure(figsize=(25,15),layout=\"constrained\")\n",
    "sf = f.subfigures(1,2)\n",
    "\n",
    "# Large LocalMAP plot\n",
    "axs = sf[0].subplots(4,2)\n",
    "gs = axs[0,0].get_gridspec()\n",
    "empty_axs(axs)\n",
    "ax = sf[0].add_subplot(gs[:3,:])\n",
    "sc.pl.embedding(adata, basis='LocalMAP', color=['leiden'], ax=ax, show=False, legend_loc='on data', legend_fontoutline=1, legend_fontsize=15, palette=cluster_c)\n",
    "ax = sf[0].add_subplot(gs[3,0])\n",
    "sc.pl.embedding(adata, basis='LocalMAP', color=['Groups'], ax=ax, show=False, alpha=0.7)\n",
    "ax = sf[0].add_subplot(gs[3,1])\n",
    "sc.pl.embedding(adata, basis='LocalMAP', color=['Condition'], ax=ax, show=False, alpha=0.7)\n",
    "\n",
    "# Violin marker plots\n",
    "markers = [\"Adipoq\", \"Pdgfra\", \"Upk3b\", \"Cdh5\", \"Rgs5\", \"Adgre1\", \"Flt3\", \"Cpa3\", \"Skap1\", \"Igkc\"]\n",
    "cluster_violinplot(adata, markers, \"leiden\", sf[1])"
   ]
  },
  {
   "cell_type": "markdown",
   "metadata": {},
   "source": [
    "### Doublet Checking\n",
    "only use on '-hasDoublets' verions!"
   ]
  },
  {
   "cell_type": "code",
   "execution_count": null,
   "metadata": {},
   "outputs": [],
   "source": [
    "sc.pl.embedding(adata, basis='LocalMAP', color = [f\"predicted_doublet-{method}\" for method in DOUBLETMETHODS],ncols=2)\n",
    "sc.pl.embedding(adata, basis='LocalMAP', color = 'n_genes')\n",
    "for method in DOUBLETMETHODS:\n",
    "    print(adata.obs.groupby('leiden')[f'predicted_doublet-{method}'].mean().sort_values())"
   ]
  },
  {
   "cell_type": "code",
   "execution_count": null,
   "metadata": {},
   "outputs": [],
   "source": [
    "# sc.tl.rank_genes_groups(adata, groupby='leiden')\n",
    "gene_groups = sc.get.rank_genes_groups_df(adata, group=None)\n",
    "gene_groups[gene_groups.group == '0'].head(20)"
   ]
  },
  {
   "cell_type": "markdown",
   "metadata": {},
   "source": [
    "### Annotate"
   ]
  },
  {
   "cell_type": "code",
   "execution_count": null,
   "metadata": {},
   "outputs": [],
   "source": [
    "remap = False\n",
    "\n",
    "if remap is True:\n",
    "    mapping = {\n",
    "        0  : 'Adipocyte',  1  : 'Fibroblast',  2  : 'Fibroblast',   3  : 'Adipocyte',  4  : 'Macrophage',\n",
    "        5  : 'Fibroblast',   6  : 'Adipocyte',   7  : 'Adipocyte',  8  : 'Macrophage', 9  : 'Adipocyte',\n",
    "        10 : 'Adipocyte',   11 : 'Endothelial',   12 : 'Endothelial',   13 : 'Fibroblast',   14 : 'Mesothelial',\n",
    "        15 : 'Macrophage',  16 : 'PC/SMC',   17 : 'Adipocyte',   18 : 'Adipocyte',   19 : 'Dendritic Cell',\n",
    "        20 : 'Macrophage',  21 : 'Fibroblast',  22 : 'T cell',  23 : 'Macrophage',\n",
    "    }\n",
    "\n",
    "    try:\n",
    "        assert len(mapping) == len(adata.obs['leiden'].unique())\n",
    "    except AssertionError:\n",
    "        print(f\"At resolution {resolution}, {len(adata.obs['leiden'].unique())} clusters identified, but only {len(mapping)} mappings provided!\")\n",
    "\n",
    "    adata.obs['cell_type'] = adata.obs['leiden'].astype(int).replace(mapping)\n",
    "    adata.obs['cell_type'] = pd.Categorical(adata.obs['cell_type'],\n",
    "                                            categories=['Adipocyte', 'Fibroblast', 'Mesothelial', 'Endothelial', 'PC/SMC', 'Macrophage', 'Dendritic Cell', 'T cell'],\n",
    "                                            ordered=True)\n",
    "\n",
    "for obsm in [\"X_umap\", \"LocalMAP\"]:\n",
    "    f,axs = plt.subplots(1,3,figsize=(20,5),layout='constrained')\n",
    "    sc.pl.embedding(adata, basis=obsm, color=['leiden'], ax=axs[0], show=False, palette=color_gen(adata.obs[\"leiden\"]))\n",
    "    sc.pl.embedding(adata, basis=obsm, color = ['cell_type'], ax=axs[1], show=False, palette=color_gen(adata.obs['cell_type']))\n",
    "    sc.pl.embedding(adata, basis=obsm, color = ['Groups'], ax=axs[2], show=False, palette=color_gen(adata.obs['Groups']), alpha=0.5)\n",
    "\n",
    "f = plt.figure(figsize=(8,12),layout=\"constrained\")\n",
    "markers = [\"Adipoq\", \"Pdgfra\", \"Upk3b\", \"Cdh5\", \"Rgs5\", \"Adgre1\", \"Flt3\", \"Cpa3\", \"Skap1\", \"Igkc\"]\n",
    "cluster_violinplot(adata, markers, \"cell_type\", f)"
   ]
  },
  {
   "cell_type": "code",
   "execution_count": null,
   "metadata": {},
   "outputs": [],
   "source": [
    "f = plt.figure(figsize=(10, 5), layout=\"constrained\")\n",
    "axs = f.subplots(1, 2)\n",
    "cluster_stackedbarplot(adata, \"Groups\", \"cell_type\", pct=False, ax=axs[0])\n",
    "cluster_stackedbarplot(adata, \"Groups\", \"cell_type\", pct=True, ax=axs[1])\n",
    "\n",
    "f = plt.figure(figsize=(10, 5), layout=\"constrained\")\n",
    "axs = f.subplots(1, 2)\n",
    "cluster_stackedbarplot(adata, \"cell_type\", \"Groups\", pct=False, ax=axs[0])\n",
    "cluster_stackedbarplot(adata, \"cell_type\", \"Groups\", pct=True, ax=axs[1])"
   ]
  },
  {
   "cell_type": "markdown",
   "metadata": {},
   "source": [
    "### DEGs"
   ]
  },
  {
   "cell_type": "code",
   "execution_count": null,
   "metadata": {},
   "outputs": [],
   "source": [
    "sc.tl.rank_genes_groups(adata, groupby='cell_type',\n",
    "                        use_raw=False, layer=\"normalized\", key_added='de_all',\n",
    "                        method='wilcoxon')\n",
    "\n",
    "f, ax = plt.subplots(1,1,figsize=(30,5),layout=\"constrained\")\n",
    "sc.pl.rank_genes_groups_dotplot(\n",
    "    adata, groupby=\"cell_type\", key='de_all',\n",
    "    standard_scale=\"var\", n_genes=10,\n",
    "    var_group_rotation=30, ax=ax\n",
    ")\n",
    "\n",
    "comparison = [\"Adipocyte\", \"Fibroblast\", \"Macrophage\"]\n",
    "f, ax = plt.subplots(1,1,figsize=(30,5),layout=\"constrained\")\n",
    "sc.pl.rank_genes_groups_dotplot(\n",
    "    adata, groupby=\"cell_type\", groups=comparison, key='de_all',\n",
    "    standard_scale=\"var\", n_genes=30,\n",
    "    var_group_rotation=30, ax=ax\n",
    ")\n",
    "\n",
    "df = sc.get.rank_genes_groups_df(adata, group=None, key='de_all')"
   ]
  },
  {
   "cell_type": "code",
   "execution_count": null,
   "metadata": {},
   "outputs": [],
   "source": [
    "marker_of_interest = \"Adgre1\"\n",
    "df[df[\"names\"] == marker_of_interest]\n",
    "\n",
    "celltype_of_interest = \"Adipocyte\"\n",
    "df[df[\"group\"] == celltype_of_interest].head(50)"
   ]
  },
  {
   "cell_type": "code",
   "execution_count": null,
   "metadata": {},
   "outputs": [],
   "source": [
    "# save\n",
    "annotation = \"scDF-seuratV3-harmony-leiden_1.0\"\n",
    "adata.write(os.path.join(DATADIR,'processed',study,'py',\n",
    "                                  '3_annotated', f'{annotation}.h5ad'))"
   ]
  },
  {
   "cell_type": "markdown",
   "metadata": {},
   "source": [
    "## Subclustering"
   ]
  },
  {
   "cell_type": "code",
   "execution_count": null,
   "metadata": {},
   "outputs": [],
   "source": [
    "# load\n",
    "annotation = \"scDF-seuratV3-harmony-leiden_1.0\"\n",
    "adata = sc.read_h5ad(os.path.join(DATADIR,'processed',study,'py',\n",
    "                                  '3_annotated', f'{annotation}.h5ad'))"
   ]
  },
  {
   "cell_type": "code",
   "execution_count": null,
   "metadata": {},
   "outputs": [],
   "source": [
    "# subset\n",
    "adata_macros = adata[adata.obs[\"cell_type\"] == \"Macrophage\"].copy()\n",
    "del adata_macros.uns, adata_macros.varm, adata_macros.obsp\n",
    "sc.pp.filter_cells(adata_macros, min_genes=200)\n",
    "sc.pp.filter_genes(adata_macros, min_cells=5)\n",
    "\n",
    "# UMAP\n",
    "sc.pp.neighbors(adata_macros, use_rep = \"integrated\")\n",
    "sc.tl.umap(adata_macros, key_added='umap_macro')\n",
    "\n",
    "#LocalMAP\n",
    "lm = LocalMAP()\n",
    "adata_macros.obsm[\"LocalMAP_macro\"] = lm.fit_transform(adata_macros.obsm['integrated'])"
   ]
  },
  {
   "cell_type": "code",
   "execution_count": null,
   "metadata": {},
   "outputs": [],
   "source": [
    "# integration check\n",
    "f = plt.figure(figsize=(18,12), layout=\"constrained\")\n",
    "check_integration(adata_macros, \"Groups\", f, embeddings=[\"umap_macro\", \"LocalMAP_macro\"], nrow=2, ncol=2)"
   ]
  },
  {
   "cell_type": "code",
   "execution_count": null,
   "metadata": {},
   "outputs": [],
   "source": [
    "# cluster\n",
    "sc.tl.leiden(adata_macros, resolution=0.5, key_added='leiden_macro')\n",
    "\n",
    "order_obs(adata_macros,\"leiden_macro\",pd.Series([2,1,6,0,4,3,7,5]).astype(str))\n",
    "\n",
    "# figure prep\n",
    "cluster_c = color_gen(adata_macros.obs[\"leiden_macro\"])\n",
    "f = plt.figure(figsize=(25,15),layout=\"constrained\")\n",
    "sf = f.subfigures(1,2)\n",
    "\n",
    "axs = sf[0].subplots(4,2)\n",
    "gs = axs[0,0].get_gridspec()\n",
    "empty_axs(axs)\n",
    "\n",
    "# Large LocalMAP plot\n",
    "embedding = \"umap_macro\"\n",
    "ax = sf[0].add_subplot(gs[:3,:])\n",
    "sc.pl.embedding(adata_macros, basis=embedding, color=['leiden_macro'], ax=ax, show=False, legend_loc='on data', legend_fontoutline=2, legend_fontsize=20, palette=cluster_c)\n",
    "ax = sf[0].add_subplot(gs[3,0])\n",
    "sc.pl.embedding(adata_macros, basis=embedding, color=['Groups'], ax=ax, show=False, alpha=0.7)\n",
    "ax = sf[0].add_subplot(gs[3,1])\n",
    "sc.pl.embedding(adata_macros, basis=embedding, color=['Condition'], ax=ax, show=False, alpha=0.7)\n",
    "\n",
    "# Violin marker plots\n",
    "markers = [\"Adgre1\", \"Cd209f\", \"Creb5\", \"Gpnmb\", \"Cd226\", \"Plac8\", \"Slpi\", \"Col1a2\"]\n",
    "cluster_violinplot(adata_macros, markers, \"leiden_macro\", sf[1])"
   ]
  },
  {
   "cell_type": "code",
   "execution_count": null,
   "metadata": {},
   "outputs": [],
   "source": [
    "# reannotate\n",
    "adata_macros.obs[\"leiden_macro_group\"] = adata_macros.obs[\"leiden_macro\"].map(\n",
    "    {'2' : 1,\n",
    "     '1' : 2, '6' : 3,\n",
    "     '0' : 3, '4' : 3, '3' : 3,\n",
    "     '7' : 4,\n",
    "     '5' : 5,\n",
    "     }).astype(str)\n",
    "order_obs(adata_macros,\"leiden_macro_group\",pd.Series(np.arange(1,6)).astype(str))\n",
    "\n",
    "f = plt.figure(figsize=(10, 5), layout=\"constrained\")\n",
    "axs = f.subplots(1, 2)\n",
    "cluster_stackedbarplot(adata_macros, \"Groups\", \"leiden_macro_group\", pct=False, ax=axs[0])\n",
    "cluster_stackedbarplot(adata_macros, \"Groups\", \"leiden_macro_group\", pct=True, ax=axs[1])\n",
    "\n",
    "f = plt.figure(figsize=(10, 5), layout=\"constrained\")\n",
    "axs = f.subplots(1, 2)\n",
    "cluster_stackedbarplot(adata_macros, \"leiden_macro_group\", \"Groups\", pct=False, ax=axs[0])\n",
    "cluster_stackedbarplot(adata_macros, \"leiden_macro_group\", \"Groups\", pct=True, ax=axs[1])"
   ]
  },
  {
   "cell_type": "code",
   "execution_count": null,
   "metadata": {},
   "outputs": [],
   "source": [
    "# find DEGs\n",
    "sc.tl.rank_genes_groups(adata_macros, groupby='leiden_macro_group', key_added=\"de_macro\",\n",
    "                        use_raw=False, layer=\"normalized\", \n",
    "                        method='wilcoxon')\n",
    "\n",
    "# del adata_macros.uns['dendrogram_leiden_macro'], adata_macros.uns['dendrogram_leiden_macro_group']\n",
    "f, ax = plt.subplots(1,1,figsize=(15,5),layout=\"constrained\")\n",
    "sc.pl.rank_genes_groups_dotplot(\n",
    "    adata_macros, groupby=\"leiden_macro_group\", key='de_macro',\n",
    "    standard_scale=\"var\", n_genes=10, min_logfoldchange=2, ax=ax\n",
    ")\n",
    "\n",
    "df = sc.get.rank_genes_groups_df(adata_macros, group=None, key=\"de_macro\")"
   ]
  },
  {
   "cell_type": "code",
   "execution_count": null,
   "metadata": {},
   "outputs": [],
   "source": [
    "# save\n",
    "annotation = \"scDF-seuratV3-harmony-leiden_1.0-macro_leiden_0.5\"\n",
    "adata.write(os.path.join(DATADIR,'processed',study,'py',\n",
    "                                  '4.0_subclustered', f'{annotation}.h5ad'))"
   ]
  },
  {
   "cell_type": "markdown",
   "metadata": {},
   "source": [
    "## Compositional Analysis\n",
    "* scCODA (clusters) - https://www.sc-best-practices.org/conditions/compositional.html#with-labeled-clusters\n",
    "* tascCODA (hierachical clusters) - https://www.sc-best-practices.org/conditions/compositional.html#with-labeled-clusters-and-hierarchical-structure\n",
    "* scanpro (reps, clusters) https://scanpro.readthedocs.io/en/latest/proportion_analysis.html\n",
    "* Milo (none) https://www.sc-best-practices.org/conditions/compositional.html#without-labeled-clusters"
   ]
  },
  {
   "cell_type": "markdown",
   "metadata": {},
   "source": [
    "## CCC"
   ]
  },
  {
   "cell_type": "code",
   "execution_count": 9,
   "metadata": {},
   "outputs": [],
   "source": [
    "from ccc import *\n",
    "from liana.method import cellphonedb, rank_aggregate\n",
    "\n",
    "annotation = \"scDF-seuratV3-harmony-leiden_1.0\"\n",
    "adata = sc.read_h5ad(os.path.join(DATADIR,'processed',study,'py',\n",
    "                                  '3_annotated', f'{annotation}.h5ad'))"
   ]
  },
  {
   "cell_type": "markdown",
   "metadata": {},
   "source": [
    "### Liana Approach"
   ]
  },
  {
   "cell_type": "code",
   "execution_count": 10,
   "metadata": {},
   "outputs": [
    {
     "name": "stdout",
     "output_type": "stream",
     "text": [
      "converting resource baccin2019 from human to mouse\n",
      "converting resource cellcall from human to mouse\n",
      "converting resource cellchatdb from human to mouse\n",
      "converting resource cellinker from human to mouse\n",
      "converting resource cellphonedbv5 from human to mouse\n",
      "converting resource cellphonedb from human to mouse\n",
      "converting resource celltalkdb from human to mouse\n",
      "converting resource connectomedb2020 from human to mouse\n",
      "converting resource consensus from human to mouse\n",
      "converting resource embrace from human to mouse\n",
      "converting resource guide2pharma from human to mouse\n",
      "converting resource hpmr from human to mouse\n",
      "converting resource icellnet from human to mouse\n",
      "converting resource italk from human to mouse\n",
      "converting resource kirouac2010 from human to mouse\n",
      "converting resource lrdb from human to mouse\n",
      "found lowercase letters in first cell 'Dll1' of mouseconsensus, not converting!\n",
      "converting resource ramilowski2015 from human to mouse\n"
     ]
    }
   ],
   "source": [
    "resource_opts = ['baccin2019', 'cellcall', 'cellchatdb', 'cellinker', 'cellphonedbv5', 'cellphonedb', 'celltalkdb', 'connectomedb2020', 'consensus', 'embrace', 'guide2pharma', 'hpmr', 'icellnet', 'italk', 'kirouac2010', 'lrdb', 'mouseconsensus', 'ramilowski2015']\n",
    "resources = liana_mouse_resource(resource_opts)\n",
    "\n",
    "ccc_db = merge_dbs(resources).reset_index(drop=True)"
   ]
  },
  {
   "cell_type": "code",
   "execution_count": 11,
   "metadata": {},
   "outputs": [
    {
     "name": "stderr",
     "output_type": "stream",
     "text": [
      "Using the `normalized` layer!\n"
     ]
    },
    {
     "name": "stdout",
     "output_type": "stream",
     "text": [
      "Using provided `resource`.\n"
     ]
    },
    {
     "name": "stderr",
     "output_type": "stream",
     "text": [
      "0.25 of entities in the resource are missing from the data.\n"
     ]
    },
    {
     "name": "stdout",
     "output_type": "stream",
     "text": [
      "Generating ligand-receptor stats for 13861 samples and 1529 features\n"
     ]
    },
    {
     "name": "stderr",
     "output_type": "stream",
     "text": [
      "100%|██████████| 1000/1000 [00:48<00:00, 20.75it/s]\n"
     ]
    },
    {
     "data": {
      "text/html": [
       "<div>\n",
       "<style scoped>\n",
       "    .dataframe tbody tr th:only-of-type {\n",
       "        vertical-align: middle;\n",
       "    }\n",
       "\n",
       "    .dataframe tbody tr th {\n",
       "        vertical-align: top;\n",
       "    }\n",
       "\n",
       "    .dataframe thead th {\n",
       "        text-align: right;\n",
       "    }\n",
       "</style>\n",
       "<table border=\"1\" class=\"dataframe\">\n",
       "  <thead>\n",
       "    <tr style=\"text-align: right;\">\n",
       "      <th></th>\n",
       "      <th>ligand_x</th>\n",
       "      <th>ligand_complex</th>\n",
       "      <th>ligand_means</th>\n",
       "      <th>ligand_props</th>\n",
       "      <th>receptor_x</th>\n",
       "      <th>receptor_complex</th>\n",
       "      <th>receptor_means</th>\n",
       "      <th>receptor_props</th>\n",
       "      <th>source</th>\n",
       "      <th>target</th>\n",
       "      <th>lrs_to_keep</th>\n",
       "      <th>lr_means</th>\n",
       "      <th>cellphone_pvals</th>\n",
       "      <th>ligand_y</th>\n",
       "      <th>receptor_y</th>\n",
       "      <th>db_sources</th>\n",
       "    </tr>\n",
       "  </thead>\n",
       "  <tbody>\n",
       "    <tr>\n",
       "      <th>0</th>\n",
       "      <td>Col1a2</td>\n",
       "      <td>Col1a2</td>\n",
       "      <td>3.227245</td>\n",
       "      <td>0.989616</td>\n",
       "      <td>Cd36</td>\n",
       "      <td>Cd36</td>\n",
       "      <td>2.691967</td>\n",
       "      <td>0.954268</td>\n",
       "      <td>Fibroblast</td>\n",
       "      <td>PC/SMC</td>\n",
       "      <td>True</td>\n",
       "      <td>2.959606</td>\n",
       "      <td>0.0</td>\n",
       "      <td>Col1a2</td>\n",
       "      <td>Cd36</td>\n",
       "      <td>baccin2019, cellinker, celltalkdb, consensus, ...</td>\n",
       "    </tr>\n",
       "    <tr>\n",
       "      <th>1</th>\n",
       "      <td>Col1a2</td>\n",
       "      <td>Col1a2</td>\n",
       "      <td>3.227245</td>\n",
       "      <td>0.989616</td>\n",
       "      <td>Cd36</td>\n",
       "      <td>Cd36</td>\n",
       "      <td>2.668688</td>\n",
       "      <td>0.872701</td>\n",
       "      <td>Fibroblast</td>\n",
       "      <td>Macrophage</td>\n",
       "      <td>True</td>\n",
       "      <td>2.947967</td>\n",
       "      <td>0.0</td>\n",
       "      <td>Col1a2</td>\n",
       "      <td>Cd36</td>\n",
       "      <td>baccin2019, cellinker, celltalkdb, consensus, ...</td>\n",
       "    </tr>\n",
       "    <tr>\n",
       "      <th>2</th>\n",
       "      <td>Col3a1</td>\n",
       "      <td>Col3a1</td>\n",
       "      <td>3.611327</td>\n",
       "      <td>0.972712</td>\n",
       "      <td>Itga1</td>\n",
       "      <td>Itga1_Itgb1</td>\n",
       "      <td>2.257015</td>\n",
       "      <td>0.987805</td>\n",
       "      <td>Fibroblast</td>\n",
       "      <td>PC/SMC</td>\n",
       "      <td>True</td>\n",
       "      <td>2.934171</td>\n",
       "      <td>0.0</td>\n",
       "      <td>Col3a1</td>\n",
       "      <td>Itga1_Itgb1</td>\n",
       "      <td>cellphonedb, cellphonedbv5, consensus, icellne...</td>\n",
       "    </tr>\n",
       "    <tr>\n",
       "      <th>3</th>\n",
       "      <td>Dcn</td>\n",
       "      <td>Dcn</td>\n",
       "      <td>3.699373</td>\n",
       "      <td>0.995170</td>\n",
       "      <td>Egfr</td>\n",
       "      <td>Egfr</td>\n",
       "      <td>2.088059</td>\n",
       "      <td>0.870321</td>\n",
       "      <td>Fibroblast</td>\n",
       "      <td>Fibroblast</td>\n",
       "      <td>True</td>\n",
       "      <td>2.893716</td>\n",
       "      <td>0.0</td>\n",
       "      <td>Dcn</td>\n",
       "      <td>Egfr</td>\n",
       "      <td>baccin2019, cellinker, celltalkdb, connectomed...</td>\n",
       "    </tr>\n",
       "    <tr>\n",
       "      <th>4</th>\n",
       "      <td>Col1a2</td>\n",
       "      <td>Col1a2</td>\n",
       "      <td>3.227245</td>\n",
       "      <td>0.989616</td>\n",
       "      <td>Cd36</td>\n",
       "      <td>Cd36</td>\n",
       "      <td>2.522447</td>\n",
       "      <td>0.897561</td>\n",
       "      <td>Fibroblast</td>\n",
       "      <td>Endothelial</td>\n",
       "      <td>True</td>\n",
       "      <td>2.874846</td>\n",
       "      <td>0.0</td>\n",
       "      <td>Col1a2</td>\n",
       "      <td>Cd36</td>\n",
       "      <td>baccin2019, cellinker, celltalkdb, consensus, ...</td>\n",
       "    </tr>\n",
       "    <tr>\n",
       "      <th>...</th>\n",
       "      <td>...</td>\n",
       "      <td>...</td>\n",
       "      <td>...</td>\n",
       "      <td>...</td>\n",
       "      <td>...</td>\n",
       "      <td>...</td>\n",
       "      <td>...</td>\n",
       "      <td>...</td>\n",
       "      <td>...</td>\n",
       "      <td>...</td>\n",
       "      <td>...</td>\n",
       "      <td>...</td>\n",
       "      <td>...</td>\n",
       "      <td>...</td>\n",
       "      <td>...</td>\n",
       "      <td>...</td>\n",
       "    </tr>\n",
       "    <tr>\n",
       "      <th>319547</th>\n",
       "      <td>Guca1b</td>\n",
       "      <td>Guca1b</td>\n",
       "      <td>0.000366</td>\n",
       "      <td>0.003049</td>\n",
       "      <td>Gucy2f</td>\n",
       "      <td>Gucy2f</td>\n",
       "      <td>0.000000</td>\n",
       "      <td>0.000000</td>\n",
       "      <td>PC/SMC</td>\n",
       "      <td>Mesothelial</td>\n",
       "      <td>False</td>\n",
       "      <td>0.056011</td>\n",
       "      <td>1.0</td>\n",
       "      <td>Guca1b</td>\n",
       "      <td>Gucy2f</td>\n",
       "      <td>guide2pharma</td>\n",
       "    </tr>\n",
       "    <tr>\n",
       "      <th>319548</th>\n",
       "      <td>Guca1a</td>\n",
       "      <td>Guca1a</td>\n",
       "      <td>0.004512</td>\n",
       "      <td>0.009146</td>\n",
       "      <td>Gucy2f</td>\n",
       "      <td>Gucy2f</td>\n",
       "      <td>0.000000</td>\n",
       "      <td>0.000000</td>\n",
       "      <td>PC/SMC</td>\n",
       "      <td>Mesothelial</td>\n",
       "      <td>False</td>\n",
       "      <td>0.056011</td>\n",
       "      <td>1.0</td>\n",
       "      <td>Guca1a</td>\n",
       "      <td>Gucy2f</td>\n",
       "      <td>guide2pharma</td>\n",
       "    </tr>\n",
       "    <tr>\n",
       "      <th>319549</th>\n",
       "      <td>Gdf9</td>\n",
       "      <td>Gdf9</td>\n",
       "      <td>0.000000</td>\n",
       "      <td>0.000000</td>\n",
       "      <td>Acvr1c</td>\n",
       "      <td>Acvr1c</td>\n",
       "      <td>0.009380</td>\n",
       "      <td>0.005917</td>\n",
       "      <td>PC/SMC</td>\n",
       "      <td>Mesothelial</td>\n",
       "      <td>False</td>\n",
       "      <td>0.056011</td>\n",
       "      <td>1.0</td>\n",
       "      <td>Gdf9</td>\n",
       "      <td>Acvr1c</td>\n",
       "      <td>guide2pharma</td>\n",
       "    </tr>\n",
       "    <tr>\n",
       "      <th>319550</th>\n",
       "      <td>Gdf9</td>\n",
       "      <td>Gdf9</td>\n",
       "      <td>0.000000</td>\n",
       "      <td>0.000000</td>\n",
       "      <td>Acvr2b</td>\n",
       "      <td>Acvr2b</td>\n",
       "      <td>0.030437</td>\n",
       "      <td>0.041420</td>\n",
       "      <td>PC/SMC</td>\n",
       "      <td>Mesothelial</td>\n",
       "      <td>False</td>\n",
       "      <td>0.056011</td>\n",
       "      <td>1.0</td>\n",
       "      <td>Gdf9</td>\n",
       "      <td>Acvr2b</td>\n",
       "      <td>guide2pharma</td>\n",
       "    </tr>\n",
       "    <tr>\n",
       "      <th>319551</th>\n",
       "      <td>Il1rn</td>\n",
       "      <td>Il1rn</td>\n",
       "      <td>0.001211</td>\n",
       "      <td>0.003049</td>\n",
       "      <td>Il2rb</td>\n",
       "      <td>Il2rb</td>\n",
       "      <td>0.000000</td>\n",
       "      <td>0.000000</td>\n",
       "      <td>PC/SMC</td>\n",
       "      <td>Mesothelial</td>\n",
       "      <td>False</td>\n",
       "      <td>0.056011</td>\n",
       "      <td>1.0</td>\n",
       "      <td>Il1rn</td>\n",
       "      <td>Il2rb</td>\n",
       "      <td>guide2pharma</td>\n",
       "    </tr>\n",
       "  </tbody>\n",
       "</table>\n",
       "<p>319552 rows × 16 columns</p>\n",
       "</div>"
      ],
      "text/plain": [
       "       ligand_x ligand_complex  ligand_means  ligand_props receptor_x  \\\n",
       "0        Col1a2         Col1a2      3.227245      0.989616       Cd36   \n",
       "1        Col1a2         Col1a2      3.227245      0.989616       Cd36   \n",
       "2        Col3a1         Col3a1      3.611327      0.972712      Itga1   \n",
       "3           Dcn            Dcn      3.699373      0.995170       Egfr   \n",
       "4        Col1a2         Col1a2      3.227245      0.989616       Cd36   \n",
       "...         ...            ...           ...           ...        ...   \n",
       "319547   Guca1b         Guca1b      0.000366      0.003049     Gucy2f   \n",
       "319548   Guca1a         Guca1a      0.004512      0.009146     Gucy2f   \n",
       "319549     Gdf9           Gdf9      0.000000      0.000000     Acvr1c   \n",
       "319550     Gdf9           Gdf9      0.000000      0.000000     Acvr2b   \n",
       "319551    Il1rn          Il1rn      0.001211      0.003049      Il2rb   \n",
       "\n",
       "       receptor_complex  receptor_means  receptor_props      source  \\\n",
       "0                  Cd36        2.691967        0.954268  Fibroblast   \n",
       "1                  Cd36        2.668688        0.872701  Fibroblast   \n",
       "2           Itga1_Itgb1        2.257015        0.987805  Fibroblast   \n",
       "3                  Egfr        2.088059        0.870321  Fibroblast   \n",
       "4                  Cd36        2.522447        0.897561  Fibroblast   \n",
       "...                 ...             ...             ...         ...   \n",
       "319547           Gucy2f        0.000000        0.000000      PC/SMC   \n",
       "319548           Gucy2f        0.000000        0.000000      PC/SMC   \n",
       "319549           Acvr1c        0.009380        0.005917      PC/SMC   \n",
       "319550           Acvr2b        0.030437        0.041420      PC/SMC   \n",
       "319551            Il2rb        0.000000        0.000000      PC/SMC   \n",
       "\n",
       "             target  lrs_to_keep  lr_means  cellphone_pvals ligand_y  \\\n",
       "0            PC/SMC         True  2.959606              0.0   Col1a2   \n",
       "1        Macrophage         True  2.947967              0.0   Col1a2   \n",
       "2            PC/SMC         True  2.934171              0.0   Col3a1   \n",
       "3        Fibroblast         True  2.893716              0.0      Dcn   \n",
       "4       Endothelial         True  2.874846              0.0   Col1a2   \n",
       "...             ...          ...       ...              ...      ...   \n",
       "319547  Mesothelial        False  0.056011              1.0   Guca1b   \n",
       "319548  Mesothelial        False  0.056011              1.0   Guca1a   \n",
       "319549  Mesothelial        False  0.056011              1.0     Gdf9   \n",
       "319550  Mesothelial        False  0.056011              1.0     Gdf9   \n",
       "319551  Mesothelial        False  0.056011              1.0    Il1rn   \n",
       "\n",
       "         receptor_y                                         db_sources  \n",
       "0              Cd36  baccin2019, cellinker, celltalkdb, consensus, ...  \n",
       "1              Cd36  baccin2019, cellinker, celltalkdb, consensus, ...  \n",
       "2       Itga1_Itgb1  cellphonedb, cellphonedbv5, consensus, icellne...  \n",
       "3              Egfr  baccin2019, cellinker, celltalkdb, connectomed...  \n",
       "4              Cd36  baccin2019, cellinker, celltalkdb, consensus, ...  \n",
       "...             ...                                                ...  \n",
       "319547       Gucy2f                                       guide2pharma  \n",
       "319548       Gucy2f                                       guide2pharma  \n",
       "319549       Acvr1c                                       guide2pharma  \n",
       "319550       Acvr2b                                       guide2pharma  \n",
       "319551        Il2rb                                       guide2pharma  \n",
       "\n",
       "[319552 rows x 16 columns]"
      ]
     },
     "execution_count": 11,
     "metadata": {},
     "output_type": "execute_result"
    }
   ],
   "source": [
    "# cellphoneDB only\n",
    "cellphonedb(\n",
    "    adata, groupby=\"cell_type\", layer='normalized', use_raw=False, key_added=\"ccc_cellphoneDB\",\n",
    "    return_all_lrs=True, verbose=True, n_jobs=10, resource=ccc_db[[\"ligand\", \"receptor\"]]\n",
    ")\n",
    "adata.uns[\"ccc_cellphoneDB\"] = adata.uns[\"ccc_cellphoneDB\"].merge(ccc_db[['ligand', 'receptor', 'db_sources']],\n",
    "                                                                  left_on=[\"ligand_complex\", \"receptor_complex\"],\n",
    "                                                                  right_on=['ligand','receptor'],\n",
    "                                                                  how='left')\n",
    "adata.uns[\"ccc_cellphoneDB\"]"
   ]
  },
  {
   "cell_type": "code",
   "execution_count": 12,
   "metadata": {},
   "outputs": [
    {
     "name": "stderr",
     "output_type": "stream",
     "text": [
      "Using the `normalized` layer!\n"
     ]
    },
    {
     "name": "stdout",
     "output_type": "stream",
     "text": [
      "Using provided `resource`.\n"
     ]
    },
    {
     "name": "stderr",
     "output_type": "stream",
     "text": [
      "0.25 of entities in the resource are missing from the data.\n"
     ]
    },
    {
     "name": "stdout",
     "output_type": "stream",
     "text": [
      "Generating ligand-receptor stats for 13861 samples and 1529 features\n",
      "Assuming that counts were `natural` log-normalized!\n",
      "Running CellPhoneDB\n"
     ]
    },
    {
     "name": "stderr",
     "output_type": "stream",
     "text": [
      "100%|██████████| 1000/1000 [00:05<00:00, 184.47it/s]\n"
     ]
    },
    {
     "name": "stdout",
     "output_type": "stream",
     "text": [
      "Running Connectome\n",
      "Running log2FC\n",
      "Running NATMI\n",
      "Running SingleCellSignalR\n"
     ]
    },
    {
     "data": {
      "text/html": [
       "<div>\n",
       "<style scoped>\n",
       "    .dataframe tbody tr th:only-of-type {\n",
       "        vertical-align: middle;\n",
       "    }\n",
       "\n",
       "    .dataframe tbody tr th {\n",
       "        vertical-align: top;\n",
       "    }\n",
       "\n",
       "    .dataframe thead th {\n",
       "        text-align: right;\n",
       "    }\n",
       "</style>\n",
       "<table border=\"1\" class=\"dataframe\">\n",
       "  <thead>\n",
       "    <tr style=\"text-align: right;\">\n",
       "      <th></th>\n",
       "      <th>source</th>\n",
       "      <th>target</th>\n",
       "      <th>ligand_complex</th>\n",
       "      <th>receptor_complex</th>\n",
       "      <th>lr_means</th>\n",
       "      <th>cellphone_pvals</th>\n",
       "      <th>expr_prod</th>\n",
       "      <th>scaled_weight</th>\n",
       "      <th>lr_logfc</th>\n",
       "      <th>spec_weight</th>\n",
       "      <th>lrscore</th>\n",
       "      <th>specificity_rank</th>\n",
       "      <th>magnitude_rank</th>\n",
       "      <th>ligand</th>\n",
       "      <th>receptor</th>\n",
       "      <th>db_sources</th>\n",
       "    </tr>\n",
       "  </thead>\n",
       "  <tbody>\n",
       "    <tr>\n",
       "      <th>0</th>\n",
       "      <td>Fibroblast</td>\n",
       "      <td>PC/SMC</td>\n",
       "      <td>Col1a2</td>\n",
       "      <td>Cd36</td>\n",
       "      <td>2.959606</td>\n",
       "      <td>0.0</td>\n",
       "      <td>8.687635</td>\n",
       "      <td>1.031312</td>\n",
       "      <td>2.414536</td>\n",
       "      <td>0.097880</td>\n",
       "      <td>0.969586</td>\n",
       "      <td>0.000132</td>\n",
       "      <td>2.647951e-10</td>\n",
       "      <td>Col1a2</td>\n",
       "      <td>Cd36</td>\n",
       "      <td>baccin2019, cellinker, celltalkdb, consensus, ...</td>\n",
       "    </tr>\n",
       "    <tr>\n",
       "      <th>1</th>\n",
       "      <td>Fibroblast</td>\n",
       "      <td>Macrophage</td>\n",
       "      <td>Col1a2</td>\n",
       "      <td>Cd36</td>\n",
       "      <td>2.947967</td>\n",
       "      <td>0.0</td>\n",
       "      <td>8.612510</td>\n",
       "      <td>1.023153</td>\n",
       "      <td>2.770974</td>\n",
       "      <td>0.097034</td>\n",
       "      <td>0.969458</td>\n",
       "      <td>0.000132</td>\n",
       "      <td>1.059176e-09</td>\n",
       "      <td>Col1a2</td>\n",
       "      <td>Cd36</td>\n",
       "      <td>baccin2019, cellinker, celltalkdb, consensus, ...</td>\n",
       "    </tr>\n",
       "    <tr>\n",
       "      <th>2</th>\n",
       "      <td>Fibroblast</td>\n",
       "      <td>PC/SMC</td>\n",
       "      <td>Col3a1</td>\n",
       "      <td>Itga1_Itgb1</td>\n",
       "      <td>2.934171</td>\n",
       "      <td>0.0</td>\n",
       "      <td>8.150819</td>\n",
       "      <td>2.075122</td>\n",
       "      <td>3.615517</td>\n",
       "      <td>0.171754</td>\n",
       "      <td>0.968631</td>\n",
       "      <td>0.000016</td>\n",
       "      <td>2.383138e-09</td>\n",
       "      <td>Col3a1</td>\n",
       "      <td>Itga1_Itgb1</td>\n",
       "      <td>cellphonedb, cellphonedbv5, consensus, icellne...</td>\n",
       "    </tr>\n",
       "    <tr>\n",
       "      <th>3</th>\n",
       "      <td>Fibroblast</td>\n",
       "      <td>Endothelial</td>\n",
       "      <td>Col1a2</td>\n",
       "      <td>Cd36</td>\n",
       "      <td>2.874846</td>\n",
       "      <td>0.0</td>\n",
       "      <td>8.140555</td>\n",
       "      <td>0.971899</td>\n",
       "      <td>2.450606</td>\n",
       "      <td>0.091716</td>\n",
       "      <td>0.968612</td>\n",
       "      <td>0.000132</td>\n",
       "      <td>6.619781e-09</td>\n",
       "      <td>Col1a2</td>\n",
       "      <td>Cd36</td>\n",
       "      <td>baccin2019, cellinker, celltalkdb, consensus, ...</td>\n",
       "    </tr>\n",
       "    <tr>\n",
       "      <th>4</th>\n",
       "      <td>Fibroblast</td>\n",
       "      <td>Fibroblast</td>\n",
       "      <td>Dcn</td>\n",
       "      <td>Egfr</td>\n",
       "      <td>2.893716</td>\n",
       "      <td>0.0</td>\n",
       "      <td>7.724507</td>\n",
       "      <td>1.149170</td>\n",
       "      <td>3.296879</td>\n",
       "      <td>0.184209</td>\n",
       "      <td>0.967805</td>\n",
       "      <td>0.000132</td>\n",
       "      <td>6.619781e-09</td>\n",
       "      <td>Dcn</td>\n",
       "      <td>Egfr</td>\n",
       "      <td>baccin2019, cellinker, celltalkdb, connectomed...</td>\n",
       "    </tr>\n",
       "    <tr>\n",
       "      <th>...</th>\n",
       "      <td>...</td>\n",
       "      <td>...</td>\n",
       "      <td>...</td>\n",
       "      <td>...</td>\n",
       "      <td>...</td>\n",
       "      <td>...</td>\n",
       "      <td>...</td>\n",
       "      <td>...</td>\n",
       "      <td>...</td>\n",
       "      <td>...</td>\n",
       "      <td>...</td>\n",
       "      <td>...</td>\n",
       "      <td>...</td>\n",
       "      <td>...</td>\n",
       "      <td>...</td>\n",
       "      <td>...</td>\n",
       "    </tr>\n",
       "    <tr>\n",
       "      <th>319547</th>\n",
       "      <td>T cell</td>\n",
       "      <td>T cell</td>\n",
       "      <td>Wnt9a</td>\n",
       "      <td>Lrp5</td>\n",
       "      <td>0.056011</td>\n",
       "      <td>1.0</td>\n",
       "      <td>0.003128</td>\n",
       "      <td>-0.866478</td>\n",
       "      <td>-2.660542</td>\n",
       "      <td>0.000220</td>\n",
       "      <td>0.376919</td>\n",
       "      <td>1.000000</td>\n",
       "      <td>1.000000e+00</td>\n",
       "      <td>Wnt9a</td>\n",
       "      <td>Lrp5</td>\n",
       "      <td>cellcall, cellinker</td>\n",
       "    </tr>\n",
       "    <tr>\n",
       "      <th>319548</th>\n",
       "      <td>T cell</td>\n",
       "      <td>T cell</td>\n",
       "      <td>Wnt9a</td>\n",
       "      <td>Lrp6</td>\n",
       "      <td>0.056011</td>\n",
       "      <td>1.0</td>\n",
       "      <td>0.003128</td>\n",
       "      <td>-0.866478</td>\n",
       "      <td>-2.660542</td>\n",
       "      <td>0.000220</td>\n",
       "      <td>0.376919</td>\n",
       "      <td>1.000000</td>\n",
       "      <td>1.000000e+00</td>\n",
       "      <td>Wnt9a</td>\n",
       "      <td>Lrp6</td>\n",
       "      <td>cellcall, cellinker</td>\n",
       "    </tr>\n",
       "    <tr>\n",
       "      <th>319549</th>\n",
       "      <td>T cell</td>\n",
       "      <td>T cell</td>\n",
       "      <td>Wnt9a</td>\n",
       "      <td>Sfrp1</td>\n",
       "      <td>0.056011</td>\n",
       "      <td>1.0</td>\n",
       "      <td>0.003128</td>\n",
       "      <td>-0.866478</td>\n",
       "      <td>-2.660542</td>\n",
       "      <td>0.000220</td>\n",
       "      <td>0.376919</td>\n",
       "      <td>1.000000</td>\n",
       "      <td>1.000000e+00</td>\n",
       "      <td>Wnt9a</td>\n",
       "      <td>Sfrp1</td>\n",
       "      <td>cellphonedbv5</td>\n",
       "    </tr>\n",
       "    <tr>\n",
       "      <th>319550</th>\n",
       "      <td>T cell</td>\n",
       "      <td>T cell</td>\n",
       "      <td>Zpbp2</td>\n",
       "      <td>Cd80</td>\n",
       "      <td>0.056011</td>\n",
       "      <td>1.0</td>\n",
       "      <td>0.003128</td>\n",
       "      <td>-0.866478</td>\n",
       "      <td>-2.660542</td>\n",
       "      <td>0.000220</td>\n",
       "      <td>0.376919</td>\n",
       "      <td>1.000000</td>\n",
       "      <td>1.000000e+00</td>\n",
       "      <td>Zpbp2</td>\n",
       "      <td>Cd80</td>\n",
       "      <td>cellinker</td>\n",
       "    </tr>\n",
       "    <tr>\n",
       "      <th>319551</th>\n",
       "      <td>T cell</td>\n",
       "      <td>T cell</td>\n",
       "      <td>a</td>\n",
       "      <td>Atrn</td>\n",
       "      <td>0.056011</td>\n",
       "      <td>1.0</td>\n",
       "      <td>0.003128</td>\n",
       "      <td>-0.866478</td>\n",
       "      <td>-2.660542</td>\n",
       "      <td>0.000220</td>\n",
       "      <td>0.376919</td>\n",
       "      <td>1.000000</td>\n",
       "      <td>1.000000e+00</td>\n",
       "      <td>a</td>\n",
       "      <td>Atrn</td>\n",
       "      <td>baccin2019, cellinker, celltalkdb, connectomed...</td>\n",
       "    </tr>\n",
       "  </tbody>\n",
       "</table>\n",
       "<p>319552 rows × 16 columns</p>\n",
       "</div>"
      ],
      "text/plain": [
       "            source       target ligand_complex receptor_complex  lr_means  \\\n",
       "0       Fibroblast       PC/SMC         Col1a2             Cd36  2.959606   \n",
       "1       Fibroblast   Macrophage         Col1a2             Cd36  2.947967   \n",
       "2       Fibroblast       PC/SMC         Col3a1      Itga1_Itgb1  2.934171   \n",
       "3       Fibroblast  Endothelial         Col1a2             Cd36  2.874846   \n",
       "4       Fibroblast   Fibroblast            Dcn             Egfr  2.893716   \n",
       "...            ...          ...            ...              ...       ...   \n",
       "319547      T cell       T cell          Wnt9a             Lrp5  0.056011   \n",
       "319548      T cell       T cell          Wnt9a             Lrp6  0.056011   \n",
       "319549      T cell       T cell          Wnt9a            Sfrp1  0.056011   \n",
       "319550      T cell       T cell          Zpbp2             Cd80  0.056011   \n",
       "319551      T cell       T cell              a             Atrn  0.056011   \n",
       "\n",
       "        cellphone_pvals  expr_prod  scaled_weight  lr_logfc  spec_weight  \\\n",
       "0                   0.0   8.687635       1.031312  2.414536     0.097880   \n",
       "1                   0.0   8.612510       1.023153  2.770974     0.097034   \n",
       "2                   0.0   8.150819       2.075122  3.615517     0.171754   \n",
       "3                   0.0   8.140555       0.971899  2.450606     0.091716   \n",
       "4                   0.0   7.724507       1.149170  3.296879     0.184209   \n",
       "...                 ...        ...            ...       ...          ...   \n",
       "319547              1.0   0.003128      -0.866478 -2.660542     0.000220   \n",
       "319548              1.0   0.003128      -0.866478 -2.660542     0.000220   \n",
       "319549              1.0   0.003128      -0.866478 -2.660542     0.000220   \n",
       "319550              1.0   0.003128      -0.866478 -2.660542     0.000220   \n",
       "319551              1.0   0.003128      -0.866478 -2.660542     0.000220   \n",
       "\n",
       "         lrscore  specificity_rank  magnitude_rank  ligand     receptor  \\\n",
       "0       0.969586          0.000132    2.647951e-10  Col1a2         Cd36   \n",
       "1       0.969458          0.000132    1.059176e-09  Col1a2         Cd36   \n",
       "2       0.968631          0.000016    2.383138e-09  Col3a1  Itga1_Itgb1   \n",
       "3       0.968612          0.000132    6.619781e-09  Col1a2         Cd36   \n",
       "4       0.967805          0.000132    6.619781e-09     Dcn         Egfr   \n",
       "...          ...               ...             ...     ...          ...   \n",
       "319547  0.376919          1.000000    1.000000e+00   Wnt9a         Lrp5   \n",
       "319548  0.376919          1.000000    1.000000e+00   Wnt9a         Lrp6   \n",
       "319549  0.376919          1.000000    1.000000e+00   Wnt9a        Sfrp1   \n",
       "319550  0.376919          1.000000    1.000000e+00   Zpbp2         Cd80   \n",
       "319551  0.376919          1.000000    1.000000e+00       a         Atrn   \n",
       "\n",
       "                                               db_sources  \n",
       "0       baccin2019, cellinker, celltalkdb, consensus, ...  \n",
       "1       baccin2019, cellinker, celltalkdb, consensus, ...  \n",
       "2       cellphonedb, cellphonedbv5, consensus, icellne...  \n",
       "3       baccin2019, cellinker, celltalkdb, consensus, ...  \n",
       "4       baccin2019, cellinker, celltalkdb, connectomed...  \n",
       "...                                                   ...  \n",
       "319547                                cellcall, cellinker  \n",
       "319548                                cellcall, cellinker  \n",
       "319549                                      cellphonedbv5  \n",
       "319550                                          cellinker  \n",
       "319551  baccin2019, cellinker, celltalkdb, connectomed...  \n",
       "\n",
       "[319552 rows x 16 columns]"
      ]
     },
     "execution_count": 12,
     "metadata": {},
     "output_type": "execute_result"
    }
   ],
   "source": [
    "# Consensus\n",
    "li.method.show_methods()\n",
    "\n",
    "rank_aggregate(\n",
    "    adata, groupby=\"cell_type\", layer='normalized', use_raw=False, key_added=\"ccc_aggregate\",\n",
    "    return_all_lrs=True, verbose=True, n_jobs=10, resource=ccc_db[[\"ligand\", \"receptor\"]]\n",
    ")\n",
    "adata.uns[\"ccc_aggregate\"] = adata.uns[\"ccc_aggregate\"].merge(ccc_db[['ligand', 'receptor', 'db_sources']],\n",
    "                                                              left_on=[\"ligand_complex\", \"receptor_complex\"],\n",
    "                                                              right_on=['ligand','receptor'],\n",
    "                                                              how='left')\n",
    "adata.uns[\"ccc_aggregate\"]"
   ]
  },
  {
   "cell_type": "code",
   "execution_count": 13,
   "metadata": {},
   "outputs": [],
   "source": [
    "# save\n",
    "annotation = \"scDF-seuratV3-harmony-leiden_1.0\"\n",
    "adata.write(os.path.join(DATADIR,'processed',study,'py',\n",
    "                                  'cell_communication', f'{annotation}.h5ad'))"
   ]
  },
  {
   "cell_type": "markdown",
   "metadata": {},
   "source": [
    "### Non-Liana"
   ]
  },
  {
   "cell_type": "code",
   "execution_count": null,
   "metadata": {},
   "outputs": [],
   "source": [
    "### NON LIANA APPROACH\n",
    "R_preload()\n",
    "with localconverter(converter):\n",
    "    ro.globalenv[\"mouse_genes\"] = adata.var.index\n",
    "    ro.r(\"\"\"\n",
    "    # see https://neurogenomics.github.io/orthogene/articles/orthogene.html\n",
    "    genes <- orthogene::convert_orthologs(gene_df = mouse_genes,\n",
    "                                            gene_output = \"dict\",\n",
    "                                            input_species = \"mouse\",\n",
    "                                            output_species = \"human\",\n",
    "                                            non121_strategy = \"drop_input_species\",\n",
    "                                            method = \"gprofiler\") \n",
    "    mappings <- data.frame(genes,row.names=names(genes))\n",
    "    \"\"\")\n",
    "    mappings = ro.globalenv[\"mappings\"].to_dict()['genes']\n",
    "\n",
    "converted = tmp_adata[:,tmp_adata.var_names.isin([m for m in mappings])].copy()\n",
    "converted.var_names = converted.var_names.map(mappings)"
   ]
  },
  {
   "cell_type": "markdown",
   "metadata": {},
   "source": [
    "# Other DEGs Attempts\n",
    "* psuedobulking - requires replicates (https://hbctraining.github.io/scRNA-seq/lessons/pseudobulk_DESeq2_scrnaseq.html)\n",
    "    * [R] edgeR\n",
    "    * decoupleR - https://decoupler-py.readthedocs.io/en/latest/notebooks/scell/rna_psbk.html\n",
    "* single cell DEGS\n",
    "    * MAST for single cell DEGS\n",
    "    * Scanpy's Wilcoxon test "
   ]
  },
  {
   "cell_type": "code",
   "execution_count": null,
   "metadata": {},
   "outputs": [],
   "source": [
    "f = plt.figure(figsize=(30,5),layout=\"constrained\")\n",
    "ax = f.subplots(1,1)\n",
    "sc.pl.rank_genes_groups_dotplot(\n",
    "    adata_macros, groupby=\"leiden_macro\",\n",
    "    standard_scale=\"var\", n_genes=10, key=\"rank_genes_groups_macro\",\n",
    "    var_group_rotation=30, ax=ax, min_logfoldchange=2,\n",
    ")"
   ]
  },
  {
   "cell_type": "code",
   "execution_count": null,
   "metadata": {},
   "outputs": [],
   "source": [
    "# load\n",
    "study = 'paper_processed'\n",
    "annotation = \"-scDF-seuratV3-harmony-leiden1.0\"\n",
    "adata = sc.read_h5ad(os.path.join(DATADIR,'processed',study,f'py-annotated{annotation}.h5ad'))\n",
    "%load_ext rpy2.ipython\n",
    "R_preload()"
   ]
  },
  {
   "cell_type": "markdown",
   "metadata": {},
   "source": [
    "#### MAST"
   ]
  },
  {
   "cell_type": "code",
   "execution_count": null,
   "metadata": {},
   "outputs": [],
   "source": [
    "adata2 = adata.copy()\n",
    "adata2.X = adata2.layers[\"normalized\"].copy()\n",
    "\n",
    "df = pd.DataFrame.sparse.from_spmatrix(data=adata2.X, index=adata2.obs_names, columns=adata2.var_names)\n",
    "df.join(adata2.obs)\n",
    "adata_tmp = sc.AnnData(df[adata2.var_names], obs=df.drop(columns=adata2.var_names))\n",
    "\n",
    "# def prep_anndata(adata_):\n",
    "#     def fix_dtypes(adata_):\n",
    "#         for i in [adata_.X, adata_.obs_names, adata_.var_names]:\n",
    "#             print(i.shape)\n",
    "#         df = pd.DataFrame(data=adata_.X)#, index=adata_.obs_names, columns=adata_.var_names)\n",
    "#         df = df.join(adata_.obs)\n",
    "#         print(df.head())\n",
    "#         return sc.AnnData(df[adata_.var_names], obs=df.drop(columns=adata_.var_names))\n",
    "\n",
    "#     adata_ = fix_dtypes(adata_)\n",
    "#     sc.pp.filter_genes(adata_, min_cells=3)\n",
    "#     return adata_\n",
    "\n",
    "# adata_prep = prep_anndata(adata2)\n",
    "# adata_prep"
   ]
  },
  {
   "cell_type": "code",
   "execution_count": null,
   "metadata": {},
   "outputs": [],
   "source": [
    "adata_tmp"
   ]
  },
  {
   "cell_type": "markdown",
   "metadata": {},
   "source": [
    "#### PseudoBulking"
   ]
  },
  {
   "cell_type": "markdown",
   "metadata": {},
   "source": [
    "##### Attempt 2"
   ]
  },
  {
   "cell_type": "code",
   "execution_count": null,
   "metadata": {},
   "outputs": [],
   "source": [
    "with localconverter(converter):\n",
    "    ro.globalenv['sce'] = adata"
   ]
  },
  {
   "cell_type": "code",
   "execution_count": null,
   "metadata": {},
   "outputs": [],
   "source": [
    "%%R\n",
    "seurat <- as.Seurat(sce, data = NULL)\n",
    "seurat\n",
    "# counts <- GetAssayData(object = seurat, slot = \"counts\", assay = \"RNA\")"
   ]
  },
  {
   "cell_type": "markdown",
   "metadata": {},
   "source": [
    "##### Attempt 1"
   ]
  },
  {
   "cell_type": "code",
   "execution_count": null,
   "metadata": {},
   "outputs": [],
   "source": [
    "pb_adatas = []\n",
    "for cell_type in adata.obs['cell_type'].unique():\n",
    "    cell_pop = adata[adata.obs[\"cell_type\"] == cell_type].copy()\n",
    "    pb_cell_pop = sc.get.aggregate(cell_pop,by='Groups',func='sum',layer='counts')\n",
    "    pb_adata = sc.AnnData(\n",
    "        X=pb_cell_pop.layers['sum'],\n",
    "        obs=pb_cell_pop.obs,\n",
    "        var=pb_cell_pop.var.copy()\n",
    "    )\n",
    "    pb_adata.obs['cell_type'] = cell_type\n",
    "    pb_adatas.append(pb_adata)\n",
    "pb = sc.concat(pb_adatas)\n",
    "pb.obs[['Condition', 'Sample Type']] = pb.obs['Groups'].str.split('_', expand=True)\n",
    "\n",
    "counts_matrix = pb.X.T\n",
    "if hasattr(counts_matrix, 'toarray'):\n",
    "    counts_matrix = counts_matrix.toarray()\n",
    "\n",
    "print(\"pb.obs shape:\", pb.obs.shape)\n",
    "print(\"pb.obs columns:\", pb.obs.columns.tolist())\n",
    "print(\"pb.obs head:\")\n",
    "print(pb.obs.head())\n",
    "print(\"pb.X shape:\", pb.X.shape)"
   ]
  },
  {
   "cell_type": "code",
   "execution_count": null,
   "metadata": {},
   "outputs": [],
   "source": [
    "with localconverter(converter):\n",
    "    ro.globalenv['counts'] = pd.DataFrame(counts_matrix)\n",
    "    ro.globalenv['metadata'] = pb.obs\n",
    "    ro.globalenv['gene_names'] = pb.var_names.tolist()\n",
    "    ro.r(\"\"\"\n",
    "        library(edgeR)\n",
    "        library(dplyr)\n",
    "        \n",
    "        counts <- data.frame(counts)\n",
    "        # Set up count matrix with proper row/column names\n",
    "        rownames(counts) <- gene_names\n",
    "        colnames(counts) <- paste(metadata$cell_type, metadata$Groups, sep=\"_\")\n",
    "        \n",
    "        # Create sample metadata\n",
    "        samples <- data.frame(metadata, stringsAsFactors = FALSE)\n",
    "         \n",
    "        rownames(samples) <- colnames(counts)\n",
    "    \"\"\")"
   ]
  },
  {
   "cell_type": "code",
   "execution_count": null,
   "metadata": {},
   "outputs": [],
   "source": [
    "%%R\n",
    "options(max.print = 300)\n",
    "cell_type_name = \"Macrophage\"\n",
    "ct_samples <- samples[samples$cell_type == cell_type_name, ]\n",
    "ct_counts <- counts[, rownames(ct_samples), drop=FALSE]\n",
    "dge <- DGEList(counts = ct_counts, group = rownames(ct_samples))\n",
    "dge$samples$Condition <- ct_samples$Condition\n",
    "dge$samples$Sample.Type <- ct_samples$Sample.Type\n",
    "\n",
    "# Filter low expressed genes\n",
    "keep <- filterByExpr(dge)\n",
    "dge <- dge[keep,,keep.lib.sizes=FALSE]\n",
    "dge <- calcNormFactors(dge)"
   ]
  },
  {
   "cell_type": "code",
   "execution_count": null,
   "metadata": {},
   "outputs": [],
   "source": [
    "%%R\n",
    "# Create design matrix\n",
    "# design <- model.matrix(~ Condition + Sample.Type, data = dge$samples)\n",
    "\n",
    "# # Estimate dispersions\n",
    "# dge <- estimateDisp(dge, design)\n",
    "\n",
    "# # Fit GLM\n",
    "# fit <- glmFit(dge, design)\n",
    "\n",
    "model.matrix(~0 + group)"
   ]
  },
  {
   "cell_type": "code",
   "execution_count": null,
   "metadata": {},
   "outputs": [],
   "source": [
    "%%R\n",
    "lrt_condition <- glmLRT(fit, coef = \"ConditionLFD\")\n",
    "topTags(lrt_condition)"
   ]
  },
  {
   "cell_type": "code",
   "execution_count": null,
   "metadata": {},
   "outputs": [],
   "source": [
    "%%R\n",
    "# Custom contrasts:\n",
    "# contrasts <- makeContrasts(\n",
    "#     HFD_vs_LFD_in_eWAT = HFD_eWAT - LFD_eWAT,\n",
    "#     HFD_vs_LFD_in_iWAT = HFD_iWAT - LFD_iWAT, \n",
    "#     eWAT_vs_iWAT_in_HFD = HFD_eWAT - HFD_iWAT,\n",
    "#     eWAT_vs_iWAT_in_LFD = LFD_eWAT - LFD_iWAT,\n",
    "#     levels = design\n",
    "# )\n",
    "\n",
    "\n",
    "# lrt_condition <- glmLRT(fit)\n",
    "# lrt <- glmLRT(fit, contrast = contrasts[,\"HFD_vs_LFD_in_eWAT\"])\n",
    "# lrt_condition <- glmLRT(fit, coef = \"conditionLFD\")           # Main effect of diet\n",
    "# lrt_tissue <- glmLRT(fit, coef = \"sample_typeiWAT\")           # Main effect of tissue  \n",
    "# lrt_interaction <- glmLRT(fit, coef = \"conditionLFD:sample_typeiWAT\"\n",
    "colnames(design)"
   ]
  },
  {
   "cell_type": "code",
   "execution_count": null,
   "metadata": {},
   "outputs": [],
   "source": [
    "with localconverter(converter):\n",
    "    ro.globalenv['counts'] = pd.DataFrame(counts_matrix)\n",
    "    ro.globalenv['metadata'] = pb.obs\n",
    "    ro.globalenv['gene_names'] = pb.var_names.tolist()\n",
    "    ro.r(\"\"\"\n",
    "        library(edgeR)\n",
    "        library(dplyr)\n",
    "        \n",
    "        counts <- data.frame(counts)\n",
    "        # Set up count matrix with proper row/column names\n",
    "        rownames(counts) <- gene_names\n",
    "        colnames(counts) <- paste(metadata$cell_type, metadata$Groups, sep=\"_\")\n",
    "        \n",
    "        # Create sample metadata\n",
    "        samples <- data.frame(metadata, stringsAsFactors = FALSE)\n",
    "         \n",
    "        rownames(samples) <- colnames(counts)\n",
    "        \n",
    "        # Function to run EdgeR analysis for each cell type\n",
    "        run_edger_analysis <- function(cell_type_name) {\n",
    "            # Subset to specific cell type\n",
    "            ct_samples <- rownames(samples[samples$cell_type == cell_type_name, ])\n",
    "            ct_counts <- counts[, ct_samples, drop=FALSE]\n",
    "            \n",
    "            # Create DGEList\n",
    "            dge <- DGEList(counts = ct_counts, samples = ct_samples)\n",
    "            \n",
    "            # Filter low expressed genes\n",
    "            keep <- filterByExpr(dge, group = dge$samples$samples)\n",
    "            dge <- dge[keep, ]\n",
    "            \n",
    "            # Calculate normalization factors\n",
    "            dge <- calcNormFactors(dge)\n",
    "            \n",
    "            # Create design matrix\n",
    "            design <- model.matrix(~ condition + sample_type, data = dge$samples)\n",
    "            \n",
    "            # Estimate dispersions\n",
    "            dge <- estimateDisp(dge, design)\n",
    "            \n",
    "            # Fit GLM\n",
    "            fit <- glmFit(dge, design)\n",
    "            \n",
    "            # Test for condition effect (assuming condition is what you want to test)\n",
    "            lrt <- glmLRT(fit, coef = \"conditionLFD\")  # or whichever condition is reference\n",
    "            \n",
    "            # Get results\n",
    "            results <- topTags(lrt, n = Inf)\n",
    "            results_df <- as.data.frame(results$table)\n",
    "            results_df$gene <- rownames(results_df)\n",
    "            results_df$cell_type <- cell_type_name\n",
    "            \n",
    "            return(list(\n",
    "                results = results_df,\n",
    "                dge = dge,\n",
    "                fit = fit,\n",
    "                lrt = lrt\n",
    "            ))\n",
    "        }\n",
    "        \n",
    "        # Run analysis for each cell type\n",
    "        cell_types <- unique(samples$cell_type)\n",
    "        edger_results <- list()\n",
    "        \n",
    "        for(ct in cell_types) {\n",
    "            cat(\"Analyzing cell type:\", ct, \"\\n\")\n",
    "            edger_results[[ct]] <- run_edger_analysis(ct)\n",
    "        }\n",
    "        \n",
    "        # Combine all results\n",
    "        all_results <- do.call(rbind, lapply(edger_results, function(x) x$results))\n",
    "        \n",
    "        # Add FDR correction across all tests\n",
    "        all_results$FDR_global <- p.adjust(all_results$PValue, method = \"BH\")\n",
    "        \n",
    "        print(\"Analysis complete!\")\n",
    "        print(paste(\"Total DE genes (FDR < 0.05):\", sum(all_results$FDR < 0.05)))\n",
    "        print(paste(\"Total DE genes (global FDR < 0.05):\", sum(all_results$FDR_global < 0.05)))\n",
    "    \"\"\")"
   ]
  },
  {
   "cell_type": "markdown",
   "metadata": {},
   "source": [
    "# R space"
   ]
  },
  {
   "cell_type": "code",
   "execution_count": null,
   "metadata": {},
   "outputs": [],
   "source": [
    "ro.r(\"\"\"\n",
    "\n",
    "\n",
    "\n",
    "\n",
    "\n",
    "\n",
    "\n",
    "\"\"\")"
   ]
  },
  {
   "cell_type": "markdown",
   "metadata": {},
   "source": [
    "# Archive"
   ]
  },
  {
   "cell_type": "markdown",
   "metadata": {},
   "source": [
    "### CellphoneDB v5 ONLY\n",
    "* Get Database: https://github.com/ventolab/CellphoneDB/blob/master/notebooks/T0_DownloadDB.ipynb\n",
    "* Prep Data: https://github.com/ventolab/CellphoneDB/blob/master/notebooks/DEGs_calculation/0_prepare_your_data_from_anndata.ipynb\n",
    "* Run CPDB w/ statistical analysis: https://github.com/ventolab/CellphoneDB/blob/master/notebooks/T1_Method2.ipynb\n"
   ]
  },
  {
   "cell_type": "code",
   "execution_count": null,
   "metadata": {},
   "outputs": [],
   "source": [
    "tmp_adata = sc.AnnData(X=adata.layers[\"normalized\"].copy(),\n",
    "                       obs=adata.obs[[\"cell_type\",\"Groups\",\"Condition\",\"Sample Type\", \"Identifier\"]].copy(),\n",
    "                       var=pd.DataFrame(index=adata.var.index.copy()))\n",
    "\n",
    "# load\n",
    "savedir = os.path.join(DATADIR,'processed',study,'py','cellphonedb', annotation)\n",
    "\n",
    "# metadata\n",
    "print(converted.obs['cell_type'].values.describe())\n",
    "df_meta = pd.DataFrame(data={'Cell':list(converted.obs.index),\n",
    "                             'cell_type':[ i for i in converted.obs['cell_type']]\n",
    "                            })\n",
    "df_meta.set_index('Cell', inplace=True)\n",
    "\n",
    "if df_meta.columns.isin([\"barcode_sample\"])[0]:\n",
    "    assert np.all(converted.obs.index.sort_values() == df_meta[\"barcode_sample\"].sort_values())\n",
    "else:\n",
    "    assert np.all(converted.obs.index.sort_values() == df_meta.index.sort_values())\n",
    "\n",
    "# DEGs\n",
    "DEGs = sc.get.rank_genes_groups_df(adata, group=None, key='de_all')\n",
    "cond1 = DEGs['pvals_adj'] < 0.05 \n",
    "cond2 = DEGs['logfoldchanges'] > 2\n",
    "mask = [all(tup) for tup in zip(cond1, cond2)]\n",
    "fDEGs = DEGs[mask]\n",
    "fDEGs.columns = [\"cluster\", \"gene\"] + fDEGs.columns[2:].to_list()\n",
    "\n",
    "# save relevant info to folder\n",
    "converted.write(os.path.join(savedir,'counts.h5ad'))\n",
    "df_meta.to_csv(os.path.join(savedir,'metadata.tsv'), sep = '\\t')\n",
    "fDEGs.to_csv(os.path.join(savedir,'DEGs.tsv'), index=False, sep='\\t')"
   ]
  },
  {
   "cell_type": "code",
   "execution_count": null,
   "metadata": {},
   "outputs": [],
   "source": [
    "from cellphonedb.utils import db_utils\n",
    "from cellphonedb.src.core.methods import cpdb_analysis_method\n",
    "\n",
    "version = 'v5.0.0'\n",
    "cpdb_dir = os.path.join(REFDIR,f'cellphoneDB-{version}')\n",
    "if not os.path.exists(cpdb_dir):\n",
    "    print(f\"Database not found! Downloading to {cpdb_dir}\")\n",
    "    db_utils.download_database(cpdb_dir, version)\n",
    "\n",
    "cpdb_results = cpdb_analysis_method.call(\n",
    "    cpdb_file_path = os.path.join(cpdb_dir,\"cellphonedb.zip\"),          # mandatory: CellphoneDB database zip file.\n",
    "    meta_file_path = os.path.join(savedir,'metadata.tsv'),              # mandatory: tsv file defining barcodes to cell label.\n",
    "    counts_file_path = converted,             # mandatory: normalized count matrix - a path to the counts file, or an in-memory AnnData object\n",
    "    counts_data = 'hgnc_symbol',                                        # defines the gene annotation in counts matrix.\n",
    "    # microenvs_file_path = microenvs_file_path,                        # optional (default: None): defines cells per microenvironment.\n",
    "    score_interactions = True,                                          # optional: whether to score interactions or not. \n",
    "    output_path = os.path.join(savedir,'output.cpdb'),                  # Path to save results    microenvs_file_path = None,\n",
    "    separator = '|',                                                    # Sets the string to employ to separate cells in the results dataframes \"cellA|CellB\".\n",
    "    threads = 10,                                                       # number of threads to use in the analysis.\n",
    "    threshold = 0.1,                                                    # defines the min % of cells expressing a gene for this to be employed in the analysis.\n",
    "    result_precision = 3,                                               # Sets the rounding for the mean values in significan_means.\n",
    "    debug = False,                                                      # Saves all intermediate tables emplyed during the analysis in pkl format.\n",
    "    output_suffix = None                                                # Replaces the timestamp in the output files by a user defined string in the  (default: None)\n",
    ")"
   ]
  },
  {
   "cell_type": "code",
   "execution_count": null,
   "metadata": {},
   "outputs": [],
   "source": [
    "cpdb_results['interaction_scores']"
   ]
  }
 ],
 "metadata": {
  "kernelspec": {
   "display_name": ".venv",
   "language": "python",
   "name": "python3"
  },
  "language_info": {
   "codemirror_mode": {
    "name": "ipython",
    "version": 3
   },
   "file_extension": ".py",
   "mimetype": "text/x-python",
   "name": "python",
   "nbconvert_exporter": "python",
   "pygments_lexer": "ipython3",
   "version": "3.12.9"
  }
 },
 "nbformat": 4,
 "nbformat_minor": 2
}
